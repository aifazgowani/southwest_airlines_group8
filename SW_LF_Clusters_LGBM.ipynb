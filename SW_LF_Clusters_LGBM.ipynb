{
 "cells": [
  {
   "cell_type": "markdown",
   "metadata": {},
   "source": [
    "### Fix Data"
   ]
  },
  {
   "cell_type": "code",
   "execution_count": 2,
   "metadata": {},
   "outputs": [],
   "source": [
    "import pandas as pd\n",
    "import numpy as np\n",
    "import datetime\n",
    "from datetime import datetime as dt\n",
    "import matplotlib.pyplot as plt\n",
    "import seaborn as sns\n",
    "import plotly.express as px"
   ]
  },
  {
   "cell_type": "code",
   "execution_count": 3,
   "metadata": {},
   "outputs": [],
   "source": [
    "#importing the data \n",
    "df_actual = pd.read_csv('UTMSBA_ACTL.csv')\n",
    "df_schd = pd.read_csv('UTMSBA_SCHD.csv')\n",
    "df1 = df_actual.copy()\n",
    "df2 = df_schd.copy()"
   ]
  },
  {
   "cell_type": "code",
   "execution_count": 4,
   "metadata": {},
   "outputs": [],
   "source": [
    "#Added cols\n",
    "df1['pairs'] = df1['Orig'] + ' - ' + df1['Dest']"
   ]
  },
  {
   "cell_type": "code",
   "execution_count": 5,
   "metadata": {},
   "outputs": [],
   "source": [
    "#Dates\n",
    "def date_format(value):\n",
    "    value = str(value)\n",
    "    year = int(value[:4])\n",
    "    month = int(value[5:7])\n",
    "    day = int(value[8:])\n",
    "    \n",
    "    #print(year,month,day)\n",
    "    date = datetime.date(year,month, day)\n",
    "    return date \n",
    "\n",
    "df1['Dep_dt'] = df1['Dep_dt'].map(date_format)\n",
    "df1['day_of_week'] = df1['Dep_dt'].apply(lambda x: dt.weekday(x))\n",
    "\n",
    "#year_month\n",
    "def year_month(value):\n",
    "    value = str(value)\n",
    "    return str(value[:7])\n",
    "\n",
    "df1['year_month'] = df1['Dep_dt'].map(year_month)"
   ]
  },
  {
   "cell_type": "code",
   "execution_count": 6,
   "metadata": {},
   "outputs": [],
   "source": [
    "#Arrival time\n",
    "def hour_of_the_day(time):\n",
    "    time = str(time)\n",
    "    return int(time[:-2])\n",
    "\n",
    "df1['hour_out'] = df1['ACTL_TM_OUT_CENT'].map(hour_of_the_day)\n",
    "df1['hour_in'] = df1['ACTL_TM_IN_CENT'].map(hour_of_the_day)"
   ]
  },
  {
   "cell_type": "code",
   "execution_count": 7,
   "metadata": {},
   "outputs": [],
   "source": [
    "#Pull out month\n",
    "def pull_month(value):\n",
    "    value = str(value)\n",
    "    month = int(value[5:7])\n",
    "    return month\n",
    "\n",
    "df1['month'] = df1['Dep_dt'].map(pull_month)"
   ]
  },
  {
   "cell_type": "code",
   "execution_count": 8,
   "metadata": {},
   "outputs": [],
   "source": [
    "#Pull out year\n",
    "def pull_year(value):\n",
    "    value = str(value)\n",
    "    year = int(value[:4])\n",
    "    return year\n",
    "\n",
    "df1['year'] = df1['Dep_dt'].map(pull_year)"
   ]
  },
  {
   "cell_type": "code",
   "execution_count": 9,
   "metadata": {},
   "outputs": [],
   "source": [
    "#Name day of week\n",
    "import calendar\n",
    "days = list(calendar.day_abbr)\n",
    "def name_day(value): \n",
    "    return days[value]\n",
    "\n",
    "df1['day'] = df1['day_of_week'].map(name_day)"
   ]
  },
  {
   "cell_type": "code",
   "execution_count": 10,
   "metadata": {},
   "outputs": [],
   "source": [
    "#create weeks\n",
    "df1['Dep_dt'][0].strftime('%W') #first week = 35th week of the year\n",
    "df1['week_of_year'] = df1['Dep_dt'].apply(lambda x: x.strftime('%W'))"
   ]
  },
  {
   "cell_type": "code",
   "execution_count": 11,
   "metadata": {},
   "outputs": [
    {
     "data": {
      "text/html": [
       "<div>\n",
       "<style scoped>\n",
       "    .dataframe tbody tr th:only-of-type {\n",
       "        vertical-align: middle;\n",
       "    }\n",
       "\n",
       "    .dataframe tbody tr th {\n",
       "        vertical-align: top;\n",
       "    }\n",
       "\n",
       "    .dataframe thead th {\n",
       "        text-align: right;\n",
       "    }\n",
       "</style>\n",
       "<table border=\"1\" class=\"dataframe\">\n",
       "  <thead>\n",
       "    <tr style=\"text-align: right;\">\n",
       "      <th></th>\n",
       "      <th>Dep_dt</th>\n",
       "      <th>Orig</th>\n",
       "      <th>Dest</th>\n",
       "      <th>Tail</th>\n",
       "      <th>Stage_length</th>\n",
       "      <th>ACTL_TM_IN_CENT</th>\n",
       "      <th>ACTL_TM_OUT_CENT</th>\n",
       "      <th>ACFT</th>\n",
       "      <th>Actl_BM</th>\n",
       "      <th>Gross_gal</th>\n",
       "      <th>...</th>\n",
       "      <th>Tanker_gal</th>\n",
       "      <th>pairs</th>\n",
       "      <th>day_of_week</th>\n",
       "      <th>year_month</th>\n",
       "      <th>hour_out</th>\n",
       "      <th>hour_in</th>\n",
       "      <th>month</th>\n",
       "      <th>year</th>\n",
       "      <th>day</th>\n",
       "      <th>week_of_year</th>\n",
       "    </tr>\n",
       "  </thead>\n",
       "  <tbody>\n",
       "    <tr>\n",
       "      <td>0</td>\n",
       "      <td>2017-09-01</td>\n",
       "      <td>FYX</td>\n",
       "      <td>ZEY</td>\n",
       "      <td>N09303</td>\n",
       "      <td>240</td>\n",
       "      <td>1005</td>\n",
       "      <td>844</td>\n",
       "      <td>73W</td>\n",
       "      <td>81</td>\n",
       "      <td>536.3</td>\n",
       "      <td>...</td>\n",
       "      <td>0.0</td>\n",
       "      <td>FYX - ZEY</td>\n",
       "      <td>4</td>\n",
       "      <td>2017-09</td>\n",
       "      <td>8</td>\n",
       "      <td>10</td>\n",
       "      <td>9</td>\n",
       "      <td>2017</td>\n",
       "      <td>Fri</td>\n",
       "      <td>35</td>\n",
       "    </tr>\n",
       "    <tr>\n",
       "      <td>1</td>\n",
       "      <td>2017-09-01</td>\n",
       "      <td>ZEY</td>\n",
       "      <td>KMU</td>\n",
       "      <td>N09303</td>\n",
       "      <td>274</td>\n",
       "      <td>1139</td>\n",
       "      <td>1043</td>\n",
       "      <td>73W</td>\n",
       "      <td>56</td>\n",
       "      <td>1145.6</td>\n",
       "      <td>...</td>\n",
       "      <td>0.0</td>\n",
       "      <td>ZEY - KMU</td>\n",
       "      <td>4</td>\n",
       "      <td>2017-09</td>\n",
       "      <td>10</td>\n",
       "      <td>11</td>\n",
       "      <td>9</td>\n",
       "      <td>2017</td>\n",
       "      <td>Fri</td>\n",
       "      <td>35</td>\n",
       "    </tr>\n",
       "    <tr>\n",
       "      <td>2</td>\n",
       "      <td>2017-09-01</td>\n",
       "      <td>KMU</td>\n",
       "      <td>DWF</td>\n",
       "      <td>N09303</td>\n",
       "      <td>1419</td>\n",
       "      <td>1520</td>\n",
       "      <td>1221</td>\n",
       "      <td>73W</td>\n",
       "      <td>179</td>\n",
       "      <td>1923.3</td>\n",
       "      <td>...</td>\n",
       "      <td>0.0</td>\n",
       "      <td>KMU - DWF</td>\n",
       "      <td>4</td>\n",
       "      <td>2017-09</td>\n",
       "      <td>12</td>\n",
       "      <td>15</td>\n",
       "      <td>9</td>\n",
       "      <td>2017</td>\n",
       "      <td>Fri</td>\n",
       "      <td>35</td>\n",
       "    </tr>\n",
       "    <tr>\n",
       "      <td>3</td>\n",
       "      <td>2017-09-01</td>\n",
       "      <td>DWF</td>\n",
       "      <td>ZEY</td>\n",
       "      <td>N09303</td>\n",
       "      <td>1213</td>\n",
       "      <td>1838</td>\n",
       "      <td>1556</td>\n",
       "      <td>73W</td>\n",
       "      <td>162</td>\n",
       "      <td>2115.7</td>\n",
       "      <td>...</td>\n",
       "      <td>0.0</td>\n",
       "      <td>DWF - ZEY</td>\n",
       "      <td>4</td>\n",
       "      <td>2017-09</td>\n",
       "      <td>15</td>\n",
       "      <td>18</td>\n",
       "      <td>9</td>\n",
       "      <td>2017</td>\n",
       "      <td>Fri</td>\n",
       "      <td>35</td>\n",
       "    </tr>\n",
       "    <tr>\n",
       "      <td>4</td>\n",
       "      <td>2017-09-01</td>\n",
       "      <td>ZEY</td>\n",
       "      <td>FSG</td>\n",
       "      <td>N09303</td>\n",
       "      <td>1051</td>\n",
       "      <td>2140</td>\n",
       "      <td>1925</td>\n",
       "      <td>73W</td>\n",
       "      <td>135</td>\n",
       "      <td>2703.5</td>\n",
       "      <td>...</td>\n",
       "      <td>1029.7</td>\n",
       "      <td>ZEY - FSG</td>\n",
       "      <td>4</td>\n",
       "      <td>2017-09</td>\n",
       "      <td>19</td>\n",
       "      <td>21</td>\n",
       "      <td>9</td>\n",
       "      <td>2017</td>\n",
       "      <td>Fri</td>\n",
       "      <td>35</td>\n",
       "    </tr>\n",
       "  </tbody>\n",
       "</table>\n",
       "<p>5 rows × 23 columns</p>\n",
       "</div>"
      ],
      "text/plain": [
       "       Dep_dt Orig Dest    Tail  Stage_length  ACTL_TM_IN_CENT  \\\n",
       "0  2017-09-01  FYX  ZEY  N09303           240             1005   \n",
       "1  2017-09-01  ZEY  KMU  N09303           274             1139   \n",
       "2  2017-09-01  KMU  DWF  N09303          1419             1520   \n",
       "3  2017-09-01  DWF  ZEY  N09303          1213             1838   \n",
       "4  2017-09-01  ZEY  FSG  N09303          1051             2140   \n",
       "\n",
       "   ACTL_TM_OUT_CENT ACFT  Actl_BM  Gross_gal  ...  Tanker_gal      pairs  \\\n",
       "0               844  73W       81      536.3  ...         0.0  FYX - ZEY   \n",
       "1              1043  73W       56     1145.6  ...         0.0  ZEY - KMU   \n",
       "2              1221  73W      179     1923.3  ...         0.0  KMU - DWF   \n",
       "3              1556  73W      162     2115.7  ...         0.0  DWF - ZEY   \n",
       "4              1925  73W      135     2703.5  ...      1029.7  ZEY - FSG   \n",
       "\n",
       "   day_of_week  year_month hour_out  hour_in month  year  day  week_of_year  \n",
       "0            4     2017-09        8       10     9  2017  Fri            35  \n",
       "1            4     2017-09       10       11     9  2017  Fri            35  \n",
       "2            4     2017-09       12       15     9  2017  Fri            35  \n",
       "3            4     2017-09       15       18     9  2017  Fri            35  \n",
       "4            4     2017-09       19       21     9  2017  Fri            35  \n",
       "\n",
       "[5 rows x 23 columns]"
      ]
     },
     "execution_count": 11,
     "metadata": {},
     "output_type": "execute_result"
    }
   ],
   "source": [
    "df1.head()"
   ]
  },
  {
   "cell_type": "code",
   "execution_count": 12,
   "metadata": {},
   "outputs": [
    {
     "data": {
      "text/plain": [
       "array(['Dep_dt', 'Orig', 'Dest', 'Tail', 'Stage_length',\n",
       "       'ACTL_TM_IN_CENT', 'ACTL_TM_OUT_CENT', 'ACFT', 'Actl_BM',\n",
       "       'Gross_gal', 'Enroute_gal', 'Alt_gal', 'Cont_gal', 'Tanker_gal',\n",
       "       'pairs', 'day_of_week', 'year_month', 'hour_out', 'hour_in',\n",
       "       'month', 'year', 'day', 'week_of_year'], dtype=object)"
      ]
     },
     "execution_count": 12,
     "metadata": {},
     "output_type": "execute_result"
    }
   ],
   "source": [
    "df1.columns.values"
   ]
  },
  {
   "cell_type": "code",
   "execution_count": 16,
   "metadata": {},
   "outputs": [
    {
     "data": {
      "text/html": [
       "<div>\n",
       "<style scoped>\n",
       "    .dataframe tbody tr th:only-of-type {\n",
       "        vertical-align: middle;\n",
       "    }\n",
       "\n",
       "    .dataframe tbody tr th {\n",
       "        vertical-align: top;\n",
       "    }\n",
       "\n",
       "    .dataframe thead th {\n",
       "        text-align: right;\n",
       "    }\n",
       "</style>\n",
       "<table border=\"1\" class=\"dataframe\">\n",
       "  <thead>\n",
       "    <tr style=\"text-align: right;\">\n",
       "      <th></th>\n",
       "      <th>Dep_dt</th>\n",
       "      <th>Orig</th>\n",
       "      <th>Dest</th>\n",
       "      <th>Stage_length</th>\n",
       "      <th>ACFT</th>\n",
       "      <th>Schd_BM</th>\n",
       "      <th>OPNG_RTE_ID</th>\n",
       "      <th>OPNG_RTE_SEG_ID</th>\n",
       "      <th>TM_OUT_mins</th>\n",
       "    </tr>\n",
       "  </thead>\n",
       "  <tbody>\n",
       "    <tr>\n",
       "      <td>0</td>\n",
       "      <td>2017-01-01</td>\n",
       "      <td>ZMB</td>\n",
       "      <td>AIJ</td>\n",
       "      <td>767</td>\n",
       "      <td>733</td>\n",
       "      <td>140</td>\n",
       "      <td>1</td>\n",
       "      <td>0</td>\n",
       "      <td>360</td>\n",
       "    </tr>\n",
       "    <tr>\n",
       "      <td>1</td>\n",
       "      <td>2017-01-01</td>\n",
       "      <td>AIJ</td>\n",
       "      <td>LSV</td>\n",
       "      <td>252</td>\n",
       "      <td>733</td>\n",
       "      <td>60</td>\n",
       "      <td>1</td>\n",
       "      <td>1</td>\n",
       "      <td>545</td>\n",
       "    </tr>\n",
       "    <tr>\n",
       "      <td>2</td>\n",
       "      <td>2017-01-01</td>\n",
       "      <td>LSV</td>\n",
       "      <td>PUS</td>\n",
       "      <td>482</td>\n",
       "      <td>733</td>\n",
       "      <td>95</td>\n",
       "      <td>1</td>\n",
       "      <td>2</td>\n",
       "      <td>640</td>\n",
       "    </tr>\n",
       "    <tr>\n",
       "      <td>3</td>\n",
       "      <td>2017-01-01</td>\n",
       "      <td>PUS</td>\n",
       "      <td>KHG</td>\n",
       "      <td>321</td>\n",
       "      <td>733</td>\n",
       "      <td>60</td>\n",
       "      <td>1</td>\n",
       "      <td>3</td>\n",
       "      <td>770</td>\n",
       "    </tr>\n",
       "    <tr>\n",
       "      <td>4</td>\n",
       "      <td>2017-01-01</td>\n",
       "      <td>KHG</td>\n",
       "      <td>PUS</td>\n",
       "      <td>321</td>\n",
       "      <td>733</td>\n",
       "      <td>75</td>\n",
       "      <td>1</td>\n",
       "      <td>4</td>\n",
       "      <td>865</td>\n",
       "    </tr>\n",
       "  </tbody>\n",
       "</table>\n",
       "</div>"
      ],
      "text/plain": [
       "       Dep_dt Orig Dest  Stage_length ACFT  Schd_BM  OPNG_RTE_ID  \\\n",
       "0  2017-01-01  ZMB  AIJ           767  733      140            1   \n",
       "1  2017-01-01  AIJ  LSV           252  733       60            1   \n",
       "2  2017-01-01  LSV  PUS           482  733       95            1   \n",
       "3  2017-01-01  PUS  KHG           321  733       60            1   \n",
       "4  2017-01-01  KHG  PUS           321  733       75            1   \n",
       "\n",
       "   OPNG_RTE_SEG_ID  TM_OUT_mins  \n",
       "0                0          360  \n",
       "1                1          545  \n",
       "2                2          640  \n",
       "3                3          770  \n",
       "4                4          865  "
      ]
     },
     "execution_count": 16,
     "metadata": {},
     "output_type": "execute_result"
    }
   ],
   "source": [
    "df2.head()"
   ]
  },
  {
   "cell_type": "code",
   "execution_count": 17,
   "metadata": {},
   "outputs": [],
   "source": [
    "#Drop time > 27 and airports with only one flight\n",
    "df1_new = df1.drop(df1[df1['hour_out']>27].index,axis=0)"
   ]
  },
  {
   "cell_type": "code",
   "execution_count": 18,
   "metadata": {},
   "outputs": [],
   "source": [
    "a = df1_new['Orig'].value_counts()==1\n",
    "drps = list(a[a].index)"
   ]
  },
  {
   "cell_type": "code",
   "execution_count": 19,
   "metadata": {
    "scrolled": true
   },
   "outputs": [],
   "source": [
    "df1_f = df1_new.drop(df1_new[df1_new['Orig'].isin(drps)].index,axis=0)"
   ]
  },
  {
   "cell_type": "markdown",
   "metadata": {},
   "source": [
    "### Clustering"
   ]
  },
  {
   "cell_type": "code",
   "execution_count": 17,
   "metadata": {},
   "outputs": [],
   "source": [
    "#cluster using the data in df1_f\n",
    "from sklearn.cluster import MiniBatchKMeans"
   ]
  },
  {
   "cell_type": "code",
   "execution_count": 18,
   "metadata": {},
   "outputs": [],
   "source": [
    "#group airports and sum\n",
    "for_clust_sum = df1_f.groupby(['Orig'])[[ 'Actl_BM', 'Gross_gal', 'Enroute_gal',\n",
    "       'Alt_gal', 'Cont_gal', 'Tanker_gal']].sum() "
   ]
  },
  {
   "cell_type": "code",
   "execution_count": 19,
   "metadata": {},
   "outputs": [],
   "source": [
    "#group airports and calc mean values\n",
    "for_clust_mean = df1_f.groupby(['Orig'])[[ 'Actl_BM', 'Gross_gal', 'Enroute_gal',\n",
    "       'Alt_gal', 'Cont_gal', 'Tanker_gal']].mean()"
   ]
  },
  {
   "cell_type": "code",
   "execution_count": 20,
   "metadata": {},
   "outputs": [],
   "source": [
    "#group airports and calc median\n",
    "for_clust_med = df1_f.groupby(['Orig'])[[ 'Actl_BM', 'Gross_gal', 'Enroute_gal',\n",
    "       'Alt_gal', 'Cont_gal', 'Tanker_gal']].median()"
   ]
  },
  {
   "cell_type": "code",
   "execution_count": 21,
   "metadata": {},
   "outputs": [
    {
     "data": {
      "image/png": "[encoded data removed]",
      "text/plain": [
       "<Figure size 432x288 with 1 Axes>"
      ]
     },
     "metadata": {
      "needs_background": "light"
     },
     "output_type": "display_data"
    }
   ],
   "source": [
    "#Elbow plot to choose num of clusters for sum\n",
    "wcss = []\n",
    "for i in range(1, 11):\n",
    "    kmeans = MiniBatchKMeans(n_clusters=i, init='k-means++', max_iter=100, n_init=3, random_state=0)\n",
    "    kmeans.fit(for_clust_sum)\n",
    "    wcss.append(kmeans.inertia_)\n",
    "plt.plot(range(1, 11), wcss)\n",
    "plt.title('Elbow Method')\n",
    "plt.xlabel('Number of clusters')\n",
    "plt.ylabel('WCSS')\n",
    "plt.show()"
   ]
  },
  {
   "cell_type": "code",
   "execution_count": 22,
   "metadata": {},
   "outputs": [
    {
     "data": {
      "image/png": "[encoded data removed]",
      "text/plain": [
       "<Figure size 432x288 with 1 Axes>"
      ]
     },
     "metadata": {
      "needs_background": "light"
     },
     "output_type": "display_data"
    }
   ],
   "source": [
    "#Elbow plot to choose num of clusters for mean\n",
    "wcss = []\n",
    "for i in range(1, 11):\n",
    "    kmeans = MiniBatchKMeans(n_clusters=i, init='k-means++', max_iter=100, n_init=3, random_state=0)\n",
    "    kmeans.fit(for_clust_mean)\n",
    "    wcss.append(kmeans.inertia_)\n",
    "plt.plot(range(1, 11), wcss)\n",
    "plt.title('Elbow Method')\n",
    "plt.xlabel('Number of clusters')\n",
    "plt.ylabel('WCSS')\n",
    "plt.show()"
   ]
  },
  {
   "cell_type": "code",
   "execution_count": 23,
   "metadata": {},
   "outputs": [
    {
     "data": {
      "image/png": "[encoded data removed]",
      "text/plain": [
       "<Figure size 432x288 with 1 Axes>"
      ]
     },
     "metadata": {
      "needs_background": "light"
     },
     "output_type": "display_data"
    }
   ],
   "source": [
    "#Elbow plot to choose num of clusters for median\n",
    "wcss = []\n",
    "for i in range(1, 11):\n",
    "    kmeans = MiniBatchKMeans(n_clusters=i, init='k-means++', max_iter=100, n_init=3, random_state=0)\n",
    "    kmeans.fit(for_clust_med)\n",
    "    wcss.append(kmeans.inertia_)\n",
    "plt.plot(range(1, 11), wcss)\n",
    "plt.title('Elbow Method')\n",
    "plt.xlabel('Number of clusters')\n",
    "plt.ylabel('WCSS')\n",
    "plt.show()"
   ]
  },
  {
   "cell_type": "code",
   "execution_count": 24,
   "metadata": {},
   "outputs": [],
   "source": [
    "#create clusters using mean\n",
    "mean_clusters = MiniBatchKMeans(n_clusters=7, init_size=1024, batch_size=2048, random_state=20).fit_predict(for_clust_mean)\n",
    "for_clust_mean['cluster'] = pd.Series(mean_clusters, index=for_clust_mean.index)"
   ]
  },
  {
   "cell_type": "code",
   "execution_count": 25,
   "metadata": {},
   "outputs": [],
   "source": [
    "#create clusters using sum\n",
    "sum_clusters = MiniBatchKMeans(n_clusters=4, init_size=1024, batch_size=2048, random_state=20).fit_predict(for_clust_sum)\n",
    "for_clust_sum['cluster'] = pd.Series(sum_clusters, index=for_clust_sum.index)"
   ]
  },
  {
   "cell_type": "code",
   "execution_count": 26,
   "metadata": {},
   "outputs": [
    {
     "data": {
      "text/html": [
       "<div>\n",
       "<style scoped>\n",
       "    .dataframe tbody tr th:only-of-type {\n",
       "        vertical-align: middle;\n",
       "    }\n",
       "\n",
       "    .dataframe tbody tr th {\n",
       "        vertical-align: top;\n",
       "    }\n",
       "\n",
       "    .dataframe thead th {\n",
       "        text-align: right;\n",
       "    }\n",
       "</style>\n",
       "<table border=\"1\" class=\"dataframe\">\n",
       "  <thead>\n",
       "    <tr style=\"text-align: right;\">\n",
       "      <th></th>\n",
       "      <th>Actl_BM</th>\n",
       "      <th>Gross_gal</th>\n",
       "      <th>Enroute_gal</th>\n",
       "      <th>Alt_gal</th>\n",
       "      <th>Cont_gal</th>\n",
       "      <th>Tanker_gal</th>\n",
       "      <th>cluster</th>\n",
       "    </tr>\n",
       "    <tr>\n",
       "      <th>Orig</th>\n",
       "      <th></th>\n",
       "      <th></th>\n",
       "      <th></th>\n",
       "      <th></th>\n",
       "      <th></th>\n",
       "      <th></th>\n",
       "      <th></th>\n",
       "    </tr>\n",
       "  </thead>\n",
       "  <tbody>\n",
       "    <tr>\n",
       "      <td>AIB</td>\n",
       "      <td>145.216200</td>\n",
       "      <td>1841.370053</td>\n",
       "      <td>1316.299216</td>\n",
       "      <td>172.086366</td>\n",
       "      <td>237.720610</td>\n",
       "      <td>115.263064</td>\n",
       "      <td>2</td>\n",
       "    </tr>\n",
       "    <tr>\n",
       "      <td>AIJ</td>\n",
       "      <td>113.387798</td>\n",
       "      <td>1609.180129</td>\n",
       "      <td>960.660872</td>\n",
       "      <td>163.734451</td>\n",
       "      <td>233.721683</td>\n",
       "      <td>251.062662</td>\n",
       "      <td>6</td>\n",
       "    </tr>\n",
       "    <tr>\n",
       "      <td>API</td>\n",
       "      <td>51.500000</td>\n",
       "      <td>0.000000</td>\n",
       "      <td>0.000000</td>\n",
       "      <td>0.000000</td>\n",
       "      <td>0.000000</td>\n",
       "      <td>0.000000</td>\n",
       "      <td>5</td>\n",
       "    </tr>\n",
       "    <tr>\n",
       "      <td>AQL</td>\n",
       "      <td>101.148754</td>\n",
       "      <td>1018.794120</td>\n",
       "      <td>517.363476</td>\n",
       "      <td>183.866769</td>\n",
       "      <td>213.572566</td>\n",
       "      <td>103.991592</td>\n",
       "      <td>4</td>\n",
       "    </tr>\n",
       "    <tr>\n",
       "      <td>AUT</td>\n",
       "      <td>125.396993</td>\n",
       "      <td>1367.159426</td>\n",
       "      <td>928.520601</td>\n",
       "      <td>169.960983</td>\n",
       "      <td>222.344091</td>\n",
       "      <td>46.330995</td>\n",
       "      <td>6</td>\n",
       "    </tr>\n",
       "  </tbody>\n",
       "</table>\n",
       "</div>"
      ],
      "text/plain": [
       "         Actl_BM    Gross_gal  Enroute_gal     Alt_gal    Cont_gal  \\\n",
       "Orig                                                                 \n",
       "AIB   145.216200  1841.370053  1316.299216  172.086366  237.720610   \n",
       "AIJ   113.387798  1609.180129   960.660872  163.734451  233.721683   \n",
       "API    51.500000     0.000000     0.000000    0.000000    0.000000   \n",
       "AQL   101.148754  1018.794120   517.363476  183.866769  213.572566   \n",
       "AUT   125.396993  1367.159426   928.520601  169.960983  222.344091   \n",
       "\n",
       "      Tanker_gal  cluster  \n",
       "Orig                       \n",
       "AIB   115.263064        2  \n",
       "AIJ   251.062662        6  \n",
       "API     0.000000        5  \n",
       "AQL   103.991592        4  \n",
       "AUT    46.330995        6  "
      ]
     },
     "execution_count": 26,
     "metadata": {},
     "output_type": "execute_result"
    }
   ],
   "source": [
    "#for_clust_mean.head()"
   ]
  },
  {
   "cell_type": "code",
   "execution_count": 27,
   "metadata": {},
   "outputs": [
    {
     "data": {
      "text/html": [
       "<div>\n",
       "<style scoped>\n",
       "    .dataframe tbody tr th:only-of-type {\n",
       "        vertical-align: middle;\n",
       "    }\n",
       "\n",
       "    .dataframe tbody tr th {\n",
       "        vertical-align: top;\n",
       "    }\n",
       "\n",
       "    .dataframe thead th {\n",
       "        text-align: right;\n",
       "    }\n",
       "</style>\n",
       "<table border=\"1\" class=\"dataframe\">\n",
       "  <thead>\n",
       "    <tr style=\"text-align: right;\">\n",
       "      <th></th>\n",
       "      <th>Actl_BM</th>\n",
       "      <th>Gross_gal</th>\n",
       "      <th>Enroute_gal</th>\n",
       "      <th>Alt_gal</th>\n",
       "      <th>Cont_gal</th>\n",
       "      <th>Tanker_gal</th>\n",
       "      <th>cluster</th>\n",
       "    </tr>\n",
       "    <tr>\n",
       "      <th>Orig</th>\n",
       "      <th></th>\n",
       "      <th></th>\n",
       "      <th></th>\n",
       "      <th></th>\n",
       "      <th></th>\n",
       "      <th></th>\n",
       "      <th></th>\n",
       "    </tr>\n",
       "  </thead>\n",
       "  <tbody>\n",
       "    <tr>\n",
       "      <td>AIB</td>\n",
       "      <td>14172375</td>\n",
       "      <td>179708510.3</td>\n",
       "      <td>128464222</td>\n",
       "      <td>16794768.9</td>\n",
       "      <td>23200342.9</td>\n",
       "      <td>11249098.7</td>\n",
       "      <td>3</td>\n",
       "    </tr>\n",
       "    <tr>\n",
       "      <td>AIJ</td>\n",
       "      <td>17310008</td>\n",
       "      <td>245660656.9</td>\n",
       "      <td>146656410</td>\n",
       "      <td>24996028.8</td>\n",
       "      <td>35680419.6</td>\n",
       "      <td>38327728.1</td>\n",
       "      <td>1</td>\n",
       "    </tr>\n",
       "    <tr>\n",
       "      <td>API</td>\n",
       "      <td>103</td>\n",
       "      <td>0.0</td>\n",
       "      <td>0</td>\n",
       "      <td>0.0</td>\n",
       "      <td>0.0</td>\n",
       "      <td>0.0</td>\n",
       "      <td>2</td>\n",
       "    </tr>\n",
       "    <tr>\n",
       "      <td>AQL</td>\n",
       "      <td>860169</td>\n",
       "      <td>8663825.2</td>\n",
       "      <td>4399659</td>\n",
       "      <td>1563603.0</td>\n",
       "      <td>1816221.1</td>\n",
       "      <td>884344.5</td>\n",
       "      <td>2</td>\n",
       "    </tr>\n",
       "    <tr>\n",
       "      <td>AUT</td>\n",
       "      <td>1892993</td>\n",
       "      <td>20638638.7</td>\n",
       "      <td>14016947</td>\n",
       "      <td>2565731.0</td>\n",
       "      <td>3356506.4</td>\n",
       "      <td>699412.7</td>\n",
       "      <td>2</td>\n",
       "    </tr>\n",
       "  </tbody>\n",
       "</table>\n",
       "</div>"
      ],
      "text/plain": [
       "       Actl_BM    Gross_gal  Enroute_gal     Alt_gal    Cont_gal  Tanker_gal  \\\n",
       "Orig                                                                           \n",
       "AIB   14172375  179708510.3    128464222  16794768.9  23200342.9  11249098.7   \n",
       "AIJ   17310008  245660656.9    146656410  24996028.8  35680419.6  38327728.1   \n",
       "API        103          0.0            0         0.0         0.0         0.0   \n",
       "AQL     860169    8663825.2      4399659   1563603.0   1816221.1    884344.5   \n",
       "AUT    1892993   20638638.7     14016947   2565731.0   3356506.4    699412.7   \n",
       "\n",
       "      cluster  \n",
       "Orig           \n",
       "AIB         3  \n",
       "AIJ         1  \n",
       "API         2  \n",
       "AQL         2  \n",
       "AUT         2  "
      ]
     },
     "execution_count": 27,
     "metadata": {},
     "output_type": "execute_result"
    }
   ],
   "source": [
    "#for_clust_sum.head()"
   ]
  },
  {
   "cell_type": "code",
   "execution_count": 28,
   "metadata": {},
   "outputs": [
    {
     "data": {
      "text/plain": [
       "4    25\n",
       "2    25\n",
       "6    24\n",
       "0    24\n",
       "5    16\n",
       "1    11\n",
       "3     1\n",
       "Name: cluster, dtype: int64"
      ]
     },
     "execution_count": 28,
     "metadata": {},
     "output_type": "execute_result"
    }
   ],
   "source": [
    "for_clust_mean['cluster'].value_counts()"
   ]
  },
  {
   "cell_type": "code",
   "execution_count": 29,
   "metadata": {},
   "outputs": [
    {
     "data": {
      "text/plain": [
       "2    87\n",
       "0    22\n",
       "3    10\n",
       "1     7\n",
       "Name: cluster, dtype: int64"
      ]
     },
     "execution_count": 29,
     "metadata": {},
     "output_type": "execute_result"
    }
   ],
   "source": [
    "for_clust_sum['cluster'].value_counts()"
   ]
  },
  {
   "cell_type": "markdown",
   "metadata": {},
   "source": [
    "Choose to continue with for_clust_mean with 7 clusters bc more evenly distributed"
   ]
  },
  {
   "cell_type": "code",
   "execution_count": 30,
   "metadata": {},
   "outputs": [],
   "source": [
    "from sklearn.cluster import AgglomerativeClustering\n",
    "from sklearn.metrics.pairwise import pairwise_distances"
   ]
  },
  {
   "cell_type": "code",
   "execution_count": 33,
   "metadata": {},
   "outputs": [],
   "source": [
    "#agglomerative cluster - euclidean\n",
    "agg_clusters_e = AgglomerativeClustering(n_clusters=7, affinity='euclidean', linkage='ward').fit_predict(for_clust_mean)\n",
    "for_clust_mean['cluster_euclid'] = pd.Series(agg_clusters_e, index=for_clust_mean.index)"
   ]
  },
  {
   "cell_type": "code",
   "execution_count": 35,
   "metadata": {},
   "outputs": [],
   "source": [
    "#agglomerative cluster - cosine\n",
    "agg_clusters_c = AgglomerativeClustering(n_clusters=7, affinity='cosine', linkage='single').fit_predict(for_clust_mean)\n",
    "for_clust_mean['cluster_cosine'] = pd.Series(agg_clusters_c, index=for_clust_mean.index)"
   ]
  },
  {
   "cell_type": "code",
   "execution_count": 36,
   "metadata": {},
   "outputs": [
    {
     "data": {
      "text/html": [
       "<div>\n",
       "<style scoped>\n",
       "    .dataframe tbody tr th:only-of-type {\n",
       "        vertical-align: middle;\n",
       "    }\n",
       "\n",
       "    .dataframe tbody tr th {\n",
       "        vertical-align: top;\n",
       "    }\n",
       "\n",
       "    .dataframe thead th {\n",
       "        text-align: right;\n",
       "    }\n",
       "</style>\n",
       "<table border=\"1\" class=\"dataframe\">\n",
       "  <thead>\n",
       "    <tr style=\"text-align: right;\">\n",
       "      <th></th>\n",
       "      <th>Actl_BM</th>\n",
       "      <th>Gross_gal</th>\n",
       "      <th>Enroute_gal</th>\n",
       "      <th>Alt_gal</th>\n",
       "      <th>Cont_gal</th>\n",
       "      <th>Tanker_gal</th>\n",
       "      <th>cluster</th>\n",
       "      <th>cluster_euclid</th>\n",
       "      <th>cluster_cosine</th>\n",
       "    </tr>\n",
       "    <tr>\n",
       "      <th>Orig</th>\n",
       "      <th></th>\n",
       "      <th></th>\n",
       "      <th></th>\n",
       "      <th></th>\n",
       "      <th></th>\n",
       "      <th></th>\n",
       "      <th></th>\n",
       "      <th></th>\n",
       "      <th></th>\n",
       "    </tr>\n",
       "  </thead>\n",
       "  <tbody>\n",
       "    <tr>\n",
       "      <td>AIB</td>\n",
       "      <td>145.216200</td>\n",
       "      <td>1841.370053</td>\n",
       "      <td>1316.299216</td>\n",
       "      <td>172.086366</td>\n",
       "      <td>237.720610</td>\n",
       "      <td>115.263064</td>\n",
       "      <td>2</td>\n",
       "      <td>0</td>\n",
       "      <td>0</td>\n",
       "    </tr>\n",
       "    <tr>\n",
       "      <td>AIJ</td>\n",
       "      <td>113.387798</td>\n",
       "      <td>1609.180129</td>\n",
       "      <td>960.660872</td>\n",
       "      <td>163.734451</td>\n",
       "      <td>233.721683</td>\n",
       "      <td>251.062662</td>\n",
       "      <td>6</td>\n",
       "      <td>0</td>\n",
       "      <td>0</td>\n",
       "    </tr>\n",
       "    <tr>\n",
       "      <td>API</td>\n",
       "      <td>51.500000</td>\n",
       "      <td>0.000000</td>\n",
       "      <td>0.000000</td>\n",
       "      <td>0.000000</td>\n",
       "      <td>0.000000</td>\n",
       "      <td>0.000000</td>\n",
       "      <td>5</td>\n",
       "      <td>4</td>\n",
       "      <td>1</td>\n",
       "    </tr>\n",
       "    <tr>\n",
       "      <td>AQL</td>\n",
       "      <td>101.148754</td>\n",
       "      <td>1018.794120</td>\n",
       "      <td>517.363476</td>\n",
       "      <td>183.866769</td>\n",
       "      <td>213.572566</td>\n",
       "      <td>103.991592</td>\n",
       "      <td>4</td>\n",
       "      <td>3</td>\n",
       "      <td>0</td>\n",
       "    </tr>\n",
       "    <tr>\n",
       "      <td>AUT</td>\n",
       "      <td>125.396993</td>\n",
       "      <td>1367.159426</td>\n",
       "      <td>928.520601</td>\n",
       "      <td>169.960983</td>\n",
       "      <td>222.344091</td>\n",
       "      <td>46.330995</td>\n",
       "      <td>6</td>\n",
       "      <td>1</td>\n",
       "      <td>0</td>\n",
       "    </tr>\n",
       "  </tbody>\n",
       "</table>\n",
       "</div>"
      ],
      "text/plain": [
       "         Actl_BM    Gross_gal  Enroute_gal     Alt_gal    Cont_gal  \\\n",
       "Orig                                                                 \n",
       "AIB   145.216200  1841.370053  1316.299216  172.086366  237.720610   \n",
       "AIJ   113.387798  1609.180129   960.660872  163.734451  233.721683   \n",
       "API    51.500000     0.000000     0.000000    0.000000    0.000000   \n",
       "AQL   101.148754  1018.794120   517.363476  183.866769  213.572566   \n",
       "AUT   125.396993  1367.159426   928.520601  169.960983  222.344091   \n",
       "\n",
       "      Tanker_gal  cluster  cluster_euclid  cluster_cosine  \n",
       "Orig                                                       \n",
       "AIB   115.263064        2               0               0  \n",
       "AIJ   251.062662        6               0               0  \n",
       "API     0.000000        5               4               1  \n",
       "AQL   103.991592        4               3               0  \n",
       "AUT    46.330995        6               1               0  "
      ]
     },
     "execution_count": 36,
     "metadata": {},
     "output_type": "execute_result"
    }
   ],
   "source": [
    "#for_clust_mean.head()"
   ]
  },
  {
   "cell_type": "code",
   "execution_count": 38,
   "metadata": {},
   "outputs": [
    {
     "data": {
      "text/plain": [
       "1    34\n",
       "0    31\n",
       "3    19\n",
       "4    16\n",
       "6    15\n",
       "2    10\n",
       "5     1\n",
       "Name: cluster_euclid, dtype: int64"
      ]
     },
     "execution_count": 38,
     "metadata": {},
     "output_type": "execute_result"
    }
   ],
   "source": [
    "for_clust_mean['cluster_euclid'].value_counts()"
   ]
  },
  {
   "cell_type": "code",
   "execution_count": 39,
   "metadata": {},
   "outputs": [
    {
     "data": {
      "text/plain": [
       "0    116\n",
       "1      5\n",
       "6      1\n",
       "5      1\n",
       "4      1\n",
       "3      1\n",
       "2      1\n",
       "Name: cluster_cosine, dtype: int64"
      ]
     },
     "execution_count": 39,
     "metadata": {},
     "output_type": "execute_result"
    }
   ],
   "source": [
    "for_clust_mean['cluster_cosine'].value_counts()"
   ]
  },
  {
   "cell_type": "code",
   "execution_count": 37,
   "metadata": {},
   "outputs": [],
   "source": [
    "#to csv\n",
    "for_clust_mean.to_csv(\"Mean Clusts_Agg.csv\")"
   ]
  },
  {
   "cell_type": "markdown",
   "metadata": {},
   "source": [
    "### LightGBM"
   ]
  },
  {
   "cell_type": "code",
   "execution_count": 20,
   "metadata": {},
   "outputs": [],
   "source": [
    "from sklearn.preprocessing import LabelEncoder\n",
    "from sklearn.preprocessing import MinMaxScaler\n",
    "from sklearn.metrics import mean_squared_error\n",
    "from sklearn.utils import shuffle\n",
    "from sklearn import model_selection\n",
    "from sklearn.linear_model import LogisticRegression\n",
    "from subprocess import check_output\n",
    "from sklearn.model_selection import train_test_split\n",
    "from sklearn import preprocessing\n",
    "import statsmodels.api as sm\n",
    "#import xgboost as xgb\n",
    "import lightgbm as lgb\n",
    "\n",
    "#import warnings\n",
    "#warnings.filterwarnings(\"ignore\")"
   ]
  },
  {
   "cell_type": "markdown",
   "metadata": {},
   "source": [
    "#### Prep data"
   ]
  },
  {
   "cell_type": "code",
   "execution_count": 21,
   "metadata": {},
   "outputs": [],
   "source": [
    "clusters = pd.read_csv(\"Mean Clusts_Agg.csv\")"
   ]
  },
  {
   "cell_type": "code",
   "execution_count": 34,
   "metadata": {},
   "outputs": [],
   "source": [
    "clusters = clusters.drop(['Actl_BM','Gross_gal','Enroute_gal','Alt_gal','Cont_gal','Tanker_gal'],axis = 1)"
   ]
  },
  {
   "cell_type": "code",
   "execution_count": 29,
   "metadata": {},
   "outputs": [],
   "source": [
    "#creating columns to match Aifaz\n",
    "df1_f['Dep_dt']= pd.to_datetime(df1['Dep_dt']) \n",
    "df1_f['year'] = df1['Dep_dt'].dt.year\n",
    "df1_f['day_of_year'] = df1['Dep_dt'].dt.dayofyear\n",
    "#df1['weekday'] = df1['Dep_dt'].dt.weekday\n",
    "#df1['week_of_year'] = df1['Dep_dt'].dt.week\n",
    "df1_f['day_of_month'] = df1['Dep_dt'].dt.day\n",
    "df1_f['quarter'] = df1['Dep_dt'].dt.quarter\n",
    "#df1.drop('activation_date', axis=1, inplace=True)"
   ]
  },
  {
   "cell_type": "code",
   "execution_count": 30,
   "metadata": {},
   "outputs": [
    {
     "data": {
      "text/plain": [
       "Index(['Dep_dt', 'Orig', 'Dest', 'Tail', 'Stage_length', 'ACTL_TM_IN_CENT',\n",
       "       'ACTL_TM_OUT_CENT', 'ACFT', 'Actl_BM', 'Gross_gal', 'Enroute_gal',\n",
       "       'Alt_gal', 'Cont_gal', 'Tanker_gal', 'pairs', 'day_of_week',\n",
       "       'year_month', 'hour_out', 'hour_in', 'month', 'year', 'day',\n",
       "       'week_of_year', 'day_of_year', 'day_of_month', 'quarter'],\n",
       "      dtype='object')"
      ]
     },
     "execution_count": 30,
     "metadata": {},
     "output_type": "execute_result"
    }
   ],
   "source": [
    "df1_f.columns"
   ]
  },
  {
   "cell_type": "code",
   "execution_count": 31,
   "metadata": {},
   "outputs": [],
   "source": [
    "df1_f = df1_f.drop('day',axis=1)"
   ]
  },
  {
   "cell_type": "code",
   "execution_count": 36,
   "metadata": {},
   "outputs": [],
   "source": [
    "#merge with clusters file\n",
    "df1_wc = df1_f.merge(clusters, how='left',on='Orig')"
   ]
  },
  {
   "cell_type": "code",
   "execution_count": 39,
   "metadata": {},
   "outputs": [
    {
     "data": {
      "text/html": [
       "<div>\n",
       "<style scoped>\n",
       "    .dataframe tbody tr th:only-of-type {\n",
       "        vertical-align: middle;\n",
       "    }\n",
       "\n",
       "    .dataframe tbody tr th {\n",
       "        vertical-align: top;\n",
       "    }\n",
       "\n",
       "    .dataframe thead th {\n",
       "        text-align: right;\n",
       "    }\n",
       "</style>\n",
       "<table border=\"1\" class=\"dataframe\">\n",
       "  <thead>\n",
       "    <tr style=\"text-align: right;\">\n",
       "      <th></th>\n",
       "      <th>Dep_dt</th>\n",
       "      <th>Orig</th>\n",
       "      <th>Dest</th>\n",
       "      <th>Tail</th>\n",
       "      <th>Stage_length</th>\n",
       "      <th>ACTL_TM_IN_CENT</th>\n",
       "      <th>ACTL_TM_OUT_CENT</th>\n",
       "      <th>ACFT</th>\n",
       "      <th>Actl_BM</th>\n",
       "      <th>Gross_gal</th>\n",
       "      <th>...</th>\n",
       "      <th>hour_in</th>\n",
       "      <th>month</th>\n",
       "      <th>year</th>\n",
       "      <th>week_of_year</th>\n",
       "      <th>day_of_year</th>\n",
       "      <th>day_of_month</th>\n",
       "      <th>quarter</th>\n",
       "      <th>cluster</th>\n",
       "      <th>cluster_euclid</th>\n",
       "      <th>cluster_cosine</th>\n",
       "    </tr>\n",
       "  </thead>\n",
       "  <tbody>\n",
       "    <tr>\n",
       "      <td>0</td>\n",
       "      <td>2017-09-01</td>\n",
       "      <td>FYX</td>\n",
       "      <td>ZEY</td>\n",
       "      <td>N09303</td>\n",
       "      <td>240</td>\n",
       "      <td>1005</td>\n",
       "      <td>844</td>\n",
       "      <td>73W</td>\n",
       "      <td>81</td>\n",
       "      <td>536.3</td>\n",
       "      <td>...</td>\n",
       "      <td>10</td>\n",
       "      <td>9</td>\n",
       "      <td>2017</td>\n",
       "      <td>35</td>\n",
       "      <td>244</td>\n",
       "      <td>1</td>\n",
       "      <td>3</td>\n",
       "      <td>4</td>\n",
       "      <td>3</td>\n",
       "      <td>0</td>\n",
       "    </tr>\n",
       "    <tr>\n",
       "      <td>1</td>\n",
       "      <td>2017-09-01</td>\n",
       "      <td>ZEY</td>\n",
       "      <td>KMU</td>\n",
       "      <td>N09303</td>\n",
       "      <td>274</td>\n",
       "      <td>1139</td>\n",
       "      <td>1043</td>\n",
       "      <td>73W</td>\n",
       "      <td>56</td>\n",
       "      <td>1145.6</td>\n",
       "      <td>...</td>\n",
       "      <td>11</td>\n",
       "      <td>9</td>\n",
       "      <td>2017</td>\n",
       "      <td>35</td>\n",
       "      <td>244</td>\n",
       "      <td>1</td>\n",
       "      <td>3</td>\n",
       "      <td>2</td>\n",
       "      <td>0</td>\n",
       "      <td>0</td>\n",
       "    </tr>\n",
       "    <tr>\n",
       "      <td>2</td>\n",
       "      <td>2017-09-01</td>\n",
       "      <td>KMU</td>\n",
       "      <td>DWF</td>\n",
       "      <td>N09303</td>\n",
       "      <td>1419</td>\n",
       "      <td>1520</td>\n",
       "      <td>1221</td>\n",
       "      <td>73W</td>\n",
       "      <td>179</td>\n",
       "      <td>1923.3</td>\n",
       "      <td>...</td>\n",
       "      <td>15</td>\n",
       "      <td>9</td>\n",
       "      <td>2017</td>\n",
       "      <td>35</td>\n",
       "      <td>244</td>\n",
       "      <td>1</td>\n",
       "      <td>3</td>\n",
       "      <td>6</td>\n",
       "      <td>1</td>\n",
       "      <td>0</td>\n",
       "    </tr>\n",
       "    <tr>\n",
       "      <td>3</td>\n",
       "      <td>2017-09-01</td>\n",
       "      <td>DWF</td>\n",
       "      <td>ZEY</td>\n",
       "      <td>N09303</td>\n",
       "      <td>1213</td>\n",
       "      <td>1838</td>\n",
       "      <td>1556</td>\n",
       "      <td>73W</td>\n",
       "      <td>162</td>\n",
       "      <td>2115.7</td>\n",
       "      <td>...</td>\n",
       "      <td>18</td>\n",
       "      <td>9</td>\n",
       "      <td>2017</td>\n",
       "      <td>35</td>\n",
       "      <td>244</td>\n",
       "      <td>1</td>\n",
       "      <td>3</td>\n",
       "      <td>6</td>\n",
       "      <td>1</td>\n",
       "      <td>0</td>\n",
       "    </tr>\n",
       "    <tr>\n",
       "      <td>4</td>\n",
       "      <td>2017-09-01</td>\n",
       "      <td>ZEY</td>\n",
       "      <td>FSG</td>\n",
       "      <td>N09303</td>\n",
       "      <td>1051</td>\n",
       "      <td>2140</td>\n",
       "      <td>1925</td>\n",
       "      <td>73W</td>\n",
       "      <td>135</td>\n",
       "      <td>2703.5</td>\n",
       "      <td>...</td>\n",
       "      <td>21</td>\n",
       "      <td>9</td>\n",
       "      <td>2017</td>\n",
       "      <td>35</td>\n",
       "      <td>244</td>\n",
       "      <td>1</td>\n",
       "      <td>3</td>\n",
       "      <td>2</td>\n",
       "      <td>0</td>\n",
       "      <td>0</td>\n",
       "    </tr>\n",
       "  </tbody>\n",
       "</table>\n",
       "<p>5 rows × 28 columns</p>\n",
       "</div>"
      ],
      "text/plain": [
       "      Dep_dt Orig Dest    Tail  Stage_length  ACTL_TM_IN_CENT  \\\n",
       "0 2017-09-01  FYX  ZEY  N09303           240             1005   \n",
       "1 2017-09-01  ZEY  KMU  N09303           274             1139   \n",
       "2 2017-09-01  KMU  DWF  N09303          1419             1520   \n",
       "3 2017-09-01  DWF  ZEY  N09303          1213             1838   \n",
       "4 2017-09-01  ZEY  FSG  N09303          1051             2140   \n",
       "\n",
       "   ACTL_TM_OUT_CENT ACFT  Actl_BM  Gross_gal  ...  hour_in  month  year  \\\n",
       "0               844  73W       81      536.3  ...       10      9  2017   \n",
       "1              1043  73W       56     1145.6  ...       11      9  2017   \n",
       "2              1221  73W      179     1923.3  ...       15      9  2017   \n",
       "3              1556  73W      162     2115.7  ...       18      9  2017   \n",
       "4              1925  73W      135     2703.5  ...       21      9  2017   \n",
       "\n",
       "   week_of_year day_of_year  day_of_month quarter  cluster  cluster_euclid  \\\n",
       "0            35         244             1       3        4               3   \n",
       "1            35         244             1       3        2               0   \n",
       "2            35         244             1       3        6               1   \n",
       "3            35         244             1       3        6               1   \n",
       "4            35         244             1       3        2               0   \n",
       "\n",
       "   cluster_cosine  \n",
       "0               0  \n",
       "1               0  \n",
       "2               0  \n",
       "3               0  \n",
       "4               0  \n",
       "\n",
       "[5 rows x 28 columns]"
      ]
     },
     "execution_count": 39,
     "metadata": {},
     "output_type": "execute_result"
    }
   ],
   "source": [
    "df1_wc.head()"
   ]
  },
  {
   "cell_type": "markdown",
   "metadata": {},
   "source": [
    "#### Run lightgbm"
   ]
  },
  {
   "cell_type": "code",
   "execution_count": 41,
   "metadata": {},
   "outputs": [],
   "source": [
    "#keep only the cluster type that you want to use - here we will use kmeans cluster ouput 'cluster' \n",
    "#drop the euclid and cosine clusters\n",
    "df1_gbm = df1_wc.drop(['cluster_euclid','cluster_cosine'], axis=1)\n",
    "df1_gbm.columns"
   ]
  },
  {
   "cell_type": "code",
   "execution_count": 43,
   "metadata": {},
   "outputs": [
    {
     "data": {
      "text/plain": [
       "Index(['Dep_dt', 'Orig', 'Dest', 'Tail', 'Stage_length', 'ACTL_TM_IN_CENT',\n",
       "       'ACTL_TM_OUT_CENT', 'ACFT', 'Actl_BM', 'Gross_gal', 'Enroute_gal',\n",
       "       'Alt_gal', 'Cont_gal', 'Tanker_gal', 'pairs', 'day_of_week',\n",
       "       'year_month', 'hour_out', 'hour_in', 'month', 'year', 'week_of_year',\n",
       "       'day_of_year', 'day_of_month', 'quarter', 'cluster'],\n",
       "      dtype='object')"
      ]
     },
     "execution_count": 43,
     "metadata": {},
     "output_type": "execute_result"
    }
   ],
   "source": [
    "df1_gbm.columns"
   ]
  },
  {
   "cell_type": "code",
   "execution_count": 46,
   "metadata": {},
   "outputs": [
    {
     "data": {
      "text/plain": [
       "Index(['Orig', 'Dest', 'Tail', 'ACFT', 'pairs', 'year_month', 'week_of_year'], dtype='object')"
      ]
     },
     "execution_count": 46,
     "metadata": {},
     "output_type": "execute_result"
    }
   ],
   "source": [
    "cat_columns = df1_gbm.dtypes[df1_gbm.dtypes == 'object'].index\n",
    "cat_columns"
   ]
  },
  {
   "cell_type": "code",
   "execution_count": 47,
   "metadata": {},
   "outputs": [],
   "source": [
    "#encode and fill any NAs\n",
    "label_encoder = preprocessing.LabelEncoder()\n",
    "\n",
    "for col in cat_columns:\n",
    "    df1_gbm[col].fillna(\"unknown\")\n",
    "    df1_gbm[col] = label_encoder.fit_transform(df1_gbm[col].astype(str))"
   ]
  },
  {
   "cell_type": "code",
   "execution_count": 81,
   "metadata": {},
   "outputs": [
    {
     "ename": "ValueError",
     "evalue": "The truth value of an array with more than one element is ambiguous. Use a.any() or a.all()",
     "output_type": "error",
     "traceback": [
      "\u001b[1;31m---------------------------------------------------------------------------\u001b[0m",
      "\u001b[1;31mValueError\u001b[0m                                Traceback (most recent call last)",
      "\u001b[1;32m<ipython-input-81-1cbcfd653ed7>\u001b[0m in \u001b[0;36m<module>\u001b[1;34m\u001b[0m\n\u001b[0;32m     35\u001b[0m     \u001b[0mvalid_names\u001b[0m\u001b[1;33m=\u001b[0m\u001b[1;33m[\u001b[0m\u001b[1;34m\"train\"\u001b[0m\u001b[1;33m,\u001b[0m \u001b[1;34m\"valid\"\u001b[0m\u001b[1;33m]\u001b[0m\u001b[1;33m,\u001b[0m\u001b[1;33m\u001b[0m\u001b[1;33m\u001b[0m\u001b[0m\n\u001b[0;32m     36\u001b[0m     \u001b[0mearly_stopping_rounds\u001b[0m\u001b[1;33m=\u001b[0m\u001b[1;36m500\u001b[0m\u001b[1;33m,\u001b[0m\u001b[1;33m\u001b[0m\u001b[1;33m\u001b[0m\u001b[0m\n\u001b[1;32m---> 37\u001b[1;33m     \u001b[0mverbose_eval\u001b[0m\u001b[1;33m=\u001b[0m\u001b[1;36m500\u001b[0m\u001b[1;33m\u001b[0m\u001b[1;33m\u001b[0m\u001b[0m\n\u001b[0m\u001b[0;32m     38\u001b[0m )\n\u001b[0;32m     39\u001b[0m \u001b[0mprint\u001b[0m\u001b[1;33m(\u001b[0m\u001b[1;34m\"RMSE of the validation set:\"\u001b[0m\u001b[1;33m,\u001b[0m \u001b[0mnp\u001b[0m\u001b[1;33m.\u001b[0m\u001b[0msqrt\u001b[0m\u001b[1;33m(\u001b[0m\u001b[0mmean_squared_error\u001b[0m\u001b[1;33m(\u001b[0m\u001b[0my_valid\u001b[0m\u001b[1;33m,\u001b[0m \u001b[0mlgb_clf\u001b[0m\u001b[1;33m.\u001b[0m\u001b[0mpredict\u001b[0m\u001b[1;33m(\u001b[0m\u001b[0mX_valid\u001b[0m\u001b[1;33m)\u001b[0m\u001b[1;33m)\u001b[0m\u001b[1;33m)\u001b[0m\u001b[1;33m)\u001b[0m\u001b[1;33m\u001b[0m\u001b[1;33m\u001b[0m\u001b[0m\n",
      "\u001b[1;32m~\\Anaconda2\\envs\\Python 3\\lib\\site-packages\\lightgbm\\engine.py\u001b[0m in \u001b[0;36mtrain\u001b[1;34m(params, train_set, num_boost_round, valid_sets, valid_names, fobj, feval, init_model, feature_name, categorical_feature, early_stopping_rounds, evals_result, verbose_eval, learning_rates, keep_training_booster, callbacks)\u001b[0m\n\u001b[0;32m    171\u001b[0m              \u001b[1;33m.\u001b[0m\u001b[0m_set_predictor\u001b[0m\u001b[1;33m(\u001b[0m\u001b[0mpredictor\u001b[0m\u001b[1;33m)\u001b[0m\u001b[0;31m \u001b[0m\u001b[0;31m\\\u001b[0m\u001b[1;33m\u001b[0m\u001b[1;33m\u001b[0m\u001b[0m\n\u001b[0;32m    172\u001b[0m              \u001b[1;33m.\u001b[0m\u001b[0mset_feature_name\u001b[0m\u001b[1;33m(\u001b[0m\u001b[0mfeature_name\u001b[0m\u001b[1;33m)\u001b[0m\u001b[0;31m \u001b[0m\u001b[0;31m\\\u001b[0m\u001b[1;33m\u001b[0m\u001b[1;33m\u001b[0m\u001b[0m\n\u001b[1;32m--> 173\u001b[1;33m              \u001b[1;33m.\u001b[0m\u001b[0mset_categorical_feature\u001b[0m\u001b[1;33m(\u001b[0m\u001b[0mcategorical_feature\u001b[0m\u001b[1;33m)\u001b[0m\u001b[1;33m\u001b[0m\u001b[1;33m\u001b[0m\u001b[0m\n\u001b[0m\u001b[0;32m    174\u001b[0m \u001b[1;33m\u001b[0m\u001b[0m\n\u001b[0;32m    175\u001b[0m     \u001b[0mis_valid_contain_train\u001b[0m \u001b[1;33m=\u001b[0m \u001b[1;32mFalse\u001b[0m\u001b[1;33m\u001b[0m\u001b[1;33m\u001b[0m\u001b[0m\n",
      "\u001b[1;32m~\\Anaconda2\\envs\\Python 3\\lib\\site-packages\\lightgbm\\basic.py\u001b[0m in \u001b[0;36mset_categorical_feature\u001b[1;34m(self, categorical_feature)\u001b[0m\n\u001b[0;32m   1234\u001b[0m             \u001b[0mDataset\u001b[0m \u001b[1;32mwith\u001b[0m \u001b[0mset\u001b[0m \u001b[0mcategorical\u001b[0m \u001b[0mfeatures\u001b[0m\u001b[1;33m.\u001b[0m\u001b[1;33m\u001b[0m\u001b[1;33m\u001b[0m\u001b[0m\n\u001b[0;32m   1235\u001b[0m         \"\"\"\n\u001b[1;32m-> 1236\u001b[1;33m         \u001b[1;32mif\u001b[0m \u001b[0mself\u001b[0m\u001b[1;33m.\u001b[0m\u001b[0mcategorical_feature\u001b[0m \u001b[1;33m==\u001b[0m \u001b[0mcategorical_feature\u001b[0m\u001b[1;33m:\u001b[0m\u001b[1;33m\u001b[0m\u001b[1;33m\u001b[0m\u001b[0m\n\u001b[0m\u001b[0;32m   1237\u001b[0m             \u001b[1;32mreturn\u001b[0m \u001b[0mself\u001b[0m\u001b[1;33m\u001b[0m\u001b[1;33m\u001b[0m\u001b[0m\n\u001b[0;32m   1238\u001b[0m         \u001b[1;32mif\u001b[0m \u001b[0mself\u001b[0m\u001b[1;33m.\u001b[0m\u001b[0mdata\u001b[0m \u001b[1;32mis\u001b[0m \u001b[1;32mnot\u001b[0m \u001b[1;32mNone\u001b[0m\u001b[1;33m:\u001b[0m\u001b[1;33m\u001b[0m\u001b[1;33m\u001b[0m\u001b[0m\n",
      "\u001b[1;31mValueError\u001b[0m: The truth value of an array with more than one element is ambiguous. Use a.any() or a.all()"
     ]
    }
   ],
   "source": [
    "#Model by cluster (0)\n",
    "grp = df1_gbm[df1_gbm['cluster'] == 0]\n",
    "grp = grp[grp.Gross_gal.between(grp.Gross_gal.quantile(.000), grp.Gross_gal.quantile(.95))] # without outliers\n",
    "\n",
    "X = grp.drop(['Dep_dt','Gross_gal', 'Enroute_gal','Alt_gal', 'Cont_gal', 'Tanker_gal', 'pairs','ACTL_TM_IN_CENT',\n",
    "       'ACTL_TM_OUT_CENT','Actl_BM'], axis=1)\n",
    "y = grp.Gross_gal\n",
    "feature_names = X.columns.tolist()\n",
    "\n",
    "X_train, X_valid, y_train, y_valid = train_test_split(\n",
    "    X, y, test_size=0.25, random_state=42)\n",
    "    \n",
    "# LightGBM dataset formatting \n",
    "lgtrain = lgb.Dataset(X_train, y_train,\n",
    "                feature_name=feature_names,\n",
    "                categorical_feature = cat_columns)\n",
    "lgvalid = lgb.Dataset(X_valid, y_valid,\n",
    "                feature_name=feature_names,\n",
    "                categorical_feature = cat_columns)\n",
    "\n",
    "params = {\n",
    "    'objective' : 'regression',\n",
    "    'metric' : 'rmse',\n",
    "    'num_leaves' : 40,\n",
    "    'max_depth': 20,\n",
    "    'learning_rate' : 0.01,\n",
    "    'feature_fraction' : 0.6,\n",
    "    'verbosity' : -1,\n",
    "    'num_iterations': 20000\n",
    "}\n",
    "lgb_clf = lgb.train(\n",
    "    params,\n",
    "    lgtrain,\n",
    "    valid_sets=[lgtrain, lgvalid],\n",
    "    valid_names=[\"train\", \"valid\"],\n",
    "    early_stopping_rounds=500,\n",
    "    verbose_eval=500\n",
    ")\n",
    "print(\"RMSE of the validation set:\", np.sqrt(mean_squared_error(y_valid, lgb_clf.predict(X_valid))))\n"
   ]
  },
  {
   "cell_type": "code",
   "execution_count": 66,
   "metadata": {},
   "outputs": [
    {
     "data": {
      "text/plain": [
       "164716"
      ]
     },
     "execution_count": 66,
     "metadata": {},
     "output_type": "execute_result"
    }
   ],
   "source": [
    "len(grp)"
   ]
  },
  {
   "cell_type": "code",
   "execution_count": 67,
   "metadata": {},
   "outputs": [
    {
     "data": {
      "text/plain": [
       "173386"
      ]
     },
     "execution_count": 67,
     "metadata": {},
     "output_type": "execute_result"
    }
   ],
   "source": [
    "len(df1_gbm[(df1_gbm['cluster'] == 0)])"
   ]
  },
  {
   "cell_type": "code",
   "execution_count": 73,
   "metadata": {},
   "outputs": [
    {
     "data": {
      "text/plain": [
       "['Orig',\n",
       " 'Dest',\n",
       " 'Tail',\n",
       " 'Stage_length',\n",
       " 'ACFT',\n",
       " 'day_of_week',\n",
       " 'year_month',\n",
       " 'hour_out',\n",
       " 'hour_in',\n",
       " 'month',\n",
       " 'year',\n",
       " 'week_of_year',\n",
       " 'day_of_year',\n",
       " 'day_of_month',\n",
       " 'quarter',\n",
       " 'cluster']"
      ]
     },
     "execution_count": 73,
     "metadata": {},
     "output_type": "execute_result"
    }
   ],
   "source": [
    "feature_names"
   ]
  },
  {
   "cell_type": "code",
   "execution_count": 78,
   "metadata": {},
   "outputs": [
    {
     "data": {
      "text/plain": [
       "Index(['Orig', 'Dest', 'Tail', 'ACFT', 'pairs', 'year_month', 'week_of_year'], dtype='object')"
      ]
     },
     "execution_count": 78,
     "metadata": {},
     "output_type": "execute_result"
    }
   ],
   "source": [
    "cat_columns"
   ]
  },
  {
   "cell_type": "code",
   "execution_count": 79,
   "metadata": {},
   "outputs": [
    {
     "data": {
      "text/plain": [
       "['Orig', 'Dest', 'Tail', 'ACFT', 'pairs', 'year_month', 'week_of_year']"
      ]
     },
     "execution_count": 79,
     "metadata": {},
     "output_type": "execute_result"
    }
   ],
   "source": [
    "cat_columns.tolist()"
   ]
  },
  {
   "cell_type": "code",
   "execution_count": 87,
   "metadata": {},
   "outputs": [
    {
     "data": {
      "text/plain": [
       "<lightgbm.basic.Dataset at 0x1368d002bc8>"
      ]
     },
     "execution_count": 87,
     "metadata": {},
     "output_type": "execute_result"
    }
   ],
   "source": [
    "lgtrain"
   ]
  },
  {
   "cell_type": "code",
   "execution_count": null,
   "metadata": {},
   "outputs": [],
   "source": []
  }
 ],
 "metadata": {
  "kernelspec": {
   "display_name": "Python 3",
   "language": "python",
   "name": "python3"
  },
  "language_info": {
   "codemirror_mode": {
    "name": "ipython",
    "version": 3
   },
   "file_extension": ".py",
   "mimetype": "text/x-python",
   "name": "python",
   "nbconvert_exporter": "python",
   "pygments_lexer": "ipython3",
   "version": "3.7.4"
  }
 },
 "nbformat": 4,
 "nbformat_minor": 2
}
