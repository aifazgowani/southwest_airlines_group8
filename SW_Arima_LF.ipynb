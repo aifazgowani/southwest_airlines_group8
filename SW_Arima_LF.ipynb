{
 "cells": [
  {
   "cell_type": "markdown",
   "metadata": {},
   "source": [
    "### Fix Data"
   ]
  },
  {
   "cell_type": "code",
   "execution_count": 1,
   "metadata": {},
   "outputs": [],
   "source": [
    "import pandas as pd\n",
    "import numpy as np\n",
    "import datetime\n",
    "from datetime import datetime as dt\n",
    "import matplotlib.pyplot as plt\n",
    "import seaborn as sns\n",
    "import plotly.express as px"
   ]
  },
  {
   "cell_type": "code",
   "execution_count": 3,
   "metadata": {},
   "outputs": [],
   "source": [
    "#importing the data \n",
    "df_actual = pd.read_csv('UTMSBA_ACTL.csv')\n",
    "#df_schd = pd.read_csv('UTMSBA_SCHD.csv')\n",
    "df1 = df_actual.copy()\n",
    "#df2 = df_schd.copy()"
   ]
  },
  {
   "cell_type": "code",
   "execution_count": 4,
   "metadata": {},
   "outputs": [],
   "source": [
    "#Added cols\n",
    "df1['pairs'] = df1['Orig'] + ' - ' + df1['Dest']"
   ]
  },
  {
   "cell_type": "code",
   "execution_count": 5,
   "metadata": {},
   "outputs": [],
   "source": [
    "#Dates\n",
    "def date_format(value):\n",
    "    value = str(value)\n",
    "    year = int(value[:4])\n",
    "    month = int(value[5:7])\n",
    "    day = int(value[8:])\n",
    "    \n",
    "    #print(year,month,day)\n",
    "    date = datetime.date(year,month, day)\n",
    "    return date \n",
    "\n",
    "df1['Dep_dt'] = df1['Dep_dt'].map(date_format)\n",
    "df1['day_of_week'] = df1['Dep_dt'].apply(lambda x: dt.weekday(x))\n",
    "\n",
    "#year_month\n",
    "def year_month(value):\n",
    "    value = str(value)\n",
    "    return str(value[:7])\n",
    "\n",
    "df1['year_month'] = df1['Dep_dt'].map(year_month)"
   ]
  },
  {
   "cell_type": "code",
   "execution_count": 6,
   "metadata": {},
   "outputs": [],
   "source": [
    "#Arrival time\n",
    "def hour_of_the_day(time):\n",
    "    time = str(time)\n",
    "    return int(time[:-2])\n",
    "\n",
    "df1['hour_out'] = df1['ACTL_TM_OUT_CENT'].map(hour_of_the_day)\n",
    "df1['hour_in'] = df1['ACTL_TM_IN_CENT'].map(hour_of_the_day)"
   ]
  },
  {
   "cell_type": "code",
   "execution_count": 7,
   "metadata": {},
   "outputs": [],
   "source": [
    "#Pull out month\n",
    "def pull_month(value):\n",
    "    value = str(value)\n",
    "    month = int(value[5:7])\n",
    "    return month\n",
    "\n",
    "df1['month'] = df1['Dep_dt'].map(pull_month)"
   ]
  },
  {
   "cell_type": "code",
   "execution_count": 36,
   "metadata": {},
   "outputs": [],
   "source": [
    "#Pull out year\n",
    "def pull_year(value):\n",
    "    value = str(value)\n",
    "    year = int(value[:4])\n",
    "    return year\n",
    "\n",
    "df1['year'] = df1['Dep_dt'].map(pull_year)"
   ]
  },
  {
   "cell_type": "code",
   "execution_count": 8,
   "metadata": {},
   "outputs": [],
   "source": [
    "#Name day of week\n",
    "import calendar\n",
    "days = list(calendar.day_abbr)\n",
    "def name_day(value): \n",
    "    return days[value]\n",
    "\n",
    "df1['day'] = df1['day_of_week'].map(name_day)"
   ]
  },
  {
   "cell_type": "code",
   "execution_count": 34,
   "metadata": {},
   "outputs": [],
   "source": [
    "#create weeks\n",
    "df1['Dep_dt'][0].strftime('%W') #first week = 35th week of the year\n",
    "df1['week_of_year'] = df1['Dep_dt'].apply(lambda x: x.strftime('%W'))"
   ]
  },
  {
   "cell_type": "code",
   "execution_count": 37,
   "metadata": {},
   "outputs": [
    {
     "data": {
      "text/html": [
       "<div>\n",
       "<style scoped>\n",
       "    .dataframe tbody tr th:only-of-type {\n",
       "        vertical-align: middle;\n",
       "    }\n",
       "\n",
       "    .dataframe tbody tr th {\n",
       "        vertical-align: top;\n",
       "    }\n",
       "\n",
       "    .dataframe thead th {\n",
       "        text-align: right;\n",
       "    }\n",
       "</style>\n",
       "<table border=\"1\" class=\"dataframe\">\n",
       "  <thead>\n",
       "    <tr style=\"text-align: right;\">\n",
       "      <th></th>\n",
       "      <th>Dep_dt</th>\n",
       "      <th>Orig</th>\n",
       "      <th>Dest</th>\n",
       "      <th>Tail</th>\n",
       "      <th>Stage_length</th>\n",
       "      <th>ACTL_TM_IN_CENT</th>\n",
       "      <th>ACTL_TM_OUT_CENT</th>\n",
       "      <th>ACFT</th>\n",
       "      <th>Actl_BM</th>\n",
       "      <th>Gross_gal</th>\n",
       "      <th>...</th>\n",
       "      <th>Tanker_gal</th>\n",
       "      <th>pairs</th>\n",
       "      <th>day_of_week</th>\n",
       "      <th>year_month</th>\n",
       "      <th>hour_out</th>\n",
       "      <th>hour_in</th>\n",
       "      <th>month</th>\n",
       "      <th>day</th>\n",
       "      <th>week_of_year</th>\n",
       "      <th>year</th>\n",
       "    </tr>\n",
       "  </thead>\n",
       "  <tbody>\n",
       "    <tr>\n",
       "      <td>0</td>\n",
       "      <td>2017-09-01</td>\n",
       "      <td>FYX</td>\n",
       "      <td>ZEY</td>\n",
       "      <td>N09303</td>\n",
       "      <td>240</td>\n",
       "      <td>1005</td>\n",
       "      <td>844</td>\n",
       "      <td>73W</td>\n",
       "      <td>81</td>\n",
       "      <td>536.3</td>\n",
       "      <td>...</td>\n",
       "      <td>0.0</td>\n",
       "      <td>FYX - ZEY</td>\n",
       "      <td>4</td>\n",
       "      <td>2017-09</td>\n",
       "      <td>8</td>\n",
       "      <td>10</td>\n",
       "      <td>9</td>\n",
       "      <td>Fri</td>\n",
       "      <td>35</td>\n",
       "      <td>2017</td>\n",
       "    </tr>\n",
       "    <tr>\n",
       "      <td>1</td>\n",
       "      <td>2017-09-01</td>\n",
       "      <td>ZEY</td>\n",
       "      <td>KMU</td>\n",
       "      <td>N09303</td>\n",
       "      <td>274</td>\n",
       "      <td>1139</td>\n",
       "      <td>1043</td>\n",
       "      <td>73W</td>\n",
       "      <td>56</td>\n",
       "      <td>1145.6</td>\n",
       "      <td>...</td>\n",
       "      <td>0.0</td>\n",
       "      <td>ZEY - KMU</td>\n",
       "      <td>4</td>\n",
       "      <td>2017-09</td>\n",
       "      <td>10</td>\n",
       "      <td>11</td>\n",
       "      <td>9</td>\n",
       "      <td>Fri</td>\n",
       "      <td>35</td>\n",
       "      <td>2017</td>\n",
       "    </tr>\n",
       "    <tr>\n",
       "      <td>2</td>\n",
       "      <td>2017-09-01</td>\n",
       "      <td>KMU</td>\n",
       "      <td>DWF</td>\n",
       "      <td>N09303</td>\n",
       "      <td>1419</td>\n",
       "      <td>1520</td>\n",
       "      <td>1221</td>\n",
       "      <td>73W</td>\n",
       "      <td>179</td>\n",
       "      <td>1923.3</td>\n",
       "      <td>...</td>\n",
       "      <td>0.0</td>\n",
       "      <td>KMU - DWF</td>\n",
       "      <td>4</td>\n",
       "      <td>2017-09</td>\n",
       "      <td>12</td>\n",
       "      <td>15</td>\n",
       "      <td>9</td>\n",
       "      <td>Fri</td>\n",
       "      <td>35</td>\n",
       "      <td>2017</td>\n",
       "    </tr>\n",
       "    <tr>\n",
       "      <td>3</td>\n",
       "      <td>2017-09-01</td>\n",
       "      <td>DWF</td>\n",
       "      <td>ZEY</td>\n",
       "      <td>N09303</td>\n",
       "      <td>1213</td>\n",
       "      <td>1838</td>\n",
       "      <td>1556</td>\n",
       "      <td>73W</td>\n",
       "      <td>162</td>\n",
       "      <td>2115.7</td>\n",
       "      <td>...</td>\n",
       "      <td>0.0</td>\n",
       "      <td>DWF - ZEY</td>\n",
       "      <td>4</td>\n",
       "      <td>2017-09</td>\n",
       "      <td>15</td>\n",
       "      <td>18</td>\n",
       "      <td>9</td>\n",
       "      <td>Fri</td>\n",
       "      <td>35</td>\n",
       "      <td>2017</td>\n",
       "    </tr>\n",
       "    <tr>\n",
       "      <td>4</td>\n",
       "      <td>2017-09-01</td>\n",
       "      <td>ZEY</td>\n",
       "      <td>FSG</td>\n",
       "      <td>N09303</td>\n",
       "      <td>1051</td>\n",
       "      <td>2140</td>\n",
       "      <td>1925</td>\n",
       "      <td>73W</td>\n",
       "      <td>135</td>\n",
       "      <td>2703.5</td>\n",
       "      <td>...</td>\n",
       "      <td>1029.7</td>\n",
       "      <td>ZEY - FSG</td>\n",
       "      <td>4</td>\n",
       "      <td>2017-09</td>\n",
       "      <td>19</td>\n",
       "      <td>21</td>\n",
       "      <td>9</td>\n",
       "      <td>Fri</td>\n",
       "      <td>35</td>\n",
       "      <td>2017</td>\n",
       "    </tr>\n",
       "  </tbody>\n",
       "</table>\n",
       "<p>5 rows × 23 columns</p>\n",
       "</div>"
      ],
      "text/plain": [
       "       Dep_dt Orig Dest    Tail  Stage_length  ACTL_TM_IN_CENT  \\\n",
       "0  2017-09-01  FYX  ZEY  N09303           240             1005   \n",
       "1  2017-09-01  ZEY  KMU  N09303           274             1139   \n",
       "2  2017-09-01  KMU  DWF  N09303          1419             1520   \n",
       "3  2017-09-01  DWF  ZEY  N09303          1213             1838   \n",
       "4  2017-09-01  ZEY  FSG  N09303          1051             2140   \n",
       "\n",
       "   ACTL_TM_OUT_CENT ACFT  Actl_BM  Gross_gal  ...  Tanker_gal      pairs  \\\n",
       "0               844  73W       81      536.3  ...         0.0  FYX - ZEY   \n",
       "1              1043  73W       56     1145.6  ...         0.0  ZEY - KMU   \n",
       "2              1221  73W      179     1923.3  ...         0.0  KMU - DWF   \n",
       "3              1556  73W      162     2115.7  ...         0.0  DWF - ZEY   \n",
       "4              1925  73W      135     2703.5  ...      1029.7  ZEY - FSG   \n",
       "\n",
       "   day_of_week  year_month hour_out  hour_in month  day  week_of_year  year  \n",
       "0            4     2017-09        8       10     9  Fri            35  2017  \n",
       "1            4     2017-09       10       11     9  Fri            35  2017  \n",
       "2            4     2017-09       12       15     9  Fri            35  2017  \n",
       "3            4     2017-09       15       18     9  Fri            35  2017  \n",
       "4            4     2017-09       19       21     9  Fri            35  2017  \n",
       "\n",
       "[5 rows x 23 columns]"
      ]
     },
     "execution_count": 37,
     "metadata": {},
     "output_type": "execute_result"
    }
   ],
   "source": [
    "df1.head()"
   ]
  },
  {
   "cell_type": "markdown",
   "metadata": {},
   "source": [
    "### ARIMA"
   ]
  },
  {
   "cell_type": "code",
   "execution_count": 12,
   "metadata": {},
   "outputs": [],
   "source": [
    "# #Check trends across day and month\n",
    "# sample = df1.sample(10000)\n",
    "# px.box(sample, x=\"day\", y=\"Gross_gal\")\n",
    "# px.box(sample, x=\"month\", y=\"Gross_gal\")\n",
    "# #similar plots across both"
   ]
  },
  {
   "cell_type": "code",
   "execution_count": 13,
   "metadata": {},
   "outputs": [],
   "source": [
    "from statsmodels.tsa.arima_model import ARIMA\n",
    "from statsmodels.graphics.tsaplots import plot_acf\n",
    "from statsmodels.graphics.tsaplots import plot_pacf\n",
    "from statsmodels.tsa.stattools import adfuller"
   ]
  },
  {
   "cell_type": "code",
   "execution_count": 53,
   "metadata": {},
   "outputs": [],
   "source": [
    "#use single year of data for single origin\n",
    "origin_set = df1[df1['Orig'] =='FYX']\n",
    "og_set = origin_set[origin_set['year'] == 2018]\n",
    "origin_gals = og_set.groupby(['week_of_year'])['Gross_gal'].sum()[:45]"
   ]
  },
  {
   "cell_type": "code",
   "execution_count": 54,
   "metadata": {},
   "outputs": [
    {
     "data": {
      "text/plain": [
       "week_of_year\n",
       "01    313386.4\n",
       "02    288370.5\n",
       "03    289873.8\n",
       "04    308820.1\n",
       "05    273954.6\n",
       "06    235927.9\n",
       "07    279661.2\n",
       "08    298136.4\n",
       "09    277385.1\n",
       "10    270161.6\n",
       "11    286451.0\n",
       "12    292418.5\n",
       "13    254404.6\n",
       "14    274639.6\n",
       "15    294899.7\n",
       "16    290224.4\n",
       "17    289348.7\n",
       "18    286405.7\n",
       "19    274774.5\n",
       "20    345339.1\n",
       "21    317114.4\n",
       "22    254460.3\n",
       "23    318749.5\n",
       "24    328381.3\n",
       "25    323185.4\n",
       "26    377715.5\n",
       "27    373574.4\n",
       "28    463680.6\n",
       "29    440860.2\n",
       "30    441727.9\n",
       "31    478111.7\n",
       "32    396485.4\n",
       "33    389531.0\n",
       "34    359607.6\n",
       "35    355075.0\n",
       "36    337571.1\n",
       "37    319104.8\n",
       "38    328465.5\n",
       "39    301948.1\n",
       "40    375916.9\n",
       "41    332179.4\n",
       "42    294522.0\n",
       "43    260878.9\n",
       "44    267300.5\n",
       "45    289832.7\n",
       "Name: Gross_gal, dtype: float64"
      ]
     },
     "execution_count": 54,
     "metadata": {},
     "output_type": "execute_result"
    }
   ],
   "source": [
    "origin_gals"
   ]
  },
  {
   "cell_type": "code",
   "execution_count": 55,
   "metadata": {},
   "outputs": [
    {
     "name": "stdout",
     "output_type": "stream",
     "text": [
      "ADF Statistic: -2.093428377568069\n",
      "p-value: 0.24716528155319556\n"
     ]
    }
   ],
   "source": [
    "#AD Fuller test to check if data stationary (if p > .05 then not stationary and need to difference)\n",
    "result = adfuller(origin_gals.dropna())\n",
    "print('ADF Statistic:', result[0])\n",
    "print('p-value:', result[1])"
   ]
  },
  {
   "cell_type": "code",
   "execution_count": 56,
   "metadata": {},
   "outputs": [
    {
     "data": {
      "image/png": "[encoded data removed]",
      "text/plain": [
       "<Figure size 720x720 with 3 Axes>"
      ]
     },
     "metadata": {
      "needs_background": "light"
     },
     "output_type": "display_data"
    }
   ],
   "source": [
    "#plot autocorr. to see how to difference\n",
    "fig = plt.figure(figsize=(10,10))\n",
    "ax1 = fig.add_subplot(311)\n",
    "fig = plot_acf(origin_gals, ax=ax1, title=\"Autocorrelation on Original Series\") \n",
    "ax2 = fig.add_subplot(312)\n",
    "fig = plot_acf(origin_gals.diff().dropna(), ax=ax2, title=\"1st Order Differencing\")\n",
    "ax3 = fig.add_subplot(313)\n",
    "fig = plot_acf(origin_gals.diff().diff().dropna(), ax=ax3, title=\"2nd Order Differencing\")"
   ]
  },
  {
   "cell_type": "code",
   "execution_count": 46,
   "metadata": {},
   "outputs": [],
   "source": [
    "# #Choose p and q (# of points > sig. level)\n",
    "# lag = 50\n",
    "# #p using partial autocorr.\n",
    "# plot_pacf(origin_gals.diff().dropna(), lags=lag)\n",
    "# plt.show()\n",
    "\n",
    "# #q using autocorr.\n",
    "# plot_acf(origin_gals.diff().dropna())\n",
    "# plt.show()"
   ]
  },
  {
   "cell_type": "code",
   "execution_count": 57,
   "metadata": {},
   "outputs": [
    {
     "name": "stderr",
     "output_type": "stream",
     "text": [
      "C:\\Users\\lasha\\Anaconda2\\envs\\Python 3\\lib\\site-packages\\statsmodels\\tsa\\base\\tsa_model.py:215: ValueWarning:\n",
      "\n",
      "An unsupported index was provided and will be ignored when e.g. forecasting.\n",
      "\n",
      "C:\\Users\\lasha\\Anaconda2\\envs\\Python 3\\lib\\site-packages\\statsmodels\\tsa\\base\\tsa_model.py:215: ValueWarning:\n",
      "\n",
      "An unsupported index was provided and will be ignored when e.g. forecasting.\n",
      "\n"
     ]
    },
    {
     "data": {
      "text/html": [
       "<table class=\"simpletable\">\n",
       "<caption>ARIMA Model Results</caption>\n",
       "<tr>\n",
       "  <th>Dep. Variable:</th>    <td>D.Gross_gal</td>   <th>  No. Observations:  </th>    <td>44</td>    \n",
       "</tr>\n",
       "<tr>\n",
       "  <th>Model:</th>          <td>ARIMA(1, 1, 1)</td>  <th>  Log Likelihood     </th> <td>-521.963</td> \n",
       "</tr>\n",
       "<tr>\n",
       "  <th>Method:</th>             <td>css-mle</td>     <th>  S.D. of innovations</th> <td>34303.468</td>\n",
       "</tr>\n",
       "<tr>\n",
       "  <th>Date:</th>          <td>Sun, 23 Feb 2020</td> <th>  AIC                </th> <td>1051.926</td> \n",
       "</tr>\n",
       "<tr>\n",
       "  <th>Time:</th>              <td>20:19:37</td>     <th>  BIC                </th> <td>1059.063</td> \n",
       "</tr>\n",
       "<tr>\n",
       "  <th>Sample:</th>                <td>1</td>        <th>  HQIC               </th> <td>1054.573</td> \n",
       "</tr>\n",
       "<tr>\n",
       "  <th></th>                       <td> </td>        <th>                     </th>     <td> </td>    \n",
       "</tr>\n",
       "</table>\n",
       "<table class=\"simpletable\">\n",
       "<tr>\n",
       "          <td></td>             <th>coef</th>     <th>std err</th>      <th>z</th>      <th>P>|z|</th>  <th>[0.025</th>    <th>0.975]</th>  \n",
       "</tr>\n",
       "<tr>\n",
       "  <th>const</th>             <td> -513.7873</td> <td> 3782.607</td> <td>   -0.136</td> <td> 0.893</td> <td>-7927.561</td> <td> 6899.986</td>\n",
       "</tr>\n",
       "<tr>\n",
       "  <th>ar.L1.D.Gross_gal</th> <td>    0.0304</td> <td>    0.407</td> <td>    0.075</td> <td> 0.941</td> <td>   -0.768</td> <td>    0.829</td>\n",
       "</tr>\n",
       "<tr>\n",
       "  <th>ma.L1.D.Gross_gal</th> <td>   -0.2972</td> <td>    0.375</td> <td>   -0.793</td> <td> 0.433</td> <td>   -1.032</td> <td>    0.438</td>\n",
       "</tr>\n",
       "</table>\n",
       "<table class=\"simpletable\">\n",
       "<caption>Roots</caption>\n",
       "<tr>\n",
       "    <td></td>   <th>            Real</th>  <th>         Imaginary</th> <th>         Modulus</th>  <th>        Frequency</th>\n",
       "</tr>\n",
       "<tr>\n",
       "  <th>AR.1</th> <td>          32.9428</td> <td>          +0.0000j</td> <td>          32.9428</td> <td>           0.0000</td>\n",
       "</tr>\n",
       "<tr>\n",
       "  <th>MA.1</th> <td>           3.3650</td> <td>          +0.0000j</td> <td>           3.3650</td> <td>           0.0000</td>\n",
       "</tr>\n",
       "</table>"
      ],
      "text/plain": [
       "<class 'statsmodels.iolib.summary.Summary'>\n",
       "\"\"\"\n",
       "                             ARIMA Model Results                              \n",
       "==============================================================================\n",
       "Dep. Variable:            D.Gross_gal   No. Observations:                   44\n",
       "Model:                 ARIMA(1, 1, 1)   Log Likelihood                -521.963\n",
       "Method:                       css-mle   S.D. of innovations          34303.468\n",
       "Date:                Sun, 23 Feb 2020   AIC                           1051.926\n",
       "Time:                        20:19:37   BIC                           1059.063\n",
       "Sample:                             1   HQIC                          1054.573\n",
       "                                                                              \n",
       "=====================================================================================\n",
       "                        coef    std err          z      P>|z|      [0.025      0.975]\n",
       "-------------------------------------------------------------------------------------\n",
       "const              -513.7873   3782.607     -0.136      0.893   -7927.561    6899.986\n",
       "ar.L1.D.Gross_gal     0.0304      0.407      0.075      0.941      -0.768       0.829\n",
       "ma.L1.D.Gross_gal    -0.2972      0.375     -0.793      0.433      -1.032       0.438\n",
       "                                    Roots                                    \n",
       "=============================================================================\n",
       "                  Real          Imaginary           Modulus         Frequency\n",
       "-----------------------------------------------------------------------------\n",
       "AR.1           32.9428           +0.0000j           32.9428            0.0000\n",
       "MA.1            3.3650           +0.0000j            3.3650            0.0000\n",
       "-----------------------------------------------------------------------------\n",
       "\"\"\""
      ]
     },
     "execution_count": 57,
     "metadata": {},
     "output_type": "execute_result"
    }
   ],
   "source": [
    "#Model\n",
    "model = ARIMA(origin_gals, order=(1, 1, 1))\n",
    "results = model.fit()\n",
    "results.summary()"
   ]
  },
  {
   "cell_type": "code",
   "execution_count": 62,
   "metadata": {},
   "outputs": [
    {
     "name": "stderr",
     "output_type": "stream",
     "text": [
      "C:\\Users\\lasha\\Anaconda2\\envs\\Python 3\\lib\\site-packages\\statsmodels\\tsa\\base\\tsa_model.py:576: ValueWarning:\n",
      "\n",
      "No supported index is available. Prediction results will be given with an integer index beginning at `start`.\n",
      "\n",
      "C:\\Users\\lasha\\Anaconda2\\envs\\Python 3\\lib\\site-packages\\statsmodels\\tsa\\base\\tsa_model.py:576: ValueWarning:\n",
      "\n",
      "No supported index is available. Prediction results will be given with an integer index beginning at `start`.\n",
      "\n",
      "C:\\Users\\lasha\\Anaconda2\\envs\\Python 3\\lib\\site-packages\\statsmodels\\tsa\\base\\tsa_model.py:576: ValueWarning:\n",
      "\n",
      "No supported index is available. Prediction results will be given with an integer index beginning at `start`.\n",
      "\n"
     ]
    },
    {
     "data": {
      "image/png": "[encoded data removed]",
      "text/plain": [
       "<Figure size 432x288 with 1 Axes>"
      ]
     },
     "metadata": {
      "needs_background": "light"
     },
     "output_type": "display_data"
    }
   ],
   "source": [
    "graph = results.plot_predict(1, 52)\n",
    "plt.show()"
   ]
  },
  {
   "cell_type": "code",
   "execution_count": null,
   "metadata": {},
   "outputs": [],
   "source": []
  }
 ],
 "metadata": {
  "kernelspec": {
   "display_name": "Python 3",
   "language": "python",
   "name": "python3"
  },
  "language_info": {
   "codemirror_mode": {
    "name": "ipython",
    "version": 3
   },
   "file_extension": ".py",
   "mimetype": "text/x-python",
   "name": "python",
   "nbconvert_exporter": "python",
   "pygments_lexer": "ipython3",
   "version": "3.7.4"
  }
 },
 "nbformat": 4,
 "nbformat_minor": 2
}
