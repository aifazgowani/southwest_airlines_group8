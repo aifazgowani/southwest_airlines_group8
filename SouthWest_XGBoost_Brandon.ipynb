{
 "cells": [
  {
   "cell_type": "code",
   "execution_count": 605,
   "metadata": {},
   "outputs": [],
   "source": [
    "import pandas as pd \n",
    "import xgboost as xgb\n",
    "import numpy as np\n",
    "import matplotlib.pyplot as plt\n",
    "from sklearn.model_selection import train_test_split\n",
    "from sklearn.model_selection import GridSearchCV\n",
    "from sklearn.metrics import mean_squared_error\n",
    "import warnings\n",
    "warnings.filterwarnings(\"ignore\")"
   ]
  },
  {
   "cell_type": "code",
   "execution_count": 606,
   "metadata": {},
   "outputs": [],
   "source": [
    "# import the data\n",
    "df_actual = pd.read_csv('UTMSBA_ACTL.csv')\n",
    "df_schd = pd.read_csv('UTMSBA_SCHD.csv')\n",
    "df_fuel = pd.read_csv('UTMSBA_FUELPRICE.csv')"
   ]
  },
  {
   "cell_type": "code",
   "execution_count": 607,
   "metadata": {},
   "outputs": [],
   "source": [
    "# get the month and year for merging purposes, drop the date\n",
    "def get_month_year(x):\n",
    "    month = int(x[5:7])\n",
    "    year = int(x[:4])\n",
    "    return month,year\n",
    "\n",
    "df_actual['month'] = df_actual['Dep_dt'].copy()\n",
    "df_actual['month'] = df_actual['month'].map(get_month_year)\n",
    "\n",
    "df_fuel['month'] = df_fuel['Date'].copy()\n",
    "df_fuel['month'] = df_fuel['month'].map(get_month_year)\n",
    "\n",
    "df_actual.drop('Dep_dt',axis=1,inplace=True)"
   ]
  },
  {
   "cell_type": "markdown",
   "metadata": {},
   "source": [
    "# Split and Aggregate the Data by Quantile"
   ]
  },
  {
   "cell_type": "code",
   "execution_count": 608,
   "metadata": {},
   "outputs": [],
   "source": [
    "# find and order the airports by the number of fights, add log flights as a column\n",
    "df_count = df_actual['Orig'].value_counts().reset_index()\n",
    "df_count['log count'] = np.log(df_count['Orig'])"
   ]
  },
  {
   "cell_type": "code",
   "execution_count": 609,
   "metadata": {},
   "outputs": [
    {
     "data": {
      "text/plain": [
       "<matplotlib.axes._subplots.AxesSubplot at 0x17d16dc7908>"
      ]
     },
     "execution_count": 609,
     "metadata": {},
     "output_type": "execute_result"
    },
    {
     "data": {
      "image/png": "[encoded data removed]",
      "text/plain": [
       "<Figure size 432x288 with 1 Axes>"
      ]
     },
     "metadata": {
      "needs_background": "light"
     },
     "output_type": "display_data"
    }
   ],
   "source": [
    "df_count['Orig'].plot()"
   ]
  },
  {
   "cell_type": "code",
   "execution_count": 610,
   "metadata": {},
   "outputs": [
    {
     "data": {
      "text/plain": [
       "<matplotlib.axes._subplots.AxesSubplot at 0x17c3310a860>"
      ]
     },
     "execution_count": 610,
     "metadata": {},
     "output_type": "execute_result"
    },
    {
     "data": {
      "image/png": "[encoded data removed]",
      "text/plain": [
       "<Figure size 432x288 with 1 Axes>"
      ]
     },
     "metadata": {
      "needs_background": "light"
     },
     "output_type": "display_data"
    }
   ],
   "source": [
    "df_count['log count'].plot()"
   ]
  },
  {
   "cell_type": "code",
   "execution_count": 611,
   "metadata": {},
   "outputs": [],
   "source": [
    "# based on the plots above, split into 3 quantiles\n",
    "quant1 = df_count[:47]\n",
    "quant2 = df_count[47:104]\n",
    "quant3 = df_count[104:]"
   ]
  },
  {
   "cell_type": "code",
   "execution_count": 612,
   "metadata": {},
   "outputs": [],
   "source": [
    "# split up the data sets\n",
    "df_quant1 = df_actual[df_actual['Orig'].isin(list(quant1['index']))]\n",
    "df_quant2 = df_actual[df_actual['Orig'].isin(list(quant2['index']))]\n",
    "df_quant3 = df_actual[df_actual['Orig'].isin(list(quant3['index']))]"
   ]
  },
  {
   "cell_type": "markdown",
   "metadata": {},
   "source": [
    "# Make the Data Monthly by Quantile"
   ]
  },
  {
   "cell_type": "code",
   "execution_count": 732,
   "metadata": {},
   "outputs": [],
   "source": [
    "# define function to one-hot-encode\n",
    "def one_hot_encode(data):\n",
    "    \n",
    "    # one-hot-encode orig\n",
    "    one_hot = pd.get_dummies(data['Orig'])\n",
    "    data_ret = data.drop('Orig',axis = 1)\n",
    "    data_ret = data_ret.join(one_hot.add_suffix('_orig'))\n",
    "    \n",
    "    # one-hot-encode dest\n",
    "    one_hot = pd.get_dummies(data['Dest'])\n",
    "    data_ret = data_ret.drop('Dest',axis = 1)\n",
    "    data_ret = data_ret.join(one_hot.add_suffix('_dest'))\n",
    "    \n",
    "    # one-hot-encode tail\n",
    "    one_hot = pd.get_dummies(data['Tail'])\n",
    "    data_ret = data_ret.drop('Tail',axis = 1)\n",
    "    data_ret = data_ret.join(one_hot.add_suffix('_tail'))\n",
    "    \n",
    "    # one-hot-encode ACFT\n",
    "    one_hot = pd.get_dummies(data['ACFT'])\n",
    "    data_ret = data_ret.drop('ACFT',axis = 1)\n",
    "    data_ret = data_ret.join(one_hot.add_suffix('_acft'))\n",
    "\n",
    "    return data_ret"
   ]
  },
  {
   "cell_type": "code",
   "execution_count": 614,
   "metadata": {},
   "outputs": [],
   "source": [
    "# one-hot-encode the quantiles\n",
    "df_quant1 = one_hot_encode(df_quant1)\n",
    "df_quant2 = one_hot_encode(df_quant2)\n",
    "df_quant3 = one_hot_encode(df_quant3)"
   ]
  },
  {
   "cell_type": "code",
   "execution_count": 615,
   "metadata": {},
   "outputs": [],
   "source": [
    "# create a list of columns for column selection in the following groupby's\n",
    "list_q1 = []\n",
    "for i in list(df_quant1.columns):\n",
    "    if i != 'month':\n",
    "        list_q1.append(i)\n",
    "        \n",
    "list_q2 = []\n",
    "for i in list(df_quant2.columns):\n",
    "    if i != 'month':\n",
    "        list_q2.append(i)\n",
    "        \n",
    "list_q3 = []\n",
    "for i in list(df_quant3.columns):\n",
    "    if i != 'month':\n",
    "        list_q3.append(i)"
   ]
  },
  {
   "cell_type": "code",
   "execution_count": 616,
   "metadata": {},
   "outputs": [],
   "source": [
    "# Groupby month for each quantile\n",
    "df_quant1 = df_quant1.groupby(['month'])[list_q1].sum().reset_index()\n",
    "df_quant2 = df_quant2.groupby(['month'])[list_q2].sum().reset_index()\n",
    "df_quant3 = df_quant3.groupby(['month'])[list_q3].sum().reset_index()"
   ]
  },
  {
   "cell_type": "code",
   "execution_count": 617,
   "metadata": {},
   "outputs": [],
   "source": [
    "# split up the fuel data sets based on the quantiles\n",
    "df_fuel1 = df_fuel[df_fuel['Hashed_Station'].isin(list(quant1['index']))][['Hashed_Station','Hashed_Fuel_Price','month']]\n",
    "df_fuel2 = df_fuel[df_fuel['Hashed_Station'].isin(list(quant2['index']))][['Hashed_Station','Hashed_Fuel_Price','month']]\n",
    "df_fuel3 = df_fuel[df_fuel['Hashed_Station'].isin(list(quant3['index']))][['Hashed_Station','Hashed_Fuel_Price','month']]"
   ]
  },
  {
   "cell_type": "code",
   "execution_count": 618,
   "metadata": {},
   "outputs": [],
   "source": [
    "# group the fuel data by month\n",
    "df_fuel1 = df_fuel1.groupby(['month'])['Hashed_Fuel_Price'].mean()\n",
    "df_fuel2 = df_fuel2.groupby(['month'])['Hashed_Fuel_Price'].mean()\n",
    "df_fuel3 = df_fuel3.groupby(['month'])['Hashed_Fuel_Price'].mean()"
   ]
  },
  {
   "cell_type": "code",
   "execution_count": 619,
   "metadata": {},
   "outputs": [],
   "source": [
    "# merge the fuel and actual data into 1 monthly dataset per quantile\n",
    "df_quant1 = df_quant1.merge(df_fuel1, on = 'month', how='left')\n",
    "df_quant2 = df_quant2.merge(df_fuel2, on = 'month', how='left')\n",
    "df_quant3 = df_quant3.merge(df_fuel3, on = 'month', how='left')"
   ]
  },
  {
   "cell_type": "markdown",
   "metadata": {},
   "source": [
    "# Regression by Quantile"
   ]
  },
  {
   "cell_type": "code",
   "execution_count": 624,
   "metadata": {},
   "outputs": [],
   "source": [
    "# define a data pre-processor function\n",
    "def get_month(x):\n",
    "    x = list(x)\n",
    "    month = x[0]\n",
    "    \n",
    "    return month\n",
    "\n",
    "def pre_processor(data, n, drop):\n",
    "    temp = data.copy()\n",
    "    if drop == True:\n",
    "        temp.drop('month',axis=1,inplace=True)\n",
    "    elif drop == False:\n",
    "        temp['month'] = temp['month'].map(get_month)\n",
    "    y = temp['Gross_gal']\n",
    "    x = temp.drop(columns = ['Gross_gal','Alt_gal','Enroute_gal','Cont_gal'])\n",
    "    x_train, x_test, y_train, y_test = train_test_split(x, y, test_size=n)\n",
    "    \n",
    "    return x_train, x_test, y_train, y_test"
   ]
  },
  {
   "cell_type": "code",
   "execution_count": null,
   "metadata": {},
   "outputs": [],
   "source": [
    "# create a function which finds the best parameters to use in the model (takes a while to run)\n",
    "def best_parameters(x_train,y_train):\n",
    "    param_grid = { \n",
    "        'n_estimators': [10, 100, 500],\n",
    "        'learning_rate':[.1, .2, .3],\n",
    "        'max_depth' : [2, 3, 4, 5],\n",
    "        'colsample_bytree' : [.2,.3,.4],\n",
    "        'alpha' : [1,2,5,10]\n",
    "    }\n",
    "    xgb_grid = GridSearchCV(estimator=xgb.XGBRegressor(), param_grid=param_grid)\n",
    "    xgb_grid.fit(x_train, y_train)                \n",
    "    return xgb_grid.best_params_"
   ]
  },
  {
   "cell_type": "code",
   "execution_count": 625,
   "metadata": {},
   "outputs": [],
   "source": [
    "# create a function which fits, predicts, and calculates the error\n",
    "def fit_pred(data,params,x_train,x_test,y_train,y_test):\n",
    "    xg_reg = xgb.XGBRegressor(objective ='reg:squarederror', colsample_bytree = params['colsample_bytree'], learning_rate = params['learning_rate'],\n",
    "                max_depth = params['max_depth'], alpha = params['alpha'], n_estimators = params['n_estimators'])\n",
    "    xg_reg.fit(x_train,y_train)\n",
    "    pred = xg_reg.predict(x_test)\n",
    "    \n",
    "    # calculate rmse\n",
    "    rmse = np.sqrt(mean_squared_error(y_test, pred))\n",
    "\n",
    "    # percent error based off of the mean of Gross_gal\n",
    "    per = rmse/data['Gross_gal'].mean()\n",
    "    \n",
    "    return rmse, per"
   ]
  },
  {
   "cell_type": "code",
   "execution_count": 626,
   "metadata": {},
   "outputs": [],
   "source": [
    "# split the data and find the best parameters for q1\n",
    "x_train_q1, x_test_q1, y_train_q1, y_test_q1 = pre_processor(df_quant1,.2,True)\n",
    "params_q1 = best_parameters(x_train_q1,y_train_q1)"
   ]
  },
  {
   "cell_type": "code",
   "execution_count": 627,
   "metadata": {},
   "outputs": [],
   "source": [
    "# split the data and find the best parameters for q2\n",
    "x_train_q2, x_test_q2, y_train_q2, y_test_q2 = pre_processor(df_quant2,.2,True)\n",
    "params_q2 = best_parameters(x_train_q2,y_train_q2)"
   ]
  },
  {
   "cell_type": "code",
   "execution_count": 628,
   "metadata": {},
   "outputs": [],
   "source": [
    "# split the data and find the best parameters for q3\n",
    "x_train_q3, x_test_q3, y_train_q3, y_test_q3 = pre_processor(df_quant3,.2,True)\n",
    "params_q3 = best_parameters(x_train_q3,y_train_q3)"
   ]
  },
  {
   "cell_type": "code",
   "execution_count": 629,
   "metadata": {},
   "outputs": [
    {
     "name": "stdout",
     "output_type": "stream",
     "text": [
      "RMSE = 4356840.5353827765\n",
      "Percent Error = 0.027487882150162703\n"
     ]
    }
   ],
   "source": [
    "# calculate the RMSE and percent error of q1 regression\n",
    "rmse_q1, per_q1 = fit_pred(df_quant1, params_q1, x_train_q1, x_test_q1, y_train_q1, y_test_q1)\n",
    "print('RMSE =',rmse_q1)\n",
    "print('Percent Error =',per_q1)"
   ]
  },
  {
   "cell_type": "code",
   "execution_count": 630,
   "metadata": {},
   "outputs": [
    {
     "name": "stdout",
     "output_type": "stream",
     "text": [
      "RMSE = 1320663.7372361515\n",
      "Percent Error = 0.0900582642854025\n"
     ]
    }
   ],
   "source": [
    "# calculate the RMSE and percent error of q2 regression\n",
    "rmse_q2, per_q2 = fit_pred(df_quant2, params_q2, x_train_q2, x_test_q2, y_train_q2, y_test_q2)\n",
    "print('RMSE =',rmse_q2)\n",
    "print('Percent Error =',per_q2)"
   ]
  },
  {
   "cell_type": "code",
   "execution_count": 632,
   "metadata": {},
   "outputs": [
    {
     "name": "stdout",
     "output_type": "stream",
     "text": [
      "RMSE = 2020.9064543958207\n",
      "Percent Error = 0.7494682926526904\n"
     ]
    }
   ],
   "source": [
    "# calculate the RMSE and percent error of q3 regression\n",
    "rmse_q3, per_q3 = fit_pred(df_quant3, params_q3, x_train_q3, x_test_q3, y_train_q3, y_test_q3)\n",
    "print('RMSE =',rmse_q3)\n",
    "print('Percent Error =',per_q3)"
   ]
  },
  {
   "cell_type": "markdown",
   "metadata": {},
   "source": [
    "# Simulation of RMSE"
   ]
  },
  {
   "cell_type": "code",
   "execution_count": 639,
   "metadata": {},
   "outputs": [],
   "source": [
    "# define a function which simulates the building of a model n times\n",
    "def simulate(data,params,n,m,drop):\n",
    "    rmse_list = []\n",
    "    per_list = []\n",
    "    for i in range(0,n):\n",
    "        x_train, x_test, y_train, y_test = pre_processor(data, m, drop)\n",
    "        rmse, per = fit_pred(data, params, x_train, x_test, y_train, y_test)\n",
    "        rmse_list.append(rmse)\n",
    "        per_list.append(per)\n",
    "    rmse_list = pd.Series(rmse_list)\n",
    "    per_list = pd.Series(per_list)\n",
    "    return rmse_list,per_list\n",
    "\n",
    "# define a function which plots the errors\n",
    "def plot_func(rmse,per,quantile):\n",
    "    fig, (ax1, ax2) = plt.subplots(1,2, figsize=(12,5))\n",
    "    fig.suptitle('Variation in RMSE in {} Simulation'.format(quantile))\n",
    "\n",
    "    ax1.hist(rmse, bins=50)\n",
    "    ax1.set_title('{} RMSE'.format(quantile))\n",
    "    ax1.set(xlabel='Error', ylabel='Count')\n",
    "\n",
    "    ax2.hist(per,bins=50)\n",
    "    ax2.set_title('{} RMSE as Percent Error of Mean'.format(quantile))\n",
    "    ax2.set(xlabel='Percent Error', ylabel='Count')\n",
    "    \n",
    "    plt.show()"
   ]
  },
  {
   "cell_type": "code",
   "execution_count": 634,
   "metadata": {
    "collapsed": true,
    "jupyter": {
     "outputs_hidden": true
    }
   },
   "outputs": [
    {
     "data": {
      "image/png": "[encoded data removed]",
      "text/plain": [
       "<Figure size 864x360 with 2 Axes>"
      ]
     },
     "metadata": {
      "needs_background": "light"
     },
     "output_type": "display_data"
    }
   ],
   "source": [
    "# simulate quantile 1 and plot\n",
    "rmse_q1, per_q1 = simulate(df_quant1,params_q1,100,.2,True)\n",
    "plot_func(rmse_q1,per_q1,'Quantile 1')"
   ]
  },
  {
   "cell_type": "code",
   "execution_count": 635,
   "metadata": {
    "collapsed": true,
    "jupyter": {
     "outputs_hidden": true
    }
   },
   "outputs": [
    {
     "data": {
      "image/png": "[encoded data removed]",
      "text/plain": [
       "<Figure size 864x360 with 2 Axes>"
      ]
     },
     "metadata": {
      "needs_background": "light"
     },
     "output_type": "display_data"
    }
   ],
   "source": [
    "# simulate quantile 2 and plot\n",
    "rmse_q2, per_q2 = simulate(df_quant2,params_q2,100,.2,True)\n",
    "plot_func(rmse_q2,per_q2,'Quantile 2')"
   ]
  },
  {
   "cell_type": "code",
   "execution_count": 640,
   "metadata": {
    "collapsed": true,
    "jupyter": {
     "outputs_hidden": true
    }
   },
   "outputs": [
    {
     "data": {
      "image/png": "[encoded data removed]",
      "text/plain": [
       "<Figure size 864x360 with 2 Axes>"
      ]
     },
     "metadata": {
      "needs_background": "light"
     },
     "output_type": "display_data"
    }
   ],
   "source": [
    "# simulate quantile 3 and plot\n",
    "rmse_q3, per_q3 = simulate(df_quant3,params_q1,100,.2,True)\n",
    "plot_func(rmse_q3,per_q3,'Quantile 3')"
   ]
  },
  {
   "cell_type": "markdown",
   "metadata": {},
   "source": [
    "# Simulate Errors"
   ]
  },
  {
   "cell_type": "markdown",
   "metadata": {},
   "source": [
    "##### To simulate the errors, we are essentially recreating the XGBoost model n times (you provide n), and then calculating the individual errors and plotting them. This is just to see the variablility in the individual errors."
   ]
  },
  {
   "cell_type": "code",
   "execution_count": 641,
   "metadata": {},
   "outputs": [],
   "source": [
    "def error_pred(data,params,x_train,x_test,y_train,y_test):\n",
    "    xg_reg = xgb.XGBRegressor(objective ='reg:squarederror', colsample_bytree = params['colsample_bytree'], learning_rate = params['learning_rate'],\n",
    "                max_depth = params['max_depth'], alpha = params['alpha'], n_estimators = params['n_estimators'])\n",
    "    \n",
    "    xg_reg.fit(x_train,y_train)\n",
    "\n",
    "    pred = xg_reg.predict(x_test)\n",
    "    return pred"
   ]
  },
  {
   "cell_type": "code",
   "execution_count": 767,
   "metadata": {},
   "outputs": [],
   "source": [
    "# define functions which return the requisite errors and plot them\n",
    "def errors(data,params,n,m,drop):\n",
    "    error_list = []\n",
    "    error_per_list = []\n",
    "    for i in range(0,n):\n",
    "        x_train, x_test, y_train, y_test = pre_processor(data, m, drop)\n",
    "        y_test = y_test.reset_index().drop('index',axis=1)\n",
    "        pred = pd.Series(error_pred(data, params, x_train, x_test, y_train, y_test))\n",
    "        err = y_test['Gross_gal']-pred\n",
    "        err_per = err/y_test['Gross_gal']\n",
    "        for x in err:\n",
    "            error_list.append(x)\n",
    "        for y in err_per:\n",
    "            error_per_list.append(y)\n",
    "    return error_list,error_per_list\n",
    "\n",
    "def plot_errors(error_list,error_per_list,quantile):\n",
    "    temp = []\n",
    "    for x in error_per_list:\n",
    "        if (x != -np.inf) and (x!=np.inf):\n",
    "            temp.append(x)\n",
    "    fig, (ax1, ax2) = plt.subplots(1,2, figsize=(12,5))\n",
    "    fig.suptitle('Errors in {} Simulation'.format(quantile))\n",
    "\n",
    "    ax1.hist(error_list, bins=50)\n",
    "    ax1.set_title('{} Errors'.format(quantile))\n",
    "    ax1.set(xlabel='Error', ylabel='Count')\n",
    "\n",
    "    ax2.hist(temp,bins=50)\n",
    "    ax2.set_title('{} Percent Errors'.format(quantile))\n",
    "    ax2.set(xlabel='Percent Error', ylabel='Count')\n",
    "    \n",
    "    plt.show()"
   ]
  },
  {
   "cell_type": "code",
   "execution_count": 643,
   "metadata": {
    "collapsed": true,
    "jupyter": {
     "outputs_hidden": true
    }
   },
   "outputs": [
    {
     "data": {
      "image/png": "[encoded data removed]",
      "text/plain": [
       "<Figure size 864x360 with 2 Axes>"
      ]
     },
     "metadata": {
      "needs_background": "light"
     },
     "output_type": "display_data"
    }
   ],
   "source": [
    "# simulate and plot the errors of q1\n",
    "q1_err_sim,q1_err_per_sim = errors(df_quant1,params_q1,100,.2,True)\n",
    "plot_errors(q1_err_sim,q1_err_per_sim,'Quantile 1')"
   ]
  },
  {
   "cell_type": "code",
   "execution_count": 644,
   "metadata": {
    "collapsed": true,
    "jupyter": {
     "outputs_hidden": true
    }
   },
   "outputs": [
    {
     "data": {
      "image/png": "[encoded data removed]",
      "text/plain": [
       "<Figure size 864x360 with 2 Axes>"
      ]
     },
     "metadata": {
      "needs_background": "light"
     },
     "output_type": "display_data"
    }
   ],
   "source": [
    "# simulate and plot the errors of q2\n",
    "q2_err_sim,q2_err_per_sim = errors(df_quant2,params_q2,100,.2,True)\n",
    "plot_errors(q2_err_sim,q2_err_per_sim,'Quantile 2')"
   ]
  },
  {
   "cell_type": "code",
   "execution_count": 687,
   "metadata": {
    "collapsed": true,
    "jupyter": {
     "outputs_hidden": true
    }
   },
   "outputs": [
    {
     "data": {
      "image/png": "[encoded data removed]",
      "text/plain": [
       "<Figure size 864x360 with 2 Axes>"
      ]
     },
     "metadata": {
      "needs_background": "light"
     },
     "output_type": "display_data"
    }
   ],
   "source": [
    "# simulate and plot the errors of q3\n",
    "q3_err_sim,q3_err_per_sim = errors(df_quant3,params_q3,100,.2,True)\n",
    "plot_errors(q3_err_sim,q3_err_per_sim,'Quantile 3')"
   ]
  },
  {
   "cell_type": "markdown",
   "metadata": {},
   "source": [
    "# Regresson Based on 5 Quantiles"
   ]
  },
  {
   "cell_type": "markdown",
   "metadata": {},
   "source": [
    "### Split Data"
   ]
  },
  {
   "cell_type": "code",
   "execution_count": 733,
   "metadata": {},
   "outputs": [],
   "source": [
    "# based on the plots above, split into 5 quantiles\n",
    "quant1_5 = df_count[:32]\n",
    "quant2_5 = df_count[32:61]\n",
    "quant3_5 = df_count[61:91]\n",
    "quant4_5 = df_count[91:121]\n",
    "quant5_5 = df_count[121:]"
   ]
  },
  {
   "cell_type": "code",
   "execution_count": 734,
   "metadata": {},
   "outputs": [],
   "source": [
    "# split up the data sets\n",
    "df_quant1_5 = df_actual[df_actual['Orig'].isin(list(quant1_5['index']))]\n",
    "df_quant2_5 = df_actual[df_actual['Orig'].isin(list(quant2_5['index']))]\n",
    "df_quant3_5 = df_actual[df_actual['Orig'].isin(list(quant3_5['index']))]\n",
    "df_quant4_5 = df_actual[df_actual['Orig'].isin(list(quant4_5['index']))]\n",
    "df_quant5_5 = df_actual[df_actual['Orig'].isin(list(quant5_5['index']))]"
   ]
  },
  {
   "cell_type": "code",
   "execution_count": 735,
   "metadata": {},
   "outputs": [],
   "source": [
    "# one-hot-encode the quantiles\n",
    "df_quant1_5 = one_hot_encode(df_quant1_5)\n",
    "df_quant2_5 = one_hot_encode(df_quant2_5)\n",
    "df_quant3_5 = one_hot_encode(df_quant3_5)\n",
    "df_quant4_5 = one_hot_encode(df_quant4_5)\n",
    "df_quant5_5 = one_hot_encode(df_quant5_5)"
   ]
  },
  {
   "cell_type": "code",
   "execution_count": 751,
   "metadata": {},
   "outputs": [],
   "source": [
    "# create a list of columns for column selection in the following groupby's\n",
    "list_q1_5 = []\n",
    "for i in list(df_quant1_5.columns):\n",
    "    if i != 'month':\n",
    "        list_q1_5.append(i)\n",
    "        \n",
    "list_q2_5 = []\n",
    "for i in list(df_quant2_5.columns):\n",
    "    if i != 'month':\n",
    "        list_q2_5.append(i)\n",
    "        \n",
    "list_q3_5 = []\n",
    "for i in list(df_quant3_5.columns):\n",
    "    if i != 'month':\n",
    "        list_q3_5.append(i)\n",
    "        \n",
    "list_q4_5 = []\n",
    "for i in list(df_quant4_5.columns):\n",
    "    if i != 'month':\n",
    "        list_q4_5.append(i)\n",
    "        \n",
    "list_q5_5 = []\n",
    "for i in list(df_quant5_5.columns):\n",
    "    if i != 'month':\n",
    "        list_q5_5.append(i)"
   ]
  },
  {
   "cell_type": "code",
   "execution_count": 753,
   "metadata": {},
   "outputs": [],
   "source": [
    "# create a groupby for each quantile\n",
    "df_quant1_5 = df_quant1_5.groupby(['month'])[list_q1_5].sum().reset_index()\n",
    "df_quant2_5 = df_quant2_5.groupby(['month'])[list_q2_5].sum().reset_index()\n",
    "df_quant3_5 = df_quant3_5.groupby(['month'])[list_q3_5].sum().reset_index()\n",
    "df_quant4_5 = df_quant4_5.groupby(['month'])[list_q4_5].sum().reset_index()\n",
    "df_quant5_5 = df_quant5_5.groupby(['month'])[list_q5_5].sum().reset_index()"
   ]
  },
  {
   "cell_type": "code",
   "execution_count": 754,
   "metadata": {},
   "outputs": [],
   "source": [
    "# split up the fuel data sets based on the quantiles\n",
    "df_fuel1_5 = df_fuel[df_fuel['Hashed_Station'].isin(list(quant1_5['index']))][['Hashed_Station','Hashed_Fuel_Price','month']]\n",
    "df_fuel2_5 = df_fuel[df_fuel['Hashed_Station'].isin(list(quant2_5['index']))][['Hashed_Station','Hashed_Fuel_Price','month']]\n",
    "df_fuel3_5 = df_fuel[df_fuel['Hashed_Station'].isin(list(quant3_5['index']))][['Hashed_Station','Hashed_Fuel_Price','month']]\n",
    "df_fuel4_5 = df_fuel[df_fuel['Hashed_Station'].isin(list(quant4_5['index']))][['Hashed_Station','Hashed_Fuel_Price','month']]\n",
    "df_fuel5_5 = df_fuel[df_fuel['Hashed_Station'].isin(list(quant5_5['index']))][['Hashed_Station','Hashed_Fuel_Price','month']]"
   ]
  },
  {
   "cell_type": "code",
   "execution_count": 755,
   "metadata": {},
   "outputs": [],
   "source": [
    "# group the fuel data by month\n",
    "df_fuel1_5 = df_fuel1_5.groupby(['month'])['Hashed_Fuel_Price'].mean()\n",
    "df_fuel2_5 = df_fuel2_5.groupby(['month'])['Hashed_Fuel_Price'].mean()\n",
    "df_fuel3_5 = df_fuel3_5.groupby(['month'])['Hashed_Fuel_Price'].mean()\n",
    "df_fuel4_5 = df_fuel4_5.groupby(['month'])['Hashed_Fuel_Price'].mean()\n",
    "df_fuel5_5 = df_fuel5_5.groupby(['month'])['Hashed_Fuel_Price'].mean()"
   ]
  },
  {
   "cell_type": "code",
   "execution_count": 756,
   "metadata": {},
   "outputs": [],
   "source": [
    "# merge the fuel and actual data into 1 monthly dataset per quantile\n",
    "df_quant1_5 = df_quant1_5.merge(df_fuel1_5, on = 'month', how='left')\n",
    "df_quant2_5 = df_quant2_5.merge(df_fuel2_5, on = 'month', how='left')\n",
    "df_quant3_5 = df_quant3_5.merge(df_fuel3_5, on = 'month', how='left')\n",
    "df_quant4_5 = df_quant4_5.merge(df_fuel4_5, on = 'month', how='left')\n",
    "df_quant5_5 = df_quant5_5.merge(df_fuel5_5, on = 'month', how='left')"
   ]
  },
  {
   "cell_type": "markdown",
   "metadata": {},
   "source": [
    "### Fit Model"
   ]
  },
  {
   "cell_type": "code",
   "execution_count": 758,
   "metadata": {},
   "outputs": [],
   "source": [
    "# split the data and find the best parameters for q1\n",
    "x_train_q1_5, x_test_q1_5, y_train_q1_5, y_test_q1_5 = pre_processor(df_quant1_5,.2,True)\n",
    "params_q1_5 = best_parameters(x_train_q1_5,y_train_q1_5)"
   ]
  },
  {
   "cell_type": "code",
   "execution_count": 759,
   "metadata": {},
   "outputs": [],
   "source": [
    "# split the data and find the best parameters for q2\n",
    "x_train_q2_5, x_test_q2_5, y_train_q2_5, y_test_q2_5 = pre_processor(df_quant2_5,.2,True)\n",
    "params_q2_5 = best_parameters(x_train_q2_5,y_train_q2_5)"
   ]
  },
  {
   "cell_type": "code",
   "execution_count": 705,
   "metadata": {
    "collapsed": true,
    "jupyter": {
     "outputs_hidden": true
    }
   },
   "outputs": [
    {
     "ename": "ValueError",
     "evalue": "DataFrame for label cannot have multiple columns",
     "output_type": "error",
     "traceback": [
      "\u001b[1;31m---------------------------------------------------------------------------\u001b[0m",
      "\u001b[1;31mValueError\u001b[0m                                Traceback (most recent call last)",
      "\u001b[1;32m<ipython-input-705-4235b3e41d13>\u001b[0m in \u001b[0;36m<module>\u001b[1;34m\u001b[0m\n\u001b[0;32m      1\u001b[0m \u001b[1;31m# split the data and find the best parameters for q3\u001b[0m\u001b[1;33m\u001b[0m\u001b[1;33m\u001b[0m\u001b[1;33m\u001b[0m\u001b[0m\n\u001b[0;32m      2\u001b[0m \u001b[0mx_train_q3_5\u001b[0m\u001b[1;33m,\u001b[0m \u001b[0mx_test_q3_5\u001b[0m\u001b[1;33m,\u001b[0m \u001b[0my_train_q3_5\u001b[0m\u001b[1;33m,\u001b[0m \u001b[0my_test_q3_5\u001b[0m \u001b[1;33m=\u001b[0m \u001b[0mpre_processor\u001b[0m\u001b[1;33m(\u001b[0m\u001b[0mdf_quant3_5\u001b[0m\u001b[1;33m,\u001b[0m\u001b[1;36m.2\u001b[0m\u001b[1;33m,\u001b[0m\u001b[1;32mTrue\u001b[0m\u001b[1;33m)\u001b[0m\u001b[1;33m\u001b[0m\u001b[1;33m\u001b[0m\u001b[0m\n\u001b[1;32m----> 3\u001b[1;33m \u001b[0mparams_q3_5\u001b[0m \u001b[1;33m=\u001b[0m \u001b[0mbest_parameters\u001b[0m\u001b[1;33m(\u001b[0m\u001b[0mx_train_q3_5\u001b[0m\u001b[1;33m,\u001b[0m\u001b[0my_train_q3_5\u001b[0m\u001b[1;33m)\u001b[0m\u001b[1;33m\u001b[0m\u001b[1;33m\u001b[0m\u001b[0m\n\u001b[0m",
      "\u001b[1;32m<ipython-input-623-fd9bf2182802>\u001b[0m in \u001b[0;36mbest_parameters\u001b[1;34m(x_train, y_train)\u001b[0m\n\u001b[0;32m      9\u001b[0m     }\n\u001b[0;32m     10\u001b[0m     \u001b[0mxgb_grid\u001b[0m \u001b[1;33m=\u001b[0m \u001b[0mGridSearchCV\u001b[0m\u001b[1;33m(\u001b[0m\u001b[0mestimator\u001b[0m\u001b[1;33m=\u001b[0m\u001b[0mxgb\u001b[0m\u001b[1;33m.\u001b[0m\u001b[0mXGBRegressor\u001b[0m\u001b[1;33m(\u001b[0m\u001b[1;33m)\u001b[0m\u001b[1;33m,\u001b[0m \u001b[0mparam_grid\u001b[0m\u001b[1;33m=\u001b[0m\u001b[0mparam_grid\u001b[0m\u001b[1;33m)\u001b[0m\u001b[1;33m\u001b[0m\u001b[1;33m\u001b[0m\u001b[0m\n\u001b[1;32m---> 11\u001b[1;33m     \u001b[0mxgb_grid\u001b[0m\u001b[1;33m.\u001b[0m\u001b[0mfit\u001b[0m\u001b[1;33m(\u001b[0m\u001b[0mx_train\u001b[0m\u001b[1;33m,\u001b[0m \u001b[0my_train\u001b[0m\u001b[1;33m)\u001b[0m\u001b[1;33m\u001b[0m\u001b[1;33m\u001b[0m\u001b[0m\n\u001b[0m\u001b[0;32m     12\u001b[0m     \u001b[1;32mreturn\u001b[0m \u001b[0mxgb_grid\u001b[0m\u001b[1;33m.\u001b[0m\u001b[0mbest_params_\u001b[0m\u001b[1;33m\u001b[0m\u001b[1;33m\u001b[0m\u001b[0m\n",
      "\u001b[1;32m~\\Anaconda3\\lib\\site-packages\\sklearn\\model_selection\\_search.py\u001b[0m in \u001b[0;36mfit\u001b[1;34m(self, X, y, groups, **fit_params)\u001b[0m\n\u001b[0;32m    685\u001b[0m                 \u001b[1;32mreturn\u001b[0m \u001b[0mresults\u001b[0m\u001b[1;33m\u001b[0m\u001b[1;33m\u001b[0m\u001b[0m\n\u001b[0;32m    686\u001b[0m \u001b[1;33m\u001b[0m\u001b[0m\n\u001b[1;32m--> 687\u001b[1;33m             \u001b[0mself\u001b[0m\u001b[1;33m.\u001b[0m\u001b[0m_run_search\u001b[0m\u001b[1;33m(\u001b[0m\u001b[0mevaluate_candidates\u001b[0m\u001b[1;33m)\u001b[0m\u001b[1;33m\u001b[0m\u001b[1;33m\u001b[0m\u001b[0m\n\u001b[0m\u001b[0;32m    688\u001b[0m \u001b[1;33m\u001b[0m\u001b[0m\n\u001b[0;32m    689\u001b[0m         \u001b[1;31m# For multi-metric evaluation, store the best_index_, best_params_ and\u001b[0m\u001b[1;33m\u001b[0m\u001b[1;33m\u001b[0m\u001b[1;33m\u001b[0m\u001b[0m\n",
      "\u001b[1;32m~\\Anaconda3\\lib\\site-packages\\sklearn\\model_selection\\_search.py\u001b[0m in \u001b[0;36m_run_search\u001b[1;34m(self, evaluate_candidates)\u001b[0m\n\u001b[0;32m   1146\u001b[0m     \u001b[1;32mdef\u001b[0m \u001b[0m_run_search\u001b[0m\u001b[1;33m(\u001b[0m\u001b[0mself\u001b[0m\u001b[1;33m,\u001b[0m \u001b[0mevaluate_candidates\u001b[0m\u001b[1;33m)\u001b[0m\u001b[1;33m:\u001b[0m\u001b[1;33m\u001b[0m\u001b[1;33m\u001b[0m\u001b[0m\n\u001b[0;32m   1147\u001b[0m         \u001b[1;34m\"\"\"Search all candidates in param_grid\"\"\"\u001b[0m\u001b[1;33m\u001b[0m\u001b[1;33m\u001b[0m\u001b[0m\n\u001b[1;32m-> 1148\u001b[1;33m         \u001b[0mevaluate_candidates\u001b[0m\u001b[1;33m(\u001b[0m\u001b[0mParameterGrid\u001b[0m\u001b[1;33m(\u001b[0m\u001b[0mself\u001b[0m\u001b[1;33m.\u001b[0m\u001b[0mparam_grid\u001b[0m\u001b[1;33m)\u001b[0m\u001b[1;33m)\u001b[0m\u001b[1;33m\u001b[0m\u001b[1;33m\u001b[0m\u001b[0m\n\u001b[0m\u001b[0;32m   1149\u001b[0m \u001b[1;33m\u001b[0m\u001b[0m\n\u001b[0;32m   1150\u001b[0m \u001b[1;33m\u001b[0m\u001b[0m\n",
      "\u001b[1;32m~\\Anaconda3\\lib\\site-packages\\sklearn\\model_selection\\_search.py\u001b[0m in \u001b[0;36mevaluate_candidates\u001b[1;34m(candidate_params)\u001b[0m\n\u001b[0;32m    664\u001b[0m                                \u001b[1;32mfor\u001b[0m \u001b[0mparameters\u001b[0m\u001b[1;33m,\u001b[0m \u001b[1;33m(\u001b[0m\u001b[0mtrain\u001b[0m\u001b[1;33m,\u001b[0m \u001b[0mtest\u001b[0m\u001b[1;33m)\u001b[0m\u001b[1;33m\u001b[0m\u001b[1;33m\u001b[0m\u001b[0m\n\u001b[0;32m    665\u001b[0m                                in product(candidate_params,\n\u001b[1;32m--> 666\u001b[1;33m                                           cv.split(X, y, groups)))\n\u001b[0m\u001b[0;32m    667\u001b[0m \u001b[1;33m\u001b[0m\u001b[0m\n\u001b[0;32m    668\u001b[0m                 \u001b[1;32mif\u001b[0m \u001b[0mlen\u001b[0m\u001b[1;33m(\u001b[0m\u001b[0mout\u001b[0m\u001b[1;33m)\u001b[0m \u001b[1;33m<\u001b[0m \u001b[1;36m1\u001b[0m\u001b[1;33m:\u001b[0m\u001b[1;33m\u001b[0m\u001b[1;33m\u001b[0m\u001b[0m\n",
      "\u001b[1;32m~\\Anaconda3\\lib\\site-packages\\joblib\\parallel.py\u001b[0m in \u001b[0;36m__call__\u001b[1;34m(self, iterable)\u001b[0m\n\u001b[0;32m    919\u001b[0m             \u001b[1;31m# remaining jobs.\u001b[0m\u001b[1;33m\u001b[0m\u001b[1;33m\u001b[0m\u001b[1;33m\u001b[0m\u001b[0m\n\u001b[0;32m    920\u001b[0m             \u001b[0mself\u001b[0m\u001b[1;33m.\u001b[0m\u001b[0m_iterating\u001b[0m \u001b[1;33m=\u001b[0m \u001b[1;32mFalse\u001b[0m\u001b[1;33m\u001b[0m\u001b[1;33m\u001b[0m\u001b[0m\n\u001b[1;32m--> 921\u001b[1;33m             \u001b[1;32mif\u001b[0m \u001b[0mself\u001b[0m\u001b[1;33m.\u001b[0m\u001b[0mdispatch_one_batch\u001b[0m\u001b[1;33m(\u001b[0m\u001b[0miterator\u001b[0m\u001b[1;33m)\u001b[0m\u001b[1;33m:\u001b[0m\u001b[1;33m\u001b[0m\u001b[1;33m\u001b[0m\u001b[0m\n\u001b[0m\u001b[0;32m    922\u001b[0m                 \u001b[0mself\u001b[0m\u001b[1;33m.\u001b[0m\u001b[0m_iterating\u001b[0m \u001b[1;33m=\u001b[0m \u001b[0mself\u001b[0m\u001b[1;33m.\u001b[0m\u001b[0m_original_iterator\u001b[0m \u001b[1;32mis\u001b[0m \u001b[1;32mnot\u001b[0m \u001b[1;32mNone\u001b[0m\u001b[1;33m\u001b[0m\u001b[1;33m\u001b[0m\u001b[0m\n\u001b[0;32m    923\u001b[0m \u001b[1;33m\u001b[0m\u001b[0m\n",
      "\u001b[1;32m~\\Anaconda3\\lib\\site-packages\\joblib\\parallel.py\u001b[0m in \u001b[0;36mdispatch_one_batch\u001b[1;34m(self, iterator)\u001b[0m\n\u001b[0;32m    757\u001b[0m                 \u001b[1;32mreturn\u001b[0m \u001b[1;32mFalse\u001b[0m\u001b[1;33m\u001b[0m\u001b[1;33m\u001b[0m\u001b[0m\n\u001b[0;32m    758\u001b[0m             \u001b[1;32melse\u001b[0m\u001b[1;33m:\u001b[0m\u001b[1;33m\u001b[0m\u001b[1;33m\u001b[0m\u001b[0m\n\u001b[1;32m--> 759\u001b[1;33m                 \u001b[0mself\u001b[0m\u001b[1;33m.\u001b[0m\u001b[0m_dispatch\u001b[0m\u001b[1;33m(\u001b[0m\u001b[0mtasks\u001b[0m\u001b[1;33m)\u001b[0m\u001b[1;33m\u001b[0m\u001b[1;33m\u001b[0m\u001b[0m\n\u001b[0m\u001b[0;32m    760\u001b[0m                 \u001b[1;32mreturn\u001b[0m \u001b[1;32mTrue\u001b[0m\u001b[1;33m\u001b[0m\u001b[1;33m\u001b[0m\u001b[0m\n\u001b[0;32m    761\u001b[0m \u001b[1;33m\u001b[0m\u001b[0m\n",
      "\u001b[1;32m~\\Anaconda3\\lib\\site-packages\\joblib\\parallel.py\u001b[0m in \u001b[0;36m_dispatch\u001b[1;34m(self, batch)\u001b[0m\n\u001b[0;32m    714\u001b[0m         \u001b[1;32mwith\u001b[0m \u001b[0mself\u001b[0m\u001b[1;33m.\u001b[0m\u001b[0m_lock\u001b[0m\u001b[1;33m:\u001b[0m\u001b[1;33m\u001b[0m\u001b[1;33m\u001b[0m\u001b[0m\n\u001b[0;32m    715\u001b[0m             \u001b[0mjob_idx\u001b[0m \u001b[1;33m=\u001b[0m \u001b[0mlen\u001b[0m\u001b[1;33m(\u001b[0m\u001b[0mself\u001b[0m\u001b[1;33m.\u001b[0m\u001b[0m_jobs\u001b[0m\u001b[1;33m)\u001b[0m\u001b[1;33m\u001b[0m\u001b[1;33m\u001b[0m\u001b[0m\n\u001b[1;32m--> 716\u001b[1;33m             \u001b[0mjob\u001b[0m \u001b[1;33m=\u001b[0m \u001b[0mself\u001b[0m\u001b[1;33m.\u001b[0m\u001b[0m_backend\u001b[0m\u001b[1;33m.\u001b[0m\u001b[0mapply_async\u001b[0m\u001b[1;33m(\u001b[0m\u001b[0mbatch\u001b[0m\u001b[1;33m,\u001b[0m \u001b[0mcallback\u001b[0m\u001b[1;33m=\u001b[0m\u001b[0mcb\u001b[0m\u001b[1;33m)\u001b[0m\u001b[1;33m\u001b[0m\u001b[1;33m\u001b[0m\u001b[0m\n\u001b[0m\u001b[0;32m    717\u001b[0m             \u001b[1;31m# A job can complete so quickly than its callback is\u001b[0m\u001b[1;33m\u001b[0m\u001b[1;33m\u001b[0m\u001b[1;33m\u001b[0m\u001b[0m\n\u001b[0;32m    718\u001b[0m             \u001b[1;31m# called before we get here, causing self._jobs to\u001b[0m\u001b[1;33m\u001b[0m\u001b[1;33m\u001b[0m\u001b[1;33m\u001b[0m\u001b[0m\n",
      "\u001b[1;32m~\\Anaconda3\\lib\\site-packages\\joblib\\_parallel_backends.py\u001b[0m in \u001b[0;36mapply_async\u001b[1;34m(self, func, callback)\u001b[0m\n\u001b[0;32m    180\u001b[0m     \u001b[1;32mdef\u001b[0m \u001b[0mapply_async\u001b[0m\u001b[1;33m(\u001b[0m\u001b[0mself\u001b[0m\u001b[1;33m,\u001b[0m \u001b[0mfunc\u001b[0m\u001b[1;33m,\u001b[0m \u001b[0mcallback\u001b[0m\u001b[1;33m=\u001b[0m\u001b[1;32mNone\u001b[0m\u001b[1;33m)\u001b[0m\u001b[1;33m:\u001b[0m\u001b[1;33m\u001b[0m\u001b[1;33m\u001b[0m\u001b[0m\n\u001b[0;32m    181\u001b[0m         \u001b[1;34m\"\"\"Schedule a func to be run\"\"\"\u001b[0m\u001b[1;33m\u001b[0m\u001b[1;33m\u001b[0m\u001b[0m\n\u001b[1;32m--> 182\u001b[1;33m         \u001b[0mresult\u001b[0m \u001b[1;33m=\u001b[0m \u001b[0mImmediateResult\u001b[0m\u001b[1;33m(\u001b[0m\u001b[0mfunc\u001b[0m\u001b[1;33m)\u001b[0m\u001b[1;33m\u001b[0m\u001b[1;33m\u001b[0m\u001b[0m\n\u001b[0m\u001b[0;32m    183\u001b[0m         \u001b[1;32mif\u001b[0m \u001b[0mcallback\u001b[0m\u001b[1;33m:\u001b[0m\u001b[1;33m\u001b[0m\u001b[1;33m\u001b[0m\u001b[0m\n\u001b[0;32m    184\u001b[0m             \u001b[0mcallback\u001b[0m\u001b[1;33m(\u001b[0m\u001b[0mresult\u001b[0m\u001b[1;33m)\u001b[0m\u001b[1;33m\u001b[0m\u001b[1;33m\u001b[0m\u001b[0m\n",
      "\u001b[1;32m~\\Anaconda3\\lib\\site-packages\\joblib\\_parallel_backends.py\u001b[0m in \u001b[0;36m__init__\u001b[1;34m(self, batch)\u001b[0m\n\u001b[0;32m    547\u001b[0m         \u001b[1;31m# Don't delay the application, to avoid keeping the input\u001b[0m\u001b[1;33m\u001b[0m\u001b[1;33m\u001b[0m\u001b[1;33m\u001b[0m\u001b[0m\n\u001b[0;32m    548\u001b[0m         \u001b[1;31m# arguments in memory\u001b[0m\u001b[1;33m\u001b[0m\u001b[1;33m\u001b[0m\u001b[1;33m\u001b[0m\u001b[0m\n\u001b[1;32m--> 549\u001b[1;33m         \u001b[0mself\u001b[0m\u001b[1;33m.\u001b[0m\u001b[0mresults\u001b[0m \u001b[1;33m=\u001b[0m \u001b[0mbatch\u001b[0m\u001b[1;33m(\u001b[0m\u001b[1;33m)\u001b[0m\u001b[1;33m\u001b[0m\u001b[1;33m\u001b[0m\u001b[0m\n\u001b[0m\u001b[0;32m    550\u001b[0m \u001b[1;33m\u001b[0m\u001b[0m\n\u001b[0;32m    551\u001b[0m     \u001b[1;32mdef\u001b[0m \u001b[0mget\u001b[0m\u001b[1;33m(\u001b[0m\u001b[0mself\u001b[0m\u001b[1;33m)\u001b[0m\u001b[1;33m:\u001b[0m\u001b[1;33m\u001b[0m\u001b[1;33m\u001b[0m\u001b[0m\n",
      "\u001b[1;32m~\\Anaconda3\\lib\\site-packages\\joblib\\parallel.py\u001b[0m in \u001b[0;36m__call__\u001b[1;34m(self)\u001b[0m\n\u001b[0;32m    223\u001b[0m         \u001b[1;32mwith\u001b[0m \u001b[0mparallel_backend\u001b[0m\u001b[1;33m(\u001b[0m\u001b[0mself\u001b[0m\u001b[1;33m.\u001b[0m\u001b[0m_backend\u001b[0m\u001b[1;33m,\u001b[0m \u001b[0mn_jobs\u001b[0m\u001b[1;33m=\u001b[0m\u001b[0mself\u001b[0m\u001b[1;33m.\u001b[0m\u001b[0m_n_jobs\u001b[0m\u001b[1;33m)\u001b[0m\u001b[1;33m:\u001b[0m\u001b[1;33m\u001b[0m\u001b[1;33m\u001b[0m\u001b[0m\n\u001b[0;32m    224\u001b[0m             return [func(*args, **kwargs)\n\u001b[1;32m--> 225\u001b[1;33m                     for func, args, kwargs in self.items]\n\u001b[0m\u001b[0;32m    226\u001b[0m \u001b[1;33m\u001b[0m\u001b[0m\n\u001b[0;32m    227\u001b[0m     \u001b[1;32mdef\u001b[0m \u001b[0m__len__\u001b[0m\u001b[1;33m(\u001b[0m\u001b[0mself\u001b[0m\u001b[1;33m)\u001b[0m\u001b[1;33m:\u001b[0m\u001b[1;33m\u001b[0m\u001b[1;33m\u001b[0m\u001b[0m\n",
      "\u001b[1;32m~\\Anaconda3\\lib\\site-packages\\joblib\\parallel.py\u001b[0m in \u001b[0;36m<listcomp>\u001b[1;34m(.0)\u001b[0m\n\u001b[0;32m    223\u001b[0m         \u001b[1;32mwith\u001b[0m \u001b[0mparallel_backend\u001b[0m\u001b[1;33m(\u001b[0m\u001b[0mself\u001b[0m\u001b[1;33m.\u001b[0m\u001b[0m_backend\u001b[0m\u001b[1;33m,\u001b[0m \u001b[0mn_jobs\u001b[0m\u001b[1;33m=\u001b[0m\u001b[0mself\u001b[0m\u001b[1;33m.\u001b[0m\u001b[0m_n_jobs\u001b[0m\u001b[1;33m)\u001b[0m\u001b[1;33m:\u001b[0m\u001b[1;33m\u001b[0m\u001b[1;33m\u001b[0m\u001b[0m\n\u001b[0;32m    224\u001b[0m             return [func(*args, **kwargs)\n\u001b[1;32m--> 225\u001b[1;33m                     for func, args, kwargs in self.items]\n\u001b[0m\u001b[0;32m    226\u001b[0m \u001b[1;33m\u001b[0m\u001b[0m\n\u001b[0;32m    227\u001b[0m     \u001b[1;32mdef\u001b[0m \u001b[0m__len__\u001b[0m\u001b[1;33m(\u001b[0m\u001b[0mself\u001b[0m\u001b[1;33m)\u001b[0m\u001b[1;33m:\u001b[0m\u001b[1;33m\u001b[0m\u001b[1;33m\u001b[0m\u001b[0m\n",
      "\u001b[1;32m~\\Anaconda3\\lib\\site-packages\\sklearn\\model_selection\\_validation.py\u001b[0m in \u001b[0;36m_fit_and_score\u001b[1;34m(estimator, X, y, scorer, train, test, verbose, parameters, fit_params, return_train_score, return_parameters, return_n_test_samples, return_times, return_estimator, error_score)\u001b[0m\n\u001b[0;32m    512\u001b[0m             \u001b[0mestimator\u001b[0m\u001b[1;33m.\u001b[0m\u001b[0mfit\u001b[0m\u001b[1;33m(\u001b[0m\u001b[0mX_train\u001b[0m\u001b[1;33m,\u001b[0m \u001b[1;33m**\u001b[0m\u001b[0mfit_params\u001b[0m\u001b[1;33m)\u001b[0m\u001b[1;33m\u001b[0m\u001b[1;33m\u001b[0m\u001b[0m\n\u001b[0;32m    513\u001b[0m         \u001b[1;32melse\u001b[0m\u001b[1;33m:\u001b[0m\u001b[1;33m\u001b[0m\u001b[1;33m\u001b[0m\u001b[0m\n\u001b[1;32m--> 514\u001b[1;33m             \u001b[0mestimator\u001b[0m\u001b[1;33m.\u001b[0m\u001b[0mfit\u001b[0m\u001b[1;33m(\u001b[0m\u001b[0mX_train\u001b[0m\u001b[1;33m,\u001b[0m \u001b[0my_train\u001b[0m\u001b[1;33m,\u001b[0m \u001b[1;33m**\u001b[0m\u001b[0mfit_params\u001b[0m\u001b[1;33m)\u001b[0m\u001b[1;33m\u001b[0m\u001b[1;33m\u001b[0m\u001b[0m\n\u001b[0m\u001b[0;32m    515\u001b[0m \u001b[1;33m\u001b[0m\u001b[0m\n\u001b[0;32m    516\u001b[0m     \u001b[1;32mexcept\u001b[0m \u001b[0mException\u001b[0m \u001b[1;32mas\u001b[0m \u001b[0me\u001b[0m\u001b[1;33m:\u001b[0m\u001b[1;33m\u001b[0m\u001b[1;33m\u001b[0m\u001b[0m\n",
      "\u001b[1;32m~\\Anaconda3\\lib\\site-packages\\xgboost\\sklearn.py\u001b[0m in \u001b[0;36mfit\u001b[1;34m(self, X, y, sample_weight, base_margin, eval_set, eval_metric, early_stopping_rounds, verbose, xgb_model, sample_weight_eval_set, callbacks)\u001b[0m\n\u001b[0;32m    509\u001b[0m                                 \u001b[0mbase_margin\u001b[0m\u001b[1;33m=\u001b[0m\u001b[0mbase_margin\u001b[0m\u001b[1;33m,\u001b[0m\u001b[1;33m\u001b[0m\u001b[1;33m\u001b[0m\u001b[0m\n\u001b[0;32m    510\u001b[0m                                 \u001b[0mmissing\u001b[0m\u001b[1;33m=\u001b[0m\u001b[0mself\u001b[0m\u001b[1;33m.\u001b[0m\u001b[0mmissing\u001b[0m\u001b[1;33m,\u001b[0m\u001b[1;33m\u001b[0m\u001b[1;33m\u001b[0m\u001b[0m\n\u001b[1;32m--> 511\u001b[1;33m                                 nthread=self.n_jobs)\n\u001b[0m\u001b[0;32m    512\u001b[0m \u001b[1;33m\u001b[0m\u001b[0m\n\u001b[0;32m    513\u001b[0m         \u001b[0mevals_result\u001b[0m \u001b[1;33m=\u001b[0m \u001b[1;33m{\u001b[0m\u001b[1;33m}\u001b[0m\u001b[1;33m\u001b[0m\u001b[1;33m\u001b[0m\u001b[0m\n",
      "\u001b[1;32m~\\Anaconda3\\lib\\site-packages\\xgboost\\core.py\u001b[0m in \u001b[0;36m__init__\u001b[1;34m(self, data, label, weight, base_margin, missing, silent, feature_names, feature_types, nthread)\u001b[0m\n\u001b[0;32m    487\u001b[0m \u001b[1;33m\u001b[0m\u001b[0m\n\u001b[0;32m    488\u001b[0m         \u001b[1;32mif\u001b[0m \u001b[0mlabel\u001b[0m \u001b[1;32mis\u001b[0m \u001b[1;32mnot\u001b[0m \u001b[1;32mNone\u001b[0m\u001b[1;33m:\u001b[0m\u001b[1;33m\u001b[0m\u001b[1;33m\u001b[0m\u001b[0m\n\u001b[1;32m--> 489\u001b[1;33m             \u001b[0mself\u001b[0m\u001b[1;33m.\u001b[0m\u001b[0mset_label\u001b[0m\u001b[1;33m(\u001b[0m\u001b[0mlabel\u001b[0m\u001b[1;33m)\u001b[0m\u001b[1;33m\u001b[0m\u001b[1;33m\u001b[0m\u001b[0m\n\u001b[0m\u001b[0;32m    490\u001b[0m         \u001b[1;32mif\u001b[0m \u001b[0mweight\u001b[0m \u001b[1;32mis\u001b[0m \u001b[1;32mnot\u001b[0m \u001b[1;32mNone\u001b[0m\u001b[1;33m:\u001b[0m\u001b[1;33m\u001b[0m\u001b[1;33m\u001b[0m\u001b[0m\n\u001b[0;32m    491\u001b[0m             \u001b[0mself\u001b[0m\u001b[1;33m.\u001b[0m\u001b[0mset_weight\u001b[0m\u001b[1;33m(\u001b[0m\u001b[0mweight\u001b[0m\u001b[1;33m)\u001b[0m\u001b[1;33m\u001b[0m\u001b[1;33m\u001b[0m\u001b[0m\n",
      "\u001b[1;32m~\\Anaconda3\\lib\\site-packages\\xgboost\\core.py\u001b[0m in \u001b[0;36mset_label\u001b[1;34m(self, label)\u001b[0m\n\u001b[0;32m    774\u001b[0m             \u001b[0mself\u001b[0m\u001b[1;33m.\u001b[0m\u001b[0mset_interface_info\u001b[0m\u001b[1;33m(\u001b[0m\u001b[1;34m'label'\u001b[0m\u001b[1;33m,\u001b[0m \u001b[0mlabel\u001b[0m\u001b[1;33m)\u001b[0m\u001b[1;33m\u001b[0m\u001b[1;33m\u001b[0m\u001b[0m\n\u001b[0;32m    775\u001b[0m         \u001b[1;32melse\u001b[0m\u001b[1;33m:\u001b[0m\u001b[1;33m\u001b[0m\u001b[1;33m\u001b[0m\u001b[0m\n\u001b[1;32m--> 776\u001b[1;33m             \u001b[0mself\u001b[0m\u001b[1;33m.\u001b[0m\u001b[0mset_float_info\u001b[0m\u001b[1;33m(\u001b[0m\u001b[1;34m'label'\u001b[0m\u001b[1;33m,\u001b[0m \u001b[0mlabel\u001b[0m\u001b[1;33m)\u001b[0m\u001b[1;33m\u001b[0m\u001b[1;33m\u001b[0m\u001b[0m\n\u001b[0m\u001b[0;32m    777\u001b[0m \u001b[1;33m\u001b[0m\u001b[0m\n\u001b[0;32m    778\u001b[0m     \u001b[1;32mdef\u001b[0m \u001b[0mset_weight\u001b[0m\u001b[1;33m(\u001b[0m\u001b[0mself\u001b[0m\u001b[1;33m,\u001b[0m \u001b[0mweight\u001b[0m\u001b[1;33m)\u001b[0m\u001b[1;33m:\u001b[0m\u001b[1;33m\u001b[0m\u001b[1;33m\u001b[0m\u001b[0m\n",
      "\u001b[1;32m~\\Anaconda3\\lib\\site-packages\\xgboost\\core.py\u001b[0m in \u001b[0;36mset_float_info\u001b[1;34m(self, field, data)\u001b[0m\n\u001b[0;32m    685\u001b[0m             \u001b[0mThe\u001b[0m \u001b[0marray\u001b[0m \u001b[0mof\u001b[0m \u001b[0mdata\u001b[0m \u001b[0mto\u001b[0m \u001b[0mbe\u001b[0m \u001b[0mset\u001b[0m\u001b[1;33m\u001b[0m\u001b[1;33m\u001b[0m\u001b[0m\n\u001b[0;32m    686\u001b[0m         \"\"\"\n\u001b[1;32m--> 687\u001b[1;33m         \u001b[0mdata\u001b[0m\u001b[1;33m,\u001b[0m \u001b[0m_\u001b[0m\u001b[1;33m,\u001b[0m \u001b[0m_\u001b[0m \u001b[1;33m=\u001b[0m \u001b[0m_convert_dataframes\u001b[0m\u001b[1;33m(\u001b[0m\u001b[0mdata\u001b[0m\u001b[1;33m,\u001b[0m \u001b[1;32mNone\u001b[0m\u001b[1;33m,\u001b[0m \u001b[1;32mNone\u001b[0m\u001b[1;33m,\u001b[0m \u001b[0mfield\u001b[0m\u001b[1;33m,\u001b[0m \u001b[1;34m'float'\u001b[0m\u001b[1;33m)\u001b[0m\u001b[1;33m\u001b[0m\u001b[1;33m\u001b[0m\u001b[0m\n\u001b[0m\u001b[0;32m    688\u001b[0m         \u001b[1;32mif\u001b[0m \u001b[0misinstance\u001b[0m\u001b[1;33m(\u001b[0m\u001b[0mdata\u001b[0m\u001b[1;33m,\u001b[0m \u001b[0mnp\u001b[0m\u001b[1;33m.\u001b[0m\u001b[0mndarray\u001b[0m\u001b[1;33m)\u001b[0m\u001b[1;33m:\u001b[0m\u001b[1;33m\u001b[0m\u001b[1;33m\u001b[0m\u001b[0m\n\u001b[0;32m    689\u001b[0m             \u001b[0mself\u001b[0m\u001b[1;33m.\u001b[0m\u001b[0mset_float_info_npy2d\u001b[0m\u001b[1;33m(\u001b[0m\u001b[0mfield\u001b[0m\u001b[1;33m,\u001b[0m \u001b[0mdata\u001b[0m\u001b[1;33m)\u001b[0m\u001b[1;33m\u001b[0m\u001b[1;33m\u001b[0m\u001b[0m\n",
      "\u001b[1;32m~\\Anaconda3\\lib\\site-packages\\xgboost\\core.py\u001b[0m in \u001b[0;36m_convert_dataframes\u001b[1;34m(data, feature_names, feature_types, meta, meta_type)\u001b[0m\n\u001b[0;32m    360\u001b[0m                                                             \u001b[0mfeature_types\u001b[0m\u001b[1;33m,\u001b[0m\u001b[1;33m\u001b[0m\u001b[1;33m\u001b[0m\u001b[0m\n\u001b[0;32m    361\u001b[0m                                                             \u001b[0mmeta\u001b[0m\u001b[1;33m,\u001b[0m\u001b[1;33m\u001b[0m\u001b[1;33m\u001b[0m\u001b[0m\n\u001b[1;32m--> 362\u001b[1;33m                                                             meta_type)\n\u001b[0m\u001b[0;32m    363\u001b[0m \u001b[1;33m\u001b[0m\u001b[0m\n\u001b[0;32m    364\u001b[0m     data, feature_names, feature_types = _maybe_dt_data(data,\n",
      "\u001b[1;32m~\\Anaconda3\\lib\\site-packages\\xgboost\\core.py\u001b[0m in \u001b[0;36m_maybe_pandas_data\u001b[1;34m(data, feature_names, feature_types, meta, meta_type)\u001b[0m\n\u001b[0;32m    280\u001b[0m         raise ValueError(\n\u001b[0;32m    281\u001b[0m             'DataFrame for {meta} cannot have multiple columns'.format(\n\u001b[1;32m--> 282\u001b[1;33m                 meta=meta))\n\u001b[0m\u001b[0;32m    283\u001b[0m \u001b[1;33m\u001b[0m\u001b[0m\n\u001b[0;32m    284\u001b[0m     \u001b[0mdtype\u001b[0m \u001b[1;33m=\u001b[0m \u001b[0mmeta_type\u001b[0m \u001b[1;32mif\u001b[0m \u001b[0mmeta_type\u001b[0m \u001b[1;32melse\u001b[0m \u001b[1;34m'float'\u001b[0m\u001b[1;33m\u001b[0m\u001b[1;33m\u001b[0m\u001b[0m\n",
      "\u001b[1;31mValueError\u001b[0m: DataFrame for label cannot have multiple columns"
     ]
    }
   ],
   "source": [
    "# split the data and find the best parameters for q3\n",
    "x_train_q3_5, x_test_q3_5, y_train_q3_5, y_test_q3_5 = pre_processor(df_quant3_5,.2,True)\n",
    "params_q3_5 = best_parameters(x_train_q3_5,y_train_q3_5)"
   ]
  },
  {
   "cell_type": "code",
   "execution_count": null,
   "metadata": {},
   "outputs": [],
   "source": [
    "# split the data and find the best parameters for q4\n",
    "x_train_q4_5, x_test_q4_5, y_train_q4_5, y_test_q4_5 = pre_processor(df_quant4_5,.2,True)\n",
    "params_q4_5 = best_parameters(x_train_q4_5,y_train_q4_5)"
   ]
  },
  {
   "cell_type": "code",
   "execution_count": null,
   "metadata": {},
   "outputs": [],
   "source": [
    "# split the data and find the best parameters for q5\n",
    "x_train_q5_5, x_test_q5_5, y_train_q5_5, y_test_q5_5 = pre_processor(df_quant5_5,.2,True)\n",
    "params_q5_5 = best_parameters(x_train_q5_5,y_train_q5_5)"
   ]
  },
  {
   "cell_type": "code",
   "execution_count": 760,
   "metadata": {},
   "outputs": [
    {
     "name": "stdout",
     "output_type": "stream",
     "text": [
      "RMSE = 9277643.067374326\n",
      "Percent Error = 0.06540581818973189\n"
     ]
    }
   ],
   "source": [
    "# calculate the RMSE and percent error of q1 regression\n",
    "rmse_q1_5, per_q1_5 = fit_pred(df_quant1_5, params_q1_5, x_train_q1_5, x_test_q1_5, y_train_q1_5, y_test_q1_5)\n",
    "print('RMSE =',rmse_q1_5)\n",
    "print('Percent Error =',per_q1_5)"
   ]
  },
  {
   "cell_type": "code",
   "execution_count": 761,
   "metadata": {},
   "outputs": [
    {
     "name": "stdout",
     "output_type": "stream",
     "text": [
      "RMSE = 3772319.197409837\n",
      "Percent Error = 0.15465197408412715\n"
     ]
    }
   ],
   "source": [
    "# calculate the RMSE and percent error of q2 regression\n",
    "rmse_q2_5, per_q2_5 = fit_pred(df_quant2_5, params_q2_5, x_train_q2_5, x_test_q2_5, y_train_q2_5, y_test_q2_5)\n",
    "print('RMSE =',rmse_q2_5)\n",
    "print('Percent Error =',per_q2_5)"
   ]
  },
  {
   "cell_type": "code",
   "execution_count": null,
   "metadata": {},
   "outputs": [],
   "source": [
    "# calculate the RMSE and percent error of q3 regression\n",
    "rmse_q3_5, per_q3_5 = fit_pred(df_quant3_5, params_q3_5, x_train_q3_5, x_test_q3_5, y_train_q3_5, y_test_q3_5)\n",
    "print('RMSE =',rmse_q3_5)\n",
    "print('Percent Error =',per_q3_5)"
   ]
  },
  {
   "cell_type": "code",
   "execution_count": null,
   "metadata": {},
   "outputs": [],
   "source": [
    "# calculate the RMSE and percent error of q4 regression\n",
    "rmse_q4_5, per_q4_5 = fit_pred(df_quant4_5, params_q4_5, x_train_q4_5, x_test_q4_5, y_train_q4_5, y_test_q4_5)\n",
    "print('RMSE =',rmse_q4_5)\n",
    "print('Percent Error =',per_q4_5)"
   ]
  },
  {
   "cell_type": "code",
   "execution_count": null,
   "metadata": {},
   "outputs": [],
   "source": [
    "# calculate the RMSE and percent error of q5 regression\n",
    "rmse_q5_5, per_q5_5 = fit_pred(df_quant5_5, params_q5_5, x_train_q5_5, x_test_q5_5, y_train_q5_5, y_test_q5_5)\n",
    "print('RMSE =',rmse_q5_5)\n",
    "print('Percent Error =',per_q5_5)"
   ]
  },
  {
   "cell_type": "markdown",
   "metadata": {},
   "source": [
    "### Simulation of RMSE"
   ]
  },
  {
   "cell_type": "code",
   "execution_count": 766,
   "metadata": {},
   "outputs": [
    {
     "data": {
      "image/png": "[encoded data removed]",
      "text/plain": [
       "<Figure size 864x360 with 2 Axes>"
      ]
     },
     "metadata": {
      "needs_background": "light"
     },
     "output_type": "display_data"
    }
   ],
   "source": [
    "# simulate quantile 1 RMSE and plot\n",
    "rmse_q1_5, per_q1_5 = simulate(df_quant1_5,params_q1_5,100,.2,True)\n",
    "plot_func(rmse_q1_5,per_q1_5,'Quantile 1')"
   ]
  },
  {
   "cell_type": "code",
   "execution_count": null,
   "metadata": {},
   "outputs": [],
   "source": [
    "# simulate quantile 2 RMSE and plot\n",
    "rmse_q2_5, per_q2_5 = simulate(df_quant2_5,params_q2_5,100,.2,True)\n",
    "plot_func(rmse_q2_5,per_q2_5,'Quantile 2')"
   ]
  },
  {
   "cell_type": "code",
   "execution_count": null,
   "metadata": {},
   "outputs": [],
   "source": [
    "# simulate quantile 3 RMSE and plot\n",
    "rmse_q3_5, per_q3_5 = simulate(df_quant3_5,params_q3_5,100,.2,True)\n",
    "plot_func(rmse_q3_5,per_q3_5,'Quantile 3')"
   ]
  },
  {
   "cell_type": "code",
   "execution_count": null,
   "metadata": {},
   "outputs": [],
   "source": [
    "# simulate quantile 4 RMSE and plot\n",
    "rmse_q4_5, per_q4_5 = simulate(df_quant4_5,params_q4_5,100,.2,True)\n",
    "plot_func(rmse_q4_5,per_q4_5,'Quantile 4')"
   ]
  },
  {
   "cell_type": "code",
   "execution_count": null,
   "metadata": {},
   "outputs": [],
   "source": [
    "# simulate quantile 5 RMSE and plot\n",
    "rmse_q5_5, per_q5_5 = simulate(df_quant5_5,params_q5_5,100,.2,True)\n",
    "plot_func(rmse_q5_5,per_q5_5,'Quantile 5')"
   ]
  },
  {
   "cell_type": "markdown",
   "metadata": {},
   "source": [
    "### Simulate Errors"
   ]
  },
  {
   "cell_type": "code",
   "execution_count": 768,
   "metadata": {},
   "outputs": [
    {
     "data": {
      "image/png": "[encoded data removed]",
      "text/plain": [
       "<Figure size 864x360 with 2 Axes>"
      ]
     },
     "metadata": {
      "needs_background": "light"
     },
     "output_type": "display_data"
    }
   ],
   "source": [
    "# simulate and plot the errors of q1\n",
    "q1_err_sim_5,q1_err_per_sim_5 = errors(df_quant1_5,params_q1_5,100,.2,True)\n",
    "plot_errors(q1_err_sim_5,q1_err_per_sim_5,'Quantile 1')"
   ]
  },
  {
   "cell_type": "code",
   "execution_count": null,
   "metadata": {},
   "outputs": [],
   "source": [
    "# simulate and plot the errors of q2\n",
    "q2_err_sim_5,q2_err_per_sim_5 = errors(df_quant2_5,params_q2_5,100,.2,True)\n",
    "plot_errors(q2_err_sim_5,q2_err_per_sim_5,'Quantile 2')"
   ]
  },
  {
   "cell_type": "code",
   "execution_count": null,
   "metadata": {},
   "outputs": [],
   "source": [
    "# simulate and plot the errors of q3\n",
    "q3_err_sim_5,q3_err_per_sim_5 = errors(df_quant3_5,params_q3_5,100,.2,True)\n",
    "plot_errors(q3_err_sim_5,q3_err_per_sim_5,'Quantile 3')"
   ]
  },
  {
   "cell_type": "code",
   "execution_count": null,
   "metadata": {},
   "outputs": [],
   "source": [
    "# simulate and plot the errors of q4\n",
    "q4_err_sim_5,q4_err_per_sim_5 = errors(df_quant4_5,params_q4_5,100,.2,True)\n",
    "plot_errors(q4_err_sim_5,q4_err_per_sim_5,'Quantile 4')"
   ]
  },
  {
   "cell_type": "code",
   "execution_count": null,
   "metadata": {},
   "outputs": [],
   "source": [
    "# simulate and plot the errors of q5\n",
    "q5_err_sim_5,q5_err_per_sim_5 = errors(df_quant5_5,params_q5_5,100,.2,True)\n",
    "plot_errors(q5_err_sim_5,q5_err_per_sim_5,'Quantile 5')"
   ]
  }
 ],
 "metadata": {
  "kernelspec": {
   "display_name": "Python 3",
   "language": "python",
   "name": "python3"
  },
  "language_info": {
   "codemirror_mode": {
    "name": "ipython",
    "version": 3
   },
   "file_extension": ".py",
   "mimetype": "text/x-python",
   "name": "python",
   "nbconvert_exporter": "python",
   "pygments_lexer": "ipython3",
   "version": "3.7.3"
  }
 },
 "nbformat": 4,
 "nbformat_minor": 4
}
