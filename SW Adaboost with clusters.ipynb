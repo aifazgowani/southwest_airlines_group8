{
 "cells": [
  {
   "cell_type": "code",
   "execution_count": 1,
   "metadata": {},
   "outputs": [
    {
     "data": {
      "text/html": [
       "        <script type=\"text/javascript\">\n",
       "        window.PlotlyConfig = {MathJaxConfig: 'local'};\n",
       "        if (window.MathJax) {MathJax.Hub.Config({SVG: {font: \"STIX-Web\"}});}\n",
       "        if (typeof require !== 'undefined') {\n",
       "        require.undef(\"plotly\");\n",
       "        requirejs.config({\n",
       "            paths: {\n",
       "                'plotly': ['https://cdn.plot.ly/plotly-latest.min']\n",
       "            }\n",
       "        });\n",
       "        require(['plotly'], function(Plotly) {\n",
       "            window._Plotly = Plotly;\n",
       "        });\n",
       "        }\n",
       "        </script>\n",
       "        "
      ]
     },
     "metadata": {},
     "output_type": "display_data"
    }
   ],
   "source": [
    "import pandas as pd \n",
    "import ipywidgets as widgets\n",
    "from ipywidgets import interact, interact_manual\n",
    "\n",
    "import numpy as np\n",
    "from datetime import datetime\n",
    "import matplotlib.pyplot as plt\n",
    "import seaborn as sns\n",
    "plt.style.use('fivethirtyeight')\n",
    "sns.set()\n",
    "%matplotlib inline\n",
    "import plotly.offline as py\n",
    "py.init_notebook_mode(connected=True)\n",
    "import plotly.graph_objs as go\n",
    "import statsmodels.api as sm\n",
    "from sklearn.model_selection import train_test_split\n",
    "\n",
    "import warnings\n",
    "warnings.filterwarnings(\"ignore\")\n",
    "\n",
    "\n",
    "\n",
    "from sklearn.preprocessing import LabelEncoder\n",
    "from sklearn.preprocessing import MinMaxScaler\n",
    "from sklearn.metrics import mean_squared_error\n",
    "from sklearn.utils import shuffle\n",
    "from sklearn import model_selection\n",
    "from sklearn.linear_model import LogisticRegression\n",
    "\n",
    "from subprocess import check_output\n",
    "from sklearn.model_selection import train_test_split\n",
    "from sklearn import preprocessing\n",
    "\n",
    "from sklearn.tree import DecisionTreeRegressor\n",
    "from sklearn.ensemble import AdaBoostRegressor\n",
    "from sklearn.model_selection import GridSearchCV\n",
    "from pandas import DataFrame"
   ]
  },
  {
   "cell_type": "code",
   "execution_count": 2,
   "metadata": {},
   "outputs": [],
   "source": [
    "#importing the data \n",
    "df_actual = pd.read_csv('UTMSBA_ACTL.csv')\n",
    "df_fuel = pd.read_csv('UTMSBA_FUELPRICE.csv')\n",
    "df_clusters = pd.read_csv('Mean Clusts_Agg.csv')"
   ]
  },
  {
   "cell_type": "code",
   "execution_count": 4,
   "metadata": {},
   "outputs": [],
   "source": [
    "df_fuel = df_fuel.rename(columns={'Hashed_Station': 'Orig', 'Date':'Dep_dt'})"
   ]
  },
  {
   "cell_type": "code",
   "execution_count": 5,
   "metadata": {},
   "outputs": [],
   "source": [
    "# merge to get the fuel information\n",
    "df1 = pd.merge(df_actual, df_fuel, on = ['Orig', 'Dep_dt'], how = 'inner')"
   ]
  },
  {
   "cell_type": "code",
   "execution_count": 6,
   "metadata": {},
   "outputs": [],
   "source": [
    "# merge to get the clusters\n",
    "df1 = pd.merge(df1, df_clusters[['Orig', 'cluster', 'cluster_euclid', 'cluster_cosine']], \n",
    "               on = 'Orig', how = 'inner')"
   ]
  },
  {
   "cell_type": "code",
   "execution_count": 94,
   "metadata": {
    "scrolled": false
   },
   "outputs": [
    {
     "data": {
      "text/html": [
       "<div>\n",
       "<style scoped>\n",
       "    .dataframe tbody tr th:only-of-type {\n",
       "        vertical-align: middle;\n",
       "    }\n",
       "\n",
       "    .dataframe tbody tr th {\n",
       "        vertical-align: top;\n",
       "    }\n",
       "\n",
       "    .dataframe thead th {\n",
       "        text-align: right;\n",
       "    }\n",
       "</style>\n",
       "<table border=\"1\" class=\"dataframe\">\n",
       "  <thead>\n",
       "    <tr style=\"text-align: right;\">\n",
       "      <th></th>\n",
       "      <th>Dep_dt</th>\n",
       "      <th>Orig</th>\n",
       "      <th>Dest</th>\n",
       "      <th>Tail</th>\n",
       "      <th>Stage_length</th>\n",
       "      <th>ACTL_TM_IN_CENT</th>\n",
       "      <th>ACTL_TM_OUT_CENT</th>\n",
       "      <th>ACFT</th>\n",
       "      <th>Actl_BM</th>\n",
       "      <th>Gross_gal</th>\n",
       "      <th>...</th>\n",
       "      <th>mapping</th>\n",
       "      <th>cluster_euclid</th>\n",
       "      <th>cluster_cosine</th>\n",
       "      <th>pairs</th>\n",
       "      <th>year_month</th>\n",
       "      <th>top_50</th>\n",
       "      <th>hour_out</th>\n",
       "      <th>hour_in</th>\n",
       "      <th>month</th>\n",
       "      <th>day_of_week</th>\n",
       "    </tr>\n",
       "  </thead>\n",
       "  <tbody>\n",
       "    <tr>\n",
       "      <th>0</th>\n",
       "      <td>2017-09-01</td>\n",
       "      <td>27</td>\n",
       "      <td>139</td>\n",
       "      <td>78</td>\n",
       "      <td>240</td>\n",
       "      <td>1005</td>\n",
       "      <td>844</td>\n",
       "      <td>1</td>\n",
       "      <td>81</td>\n",
       "      <td>536.3</td>\n",
       "      <td>...</td>\n",
       "      <td>4</td>\n",
       "      <td>3</td>\n",
       "      <td>0</td>\n",
       "      <td>820</td>\n",
       "      <td>0</td>\n",
       "      <td>0</td>\n",
       "      <td>8</td>\n",
       "      <td>10</td>\n",
       "      <td>8</td>\n",
       "      <td>4</td>\n",
       "    </tr>\n",
       "    <tr>\n",
       "      <th>1</th>\n",
       "      <td>2017-09-01</td>\n",
       "      <td>27</td>\n",
       "      <td>140</td>\n",
       "      <td>189</td>\n",
       "      <td>430</td>\n",
       "      <td>1151</td>\n",
       "      <td>1036</td>\n",
       "      <td>1</td>\n",
       "      <td>75</td>\n",
       "      <td>653.2</td>\n",
       "      <td>...</td>\n",
       "      <td>4</td>\n",
       "      <td>3</td>\n",
       "      <td>0</td>\n",
       "      <td>821</td>\n",
       "      <td>0</td>\n",
       "      <td>0</td>\n",
       "      <td>10</td>\n",
       "      <td>11</td>\n",
       "      <td>8</td>\n",
       "      <td>4</td>\n",
       "    </tr>\n",
       "    <tr>\n",
       "      <th>2</th>\n",
       "      <td>2017-09-01</td>\n",
       "      <td>27</td>\n",
       "      <td>39</td>\n",
       "      <td>50</td>\n",
       "      <td>396</td>\n",
       "      <td>2054</td>\n",
       "      <td>1943</td>\n",
       "      <td>1</td>\n",
       "      <td>71</td>\n",
       "      <td>850.2</td>\n",
       "      <td>...</td>\n",
       "      <td>4</td>\n",
       "      <td>3</td>\n",
       "      <td>0</td>\n",
       "      <td>805</td>\n",
       "      <td>0</td>\n",
       "      <td>0</td>\n",
       "      <td>19</td>\n",
       "      <td>20</td>\n",
       "      <td>8</td>\n",
       "      <td>4</td>\n",
       "    </tr>\n",
       "    <tr>\n",
       "      <th>3</th>\n",
       "      <td>2017-09-01</td>\n",
       "      <td>27</td>\n",
       "      <td>139</td>\n",
       "      <td>50</td>\n",
       "      <td>240</td>\n",
       "      <td>2432</td>\n",
       "      <td>2331</td>\n",
       "      <td>1</td>\n",
       "      <td>61</td>\n",
       "      <td>1223.7</td>\n",
       "      <td>...</td>\n",
       "      <td>4</td>\n",
       "      <td>3</td>\n",
       "      <td>0</td>\n",
       "      <td>820</td>\n",
       "      <td>0</td>\n",
       "      <td>0</td>\n",
       "      <td>23</td>\n",
       "      <td>24</td>\n",
       "      <td>8</td>\n",
       "      <td>4</td>\n",
       "    </tr>\n",
       "    <tr>\n",
       "      <th>4</th>\n",
       "      <td>2017-09-01</td>\n",
       "      <td>27</td>\n",
       "      <td>85</td>\n",
       "      <td>153</td>\n",
       "      <td>359</td>\n",
       "      <td>1728</td>\n",
       "      <td>1622</td>\n",
       "      <td>1</td>\n",
       "      <td>66</td>\n",
       "      <td>1118.8</td>\n",
       "      <td>...</td>\n",
       "      <td>4</td>\n",
       "      <td>3</td>\n",
       "      <td>0</td>\n",
       "      <td>815</td>\n",
       "      <td>0</td>\n",
       "      <td>0</td>\n",
       "      <td>16</td>\n",
       "      <td>17</td>\n",
       "      <td>8</td>\n",
       "      <td>4</td>\n",
       "    </tr>\n",
       "  </tbody>\n",
       "</table>\n",
       "<p>5 rows × 25 columns</p>\n",
       "</div>"
      ],
      "text/plain": [
       "      Dep_dt  Orig  Dest  Tail  Stage_length  ACTL_TM_IN_CENT  \\\n",
       "0 2017-09-01    27   139    78           240             1005   \n",
       "1 2017-09-01    27   140   189           430             1151   \n",
       "2 2017-09-01    27    39    50           396             2054   \n",
       "3 2017-09-01    27   139    50           240             2432   \n",
       "4 2017-09-01    27    85   153           359             1728   \n",
       "\n",
       "   ACTL_TM_OUT_CENT  ACFT  Actl_BM  Gross_gal  ...  mapping  cluster_euclid  \\\n",
       "0               844     1       81      536.3  ...        4               3   \n",
       "1              1036     1       75      653.2  ...        4               3   \n",
       "2              1943     1       71      850.2  ...        4               3   \n",
       "3              2331     1       61     1223.7  ...        4               3   \n",
       "4              1622     1       66     1118.8  ...        4               3   \n",
       "\n",
       "   cluster_cosine  pairs  year_month  top_50  hour_out  hour_in  month  \\\n",
       "0               0    820           0       0         8       10      8   \n",
       "1               0    821           0       0        10       11      8   \n",
       "2               0    805           0       0        19       20      8   \n",
       "3               0    820           0       0        23       24      8   \n",
       "4               0    815           0       0        16       17      8   \n",
       "\n",
       "   day_of_week  \n",
       "0            4  \n",
       "1            4  \n",
       "2            4  \n",
       "3            4  \n",
       "4            4  \n",
       "\n",
       "[5 rows x 25 columns]"
      ]
     },
     "execution_count": 94,
     "metadata": {},
     "output_type": "execute_result"
    }
   ],
   "source": [
    "df1.head()"
   ]
  },
  {
   "cell_type": "code",
   "execution_count": null,
   "metadata": {},
   "outputs": [],
   "source": []
  },
  {
   "cell_type": "markdown",
   "metadata": {},
   "source": [
    "## Feature Engineering"
   ]
  },
  {
   "cell_type": "code",
   "execution_count": 8,
   "metadata": {},
   "outputs": [],
   "source": [
    "df1['pairs'] = df1['Orig'] + ' - ' + df1['Dest']"
   ]
  },
  {
   "cell_type": "code",
   "execution_count": 9,
   "metadata": {},
   "outputs": [],
   "source": [
    "def year_month(value):\n",
    "    value = str(value)\n",
    "    return str(value[:7])\n",
    "\n",
    "df1['year_month'] = df1['Dep_dt'].map(year_month)"
   ]
  },
  {
   "cell_type": "code",
   "execution_count": 10,
   "metadata": {},
   "outputs": [],
   "source": [
    "import datetime\n",
    "\n",
    "def date_format(value):\n",
    "    value = str(value)\n",
    "    year = int(value[:4])\n",
    "    month = int(value[5:7])\n",
    "    day = int(value[8:])\n",
    "    \n",
    "    #print(year,month,day)\n",
    "    date = datetime.date(year,month, day)\n",
    "    return date \n",
    "\n",
    "\n",
    "df1['Dep_dt'] = df1['Dep_dt'].map(date_format)"
   ]
  },
  {
   "cell_type": "code",
   "execution_count": 11,
   "metadata": {},
   "outputs": [],
   "source": [
    "a_list = df1['pairs'].value_counts().index[:51]\n",
    "def top_stations(value): \n",
    "    if value in a_list: \n",
    "        return 1 \n",
    "    return 0 \n",
    "\n",
    "df1['top_50'] = df1['pairs'].map(top_stations)\n",
    "top_sta = df1[df1['top_50'] == 1]"
   ]
  },
  {
   "cell_type": "code",
   "execution_count": 12,
   "metadata": {},
   "outputs": [],
   "source": [
    "def hour_of_the_day(time):\n",
    "    time = str(time)\n",
    "    return int(time[:-2])\n",
    "\n",
    "df1['hour_out'] = df1['ACTL_TM_OUT_CENT'].map(hour_of_the_day)\n",
    "df1['hour_in'] = df1['ACTL_TM_IN_CENT'].map(hour_of_the_day)"
   ]
  },
  {
   "cell_type": "code",
   "execution_count": 13,
   "metadata": {},
   "outputs": [],
   "source": [
    "def month(value): \n",
    "    return value[-2:]\n",
    "\n",
    "df1['month'] = df1['year_month'].map(month)"
   ]
  },
  {
   "cell_type": "code",
   "execution_count": null,
   "metadata": {},
   "outputs": [],
   "source": [
    "df1_arima = pd.pivot_table(df1,index = 'Orig', columns = ['year_month'], aggfunc = sum, values = ['Gross_gal'])"
   ]
  },
  {
   "cell_type": "code",
   "execution_count": 14,
   "metadata": {},
   "outputs": [],
   "source": [
    "from datetime import datetime as dt\n",
    "df1['day_of_week'] = df1['Dep_dt'].apply(lambda x: dt.weekday(x))"
   ]
  },
  {
   "cell_type": "code",
   "execution_count": 15,
   "metadata": {},
   "outputs": [],
   "source": []
  },
  {
   "cell_type": "code",
   "execution_count": 16,
   "metadata": {},
   "outputs": [],
   "source": [
    "df1['Dep_dt']= pd.to_datetime(df1['Dep_dt'])"
   ]
  },
  {
   "cell_type": "code",
   "execution_count": 17,
   "metadata": {},
   "outputs": [],
   "source": [
    "df1 = df1.rename(columns={'cluster': 'mapping'})"
   ]
  },
  {
   "cell_type": "code",
   "execution_count": null,
   "metadata": {},
   "outputs": [],
   "source": [
    "df1.columns"
   ]
  },
  {
   "cell_type": "code",
   "execution_count": 18,
   "metadata": {},
   "outputs": [],
   "source": [
    "cat_columns = df1.dtypes[df1.dtypes == 'object'].index"
   ]
  },
  {
   "cell_type": "code",
   "execution_count": null,
   "metadata": {},
   "outputs": [],
   "source": [
    "df1.head()"
   ]
  },
  {
   "cell_type": "markdown",
   "metadata": {},
   "source": [
    "## AdaBoost"
   ]
  },
  {
   "cell_type": "code",
   "execution_count": 21,
   "metadata": {},
   "outputs": [],
   "source": [
    "label_encoder = preprocessing.LabelEncoder()\n",
    "\n",
    "for col in cat_columns:\n",
    "    df1[col].fillna(\"unknown\")\n",
    "    df1[col] = label_encoder.fit_transform(df1[col].astype(str))"
   ]
  },
  {
   "cell_type": "markdown",
   "metadata": {},
   "source": [
    "### Cluster 1"
   ]
  },
  {
   "cell_type": "code",
   "execution_count": 78,
   "metadata": {},
   "outputs": [],
   "source": [
    "clus1 = df1[(df1['mapping'] == 1) ]# |(df1['mapping'] == 2) ]\n",
    "clus1 = clus1[clus1.Gross_gal.between(clus1.Gross_gal.quantile(.000), clus1.Gross_gal.quantile(.95))] # without outliers\n",
    "\n",
    "X = clus1.drop(['Dep_dt','Gross_gal', 'Enroute_gal','Alt_gal', 'Cont_gal', 'Tanker_gal', 'pairs','ACTL_TM_IN_CENT',\n",
    "       'ACTL_TM_OUT_CENT','Actl_BM', 'cluster_euclid', 'cluster_cosine'], axis=1)\n",
    "y = clus1.Gross_gal\n",
    "feature_names = X.columns.tolist()\n",
    "\n",
    "X_train, X_valid, y_train, y_valid = train_test_split(\n",
    "    X, y, test_size=0.25, random_state=42)"
   ]
  },
  {
   "cell_type": "code",
   "execution_count": 24,
   "metadata": {},
   "outputs": [
    {
     "data": {
      "text/html": [
       "<div>\n",
       "<style scoped>\n",
       "    .dataframe tbody tr th:only-of-type {\n",
       "        vertical-align: middle;\n",
       "    }\n",
       "\n",
       "    .dataframe tbody tr th {\n",
       "        vertical-align: top;\n",
       "    }\n",
       "\n",
       "    .dataframe thead th {\n",
       "        text-align: right;\n",
       "    }\n",
       "</style>\n",
       "<table border=\"1\" class=\"dataframe\">\n",
       "  <thead>\n",
       "    <tr style=\"text-align: right;\">\n",
       "      <th></th>\n",
       "      <th>Orig</th>\n",
       "      <th>Dest</th>\n",
       "      <th>Tail</th>\n",
       "      <th>Stage_length</th>\n",
       "      <th>ACFT</th>\n",
       "      <th>Hashed_Fuel_Price</th>\n",
       "      <th>mapping</th>\n",
       "      <th>year_month</th>\n",
       "      <th>top_50</th>\n",
       "      <th>hour_out</th>\n",
       "      <th>hour_in</th>\n",
       "      <th>month</th>\n",
       "      <th>day_of_week</th>\n",
       "    </tr>\n",
       "  </thead>\n",
       "  <tbody>\n",
       "    <tr>\n",
       "      <th>1285625</th>\n",
       "      <td>54</td>\n",
       "      <td>113</td>\n",
       "      <td>171</td>\n",
       "      <td>1076</td>\n",
       "      <td>1</td>\n",
       "      <td>2.0453</td>\n",
       "      <td>1</td>\n",
       "      <td>6</td>\n",
       "      <td>0</td>\n",
       "      <td>8</td>\n",
       "      <td>11</td>\n",
       "      <td>2</td>\n",
       "      <td>1</td>\n",
       "    </tr>\n",
       "    <tr>\n",
       "      <th>1281679</th>\n",
       "      <td>54</td>\n",
       "      <td>76</td>\n",
       "      <td>294</td>\n",
       "      <td>1724</td>\n",
       "      <td>1</td>\n",
       "      <td>2.1321</td>\n",
       "      <td>1</td>\n",
       "      <td>26</td>\n",
       "      <td>0</td>\n",
       "      <td>6</td>\n",
       "      <td>9</td>\n",
       "      <td>10</td>\n",
       "      <td>6</td>\n",
       "    </tr>\n",
       "    <tr>\n",
       "      <th>1268491</th>\n",
       "      <td>54</td>\n",
       "      <td>21</td>\n",
       "      <td>534</td>\n",
       "      <td>1178</td>\n",
       "      <td>0</td>\n",
       "      <td>2.4742</td>\n",
       "      <td>1</td>\n",
       "      <td>14</td>\n",
       "      <td>0</td>\n",
       "      <td>11</td>\n",
       "      <td>14</td>\n",
       "      <td>10</td>\n",
       "      <td>0</td>\n",
       "    </tr>\n",
       "    <tr>\n",
       "      <th>3175912</th>\n",
       "      <td>34</td>\n",
       "      <td>61</td>\n",
       "      <td>464</td>\n",
       "      <td>173</td>\n",
       "      <td>0</td>\n",
       "      <td>2.1179</td>\n",
       "      <td>1</td>\n",
       "      <td>22</td>\n",
       "      <td>0</td>\n",
       "      <td>13</td>\n",
       "      <td>13</td>\n",
       "      <td>6</td>\n",
       "      <td>0</td>\n",
       "    </tr>\n",
       "    <tr>\n",
       "      <th>3077782</th>\n",
       "      <td>94</td>\n",
       "      <td>76</td>\n",
       "      <td>145</td>\n",
       "      <td>1546</td>\n",
       "      <td>0</td>\n",
       "      <td>2.0341</td>\n",
       "      <td>1</td>\n",
       "      <td>23</td>\n",
       "      <td>0</td>\n",
       "      <td>4</td>\n",
       "      <td>8</td>\n",
       "      <td>7</td>\n",
       "      <td>0</td>\n",
       "    </tr>\n",
       "  </tbody>\n",
       "</table>\n",
       "</div>"
      ],
      "text/plain": [
       "         Orig  Dest  Tail  Stage_length  ACFT  Hashed_Fuel_Price  mapping  \\\n",
       "1285625    54   113   171          1076     1             2.0453        1   \n",
       "1281679    54    76   294          1724     1             2.1321        1   \n",
       "1268491    54    21   534          1178     0             2.4742        1   \n",
       "3175912    34    61   464           173     0             2.1179        1   \n",
       "3077782    94    76   145          1546     0             2.0341        1   \n",
       "\n",
       "         year_month  top_50  hour_out  hour_in  month  day_of_week  \n",
       "1285625           6       0         8       11      2            1  \n",
       "1281679          26       0         6        9     10            6  \n",
       "1268491          14       0        11       14     10            0  \n",
       "3175912          22       0        13       13      6            0  \n",
       "3077782          23       0         4        8      7            0  "
      ]
     },
     "execution_count": 24,
     "metadata": {},
     "output_type": "execute_result"
    }
   ],
   "source": [
    "X_train.head()"
   ]
  },
  {
   "cell_type": "code",
   "execution_count": 85,
   "metadata": {},
   "outputs": [],
   "source": [
    "# create a function which finds the best parameters to use in the model\n",
    "def best_parameters(x_train,y_train):\n",
    "    \n",
    "    param_dist = {\n",
    "     'n_estimators': [50, 100],\n",
    "     'learning_rate' : [0.01, 0.05,0.1,0.3,1],\n",
    "     'loss' : ['square']\n",
    "     }\n",
    "\n",
    "    pre_gs_inst = GridSearchCV(AdaBoostRegressor(),param_grid = param_dist, scoring = 'neg_mean_squared_error')\n",
    "    pre_gs_inst.fit(X_train, y_train)              \n",
    "    return pre_gs_inst.best_params_"
   ]
  },
  {
   "cell_type": "code",
   "execution_count": 68,
   "metadata": {},
   "outputs": [],
   "source": [
    "# split the data and find the best parameters for cluster1\n",
    "params_cluster1 = best_parameters(X_train,y_train)"
   ]
  },
  {
   "cell_type": "code",
   "execution_count": 69,
   "metadata": {},
   "outputs": [
    {
     "data": {
      "text/plain": [
       "{'learning_rate': 0.01, 'loss': 'square', 'n_estimators': 50}"
      ]
     },
     "execution_count": 69,
     "metadata": {},
     "output_type": "execute_result"
    }
   ],
   "source": [
    "params_cluster1"
   ]
  },
  {
   "cell_type": "code",
   "execution_count": 79,
   "metadata": {},
   "outputs": [
    {
     "data": {
      "image/png": "[encoded data removed]",
      "text/plain": [
       "<Figure size 720x504 with 1 Axes>"
      ]
     },
     "metadata": {
      "needs_background": "light"
     },
     "output_type": "display_data"
    }
   ],
   "source": [
    "ada2=AdaBoostRegressor(n_estimators=50,learning_rate=0.01,random_state=1, loss = 'square')\n",
    "ada2.fit(X_train, y_train)\n",
    "pred = ada2.predict(X_valid)\n",
    "rmse = np.sqrt(mean_squared_error(y_valid, pred))\n",
    "\n",
    "fea_imp = pd.DataFrame({'imp': ada2.feature_importances_, 'col': X_valid.columns})\n",
    "fea_imp = fea_imp.sort_values(['imp', 'col'], ascending=[True, False]).iloc[-30:]\n",
    "fea_imp.plot(kind='barh', x='col', y='imp', figsize=(10, 7), legend=None)\n",
    "plt.title('AdaBoost - Feature Importance')\n",
    "plt.ylabel('Features')\n",
    "plt.xlabel('Importance');"
   ]
  },
  {
   "cell_type": "code",
   "execution_count": 80,
   "metadata": {},
   "outputs": [
    {
     "data": {
      "text/html": [
       "<div>\n",
       "<style scoped>\n",
       "    .dataframe tbody tr th:only-of-type {\n",
       "        vertical-align: middle;\n",
       "    }\n",
       "\n",
       "    .dataframe tbody tr th {\n",
       "        vertical-align: top;\n",
       "    }\n",
       "\n",
       "    .dataframe thead th {\n",
       "        text-align: right;\n",
       "    }\n",
       "</style>\n",
       "<table border=\"1\" class=\"dataframe\">\n",
       "  <thead>\n",
       "    <tr style=\"text-align: right;\">\n",
       "      <th></th>\n",
       "      <th>index</th>\n",
       "      <th>Orig</th>\n",
       "      <th>Dest</th>\n",
       "      <th>Tail</th>\n",
       "      <th>Stage_length</th>\n",
       "      <th>ACFT</th>\n",
       "      <th>Hashed_Fuel_Price</th>\n",
       "      <th>mapping</th>\n",
       "      <th>top_50</th>\n",
       "      <th>hour_out</th>\n",
       "      <th>hour_in</th>\n",
       "      <th>month</th>\n",
       "      <th>day_of_week</th>\n",
       "      <th>y_valid</th>\n",
       "      <th>prediction</th>\n",
       "      <th>diff</th>\n",
       "      <th>percent_off</th>\n",
       "    </tr>\n",
       "    <tr>\n",
       "      <th>year_month</th>\n",
       "      <th></th>\n",
       "      <th></th>\n",
       "      <th></th>\n",
       "      <th></th>\n",
       "      <th></th>\n",
       "      <th></th>\n",
       "      <th></th>\n",
       "      <th></th>\n",
       "      <th></th>\n",
       "      <th></th>\n",
       "      <th></th>\n",
       "      <th></th>\n",
       "      <th></th>\n",
       "      <th></th>\n",
       "      <th></th>\n",
       "      <th></th>\n",
       "      <th></th>\n",
       "    </tr>\n",
       "  </thead>\n",
       "  <tbody>\n",
       "    <tr>\n",
       "      <th>0</th>\n",
       "      <td>1373461008</td>\n",
       "      <td>36206</td>\n",
       "      <td>43075</td>\n",
       "      <td>218234</td>\n",
       "      <td>657927</td>\n",
       "      <td>440</td>\n",
       "      <td>1184.3734</td>\n",
       "      <td>579</td>\n",
       "      <td>0</td>\n",
       "      <td>6893</td>\n",
       "      <td>8581</td>\n",
       "      <td>4632</td>\n",
       "      <td>1684</td>\n",
       "      <td>1206311.6</td>\n",
       "      <td>1.288617e+06</td>\n",
       "      <td>82305.822994</td>\n",
       "      <td>0.068229</td>\n",
       "    </tr>\n",
       "    <tr>\n",
       "      <th>1</th>\n",
       "      <td>1489174962</td>\n",
       "      <td>37716</td>\n",
       "      <td>43956</td>\n",
       "      <td>231371</td>\n",
       "      <td>692638</td>\n",
       "      <td>442</td>\n",
       "      <td>1200.0895</td>\n",
       "      <td>621</td>\n",
       "      <td>0</td>\n",
       "      <td>7182</td>\n",
       "      <td>8964</td>\n",
       "      <td>5589</td>\n",
       "      <td>1835</td>\n",
       "      <td>1337100.0</td>\n",
       "      <td>1.347633e+06</td>\n",
       "      <td>10533.063466</td>\n",
       "      <td>0.007878</td>\n",
       "    </tr>\n",
       "    <tr>\n",
       "      <th>2</th>\n",
       "      <td>1871878053</td>\n",
       "      <td>44139</td>\n",
       "      <td>53279</td>\n",
       "      <td>296041</td>\n",
       "      <td>845719</td>\n",
       "      <td>553</td>\n",
       "      <td>1533.8901</td>\n",
       "      <td>759</td>\n",
       "      <td>0</td>\n",
       "      <td>9014</td>\n",
       "      <td>11233</td>\n",
       "      <td>7590</td>\n",
       "      <td>2249</td>\n",
       "      <td>1537375.1</td>\n",
       "      <td>1.629248e+06</td>\n",
       "      <td>91873.087044</td>\n",
       "      <td>0.059760</td>\n",
       "    </tr>\n",
       "    <tr>\n",
       "      <th>3</th>\n",
       "      <td>1766603915</td>\n",
       "      <td>41602</td>\n",
       "      <td>48194</td>\n",
       "      <td>269006</td>\n",
       "      <td>809927</td>\n",
       "      <td>530</td>\n",
       "      <td>1543.1943</td>\n",
       "      <td>716</td>\n",
       "      <td>0</td>\n",
       "      <td>8609</td>\n",
       "      <td>10827</td>\n",
       "      <td>7876</td>\n",
       "      <td>2261</td>\n",
       "      <td>1612728.5</td>\n",
       "      <td>1.544523e+06</td>\n",
       "      <td>68205.370223</td>\n",
       "      <td>0.042292</td>\n",
       "    </tr>\n",
       "    <tr>\n",
       "      <th>4</th>\n",
       "      <td>1722618488</td>\n",
       "      <td>41951</td>\n",
       "      <td>50028</td>\n",
       "      <td>258905</td>\n",
       "      <td>795951</td>\n",
       "      <td>558</td>\n",
       "      <td>1598.5735</td>\n",
       "      <td>699</td>\n",
       "      <td>0</td>\n",
       "      <td>8305</td>\n",
       "      <td>10402</td>\n",
       "      <td>0</td>\n",
       "      <td>1986</td>\n",
       "      <td>1540564.3</td>\n",
       "      <td>1.521029e+06</td>\n",
       "      <td>19534.997184</td>\n",
       "      <td>0.012680</td>\n",
       "    </tr>\n",
       "  </tbody>\n",
       "</table>\n",
       "</div>"
      ],
      "text/plain": [
       "                 index   Orig   Dest    Tail  Stage_length  ACFT  \\\n",
       "year_month                                                         \n",
       "0           1373461008  36206  43075  218234        657927   440   \n",
       "1           1489174962  37716  43956  231371        692638   442   \n",
       "2           1871878053  44139  53279  296041        845719   553   \n",
       "3           1766603915  41602  48194  269006        809927   530   \n",
       "4           1722618488  41951  50028  258905        795951   558   \n",
       "\n",
       "            Hashed_Fuel_Price  mapping  top_50  hour_out  hour_in  month  \\\n",
       "year_month                                                                 \n",
       "0                   1184.3734      579       0      6893     8581   4632   \n",
       "1                   1200.0895      621       0      7182     8964   5589   \n",
       "2                   1533.8901      759       0      9014    11233   7590   \n",
       "3                   1543.1943      716       0      8609    10827   7876   \n",
       "4                   1598.5735      699       0      8305    10402      0   \n",
       "\n",
       "            day_of_week    y_valid    prediction          diff  percent_off  \n",
       "year_month                                                                   \n",
       "0                  1684  1206311.6  1.288617e+06  82305.822994     0.068229  \n",
       "1                  1835  1337100.0  1.347633e+06  10533.063466     0.007878  \n",
       "2                  2249  1537375.1  1.629248e+06  91873.087044     0.059760  \n",
       "3                  2261  1612728.5  1.544523e+06  68205.370223     0.042292  \n",
       "4                  1986  1540564.3  1.521029e+06  19534.997184     0.012680  "
      ]
     },
     "execution_count": 80,
     "metadata": {},
     "output_type": "execute_result"
    }
   ],
   "source": [
    "a = DataFrame(pred)\n",
    "a['y_valid'] = y_valid.reset_index()['Gross_gal']\n",
    "\n",
    "a['prediction'] = a[0]\n",
    "a.drop([0], axis = 1, inplace = True)\n",
    "X_valid.reset_index(inplace = True)\n",
    "valid = pd.concat([X_valid, a], axis=1)\n",
    "gb = valid.groupby(['year_month']).sum()\n",
    "gb['diff'] = abs(gb['y_valid'] - gb['prediction'])\n",
    "gb_new = gb.sort_values(by = ['year_month'])\n",
    "gb_new['percent_off'] = gb_new['diff'] / gb['y_valid']\n",
    "gb_new.head()"
   ]
  },
  {
   "cell_type": "code",
   "execution_count": 81,
   "metadata": {},
   "outputs": [
    {
     "data": {
      "text/plain": [
       "0.0420391984281435"
      ]
     },
     "execution_count": 81,
     "metadata": {},
     "output_type": "execute_result"
    }
   ],
   "source": [
    "gb_new['percent_off'].mean()"
   ]
  },
  {
   "cell_type": "code",
   "execution_count": null,
   "metadata": {},
   "outputs": [],
   "source": []
  },
  {
   "cell_type": "markdown",
   "metadata": {},
   "source": [
    "## Cluster 2"
   ]
  },
  {
   "cell_type": "code",
   "execution_count": 86,
   "metadata": {},
   "outputs": [],
   "source": [
    "clus2 = df1[(df1['mapping'] == 2) ]# |(df1['mapping'] == 2) ]\n",
    "clus2 = clus2[clus2.Gross_gal.between(clus2.Gross_gal.quantile(.000), clus2.Gross_gal.quantile(.95))] # without outliers\n",
    "\n",
    "X = clus2.drop(['Dep_dt','Gross_gal', 'Enroute_gal','Alt_gal', 'Cont_gal', 'Tanker_gal', 'pairs','ACTL_TM_IN_CENT',\n",
    "       'ACTL_TM_OUT_CENT','Actl_BM', 'cluster_euclid', 'cluster_cosine'], axis=1)\n",
    "y = clus2.Gross_gal\n",
    "feature_names = X.columns.tolist()\n",
    "\n",
    "X_train, X_valid, y_train, y_valid = train_test_split(\n",
    "    X, y, test_size=0.25, random_state=42)"
   ]
  },
  {
   "cell_type": "code",
   "execution_count": 87,
   "metadata": {},
   "outputs": [
    {
     "data": {
      "text/plain": [
       "{'learning_rate': 0.01, 'loss': 'square', 'n_estimators': 100}"
      ]
     },
     "execution_count": 87,
     "metadata": {},
     "output_type": "execute_result"
    }
   ],
   "source": [
    "params_cluster2 = best_parameters(X_train,y_train)\n",
    "params_cluster2"
   ]
  },
  {
   "cell_type": "code",
   "execution_count": 88,
   "metadata": {},
   "outputs": [
    {
     "data": {
      "image/png": "[encoded data removed]",
      "text/plain": [
       "<Figure size 720x504 with 1 Axes>"
      ]
     },
     "metadata": {
      "needs_background": "light"
     },
     "output_type": "display_data"
    }
   ],
   "source": [
    "ada2=AdaBoostRegressor(n_estimators=100,learning_rate=0.01,random_state=1)\n",
    "ada2.fit(X_train, y_train)\n",
    "pred = ada2.predict(X_valid)\n",
    "rmse = np.sqrt(mean_squared_error(y_valid, pred))\n",
    "\n",
    "fea_imp = pd.DataFrame({'imp': ada2.feature_importances_, 'col': X_valid.columns})\n",
    "fea_imp = fea_imp.sort_values(['imp', 'col'], ascending=[True, False]).iloc[-30:]\n",
    "fea_imp.plot(kind='barh', x='col', y='imp', figsize=(10, 7), legend=None)\n",
    "plt.title('AdaBoost - Feature Importance')\n",
    "plt.ylabel('Features')\n",
    "plt.xlabel('Importance');"
   ]
  },
  {
   "cell_type": "code",
   "execution_count": 89,
   "metadata": {
    "scrolled": true
   },
   "outputs": [
    {
     "data": {
      "text/html": [
       "<div>\n",
       "<style scoped>\n",
       "    .dataframe tbody tr th:only-of-type {\n",
       "        vertical-align: middle;\n",
       "    }\n",
       "\n",
       "    .dataframe tbody tr th {\n",
       "        vertical-align: top;\n",
       "    }\n",
       "\n",
       "    .dataframe thead th {\n",
       "        text-align: right;\n",
       "    }\n",
       "</style>\n",
       "<table border=\"1\" class=\"dataframe\">\n",
       "  <thead>\n",
       "    <tr style=\"text-align: right;\">\n",
       "      <th></th>\n",
       "      <th>index</th>\n",
       "      <th>Orig</th>\n",
       "      <th>Dest</th>\n",
       "      <th>Tail</th>\n",
       "      <th>Stage_length</th>\n",
       "      <th>ACFT</th>\n",
       "      <th>Hashed_Fuel_Price</th>\n",
       "      <th>mapping</th>\n",
       "      <th>top_50</th>\n",
       "      <th>hour_out</th>\n",
       "      <th>hour_in</th>\n",
       "      <th>month</th>\n",
       "      <th>day_of_week</th>\n",
       "      <th>y_valid</th>\n",
       "      <th>prediction</th>\n",
       "      <th>diff</th>\n",
       "      <th>percent_off</th>\n",
       "    </tr>\n",
       "    <tr>\n",
       "      <th>year_month</th>\n",
       "      <th></th>\n",
       "      <th></th>\n",
       "      <th></th>\n",
       "      <th></th>\n",
       "      <th></th>\n",
       "      <th></th>\n",
       "      <th></th>\n",
       "      <th></th>\n",
       "      <th></th>\n",
       "      <th></th>\n",
       "      <th></th>\n",
       "      <th></th>\n",
       "      <th></th>\n",
       "      <th></th>\n",
       "      <th></th>\n",
       "      <th></th>\n",
       "      <th></th>\n",
       "    </tr>\n",
       "  </thead>\n",
       "  <tbody>\n",
       "    <tr>\n",
       "      <th>0</th>\n",
       "      <td>13464191484</td>\n",
       "      <td>560528</td>\n",
       "      <td>652348</td>\n",
       "      <td>3332316</td>\n",
       "      <td>7101433</td>\n",
       "      <td>6949</td>\n",
       "      <td>17149.2752</td>\n",
       "      <td>17520</td>\n",
       "      <td>1294</td>\n",
       "      <td>117450</td>\n",
       "      <td>135387</td>\n",
       "      <td>70080</td>\n",
       "      <td>26504</td>\n",
       "      <td>15255082.4</td>\n",
       "      <td>1.528069e+07</td>\n",
       "      <td>25611.572555</td>\n",
       "      <td>0.001679</td>\n",
       "    </tr>\n",
       "    <tr>\n",
       "      <th>1</th>\n",
       "      <td>15909097567</td>\n",
       "      <td>640951</td>\n",
       "      <td>763579</td>\n",
       "      <td>3861117</td>\n",
       "      <td>8083293</td>\n",
       "      <td>7973</td>\n",
       "      <td>19122.8194</td>\n",
       "      <td>20312</td>\n",
       "      <td>1468</td>\n",
       "      <td>135996</td>\n",
       "      <td>156527</td>\n",
       "      <td>91404</td>\n",
       "      <td>29122</td>\n",
       "      <td>17981996.3</td>\n",
       "      <td>1.752715e+07</td>\n",
       "      <td>454847.507886</td>\n",
       "      <td>0.025295</td>\n",
       "    </tr>\n",
       "    <tr>\n",
       "      <th>2</th>\n",
       "      <td>16501546247</td>\n",
       "      <td>651064</td>\n",
       "      <td>763995</td>\n",
       "      <td>3950715</td>\n",
       "      <td>8323088</td>\n",
       "      <td>8260</td>\n",
       "      <td>20112.2221</td>\n",
       "      <td>20770</td>\n",
       "      <td>1489</td>\n",
       "      <td>138228</td>\n",
       "      <td>159566</td>\n",
       "      <td>103850</td>\n",
       "      <td>30289</td>\n",
       "      <td>18312418.0</td>\n",
       "      <td>1.796598e+07</td>\n",
       "      <td>346441.646360</td>\n",
       "      <td>0.018918</td>\n",
       "    </tr>\n",
       "    <tr>\n",
       "      <th>3</th>\n",
       "      <td>17188050192</td>\n",
       "      <td>666584</td>\n",
       "      <td>792029</td>\n",
       "      <td>4110287</td>\n",
       "      <td>8815340</td>\n",
       "      <td>8419</td>\n",
       "      <td>21842.7453</td>\n",
       "      <td>21522</td>\n",
       "      <td>1464</td>\n",
       "      <td>144338</td>\n",
       "      <td>167065</td>\n",
       "      <td>118371</td>\n",
       "      <td>33588</td>\n",
       "      <td>18987810.7</td>\n",
       "      <td>1.883109e+07</td>\n",
       "      <td>156716.235510</td>\n",
       "      <td>0.008254</td>\n",
       "    </tr>\n",
       "    <tr>\n",
       "      <th>4</th>\n",
       "      <td>16676564862</td>\n",
       "      <td>655315</td>\n",
       "      <td>770403</td>\n",
       "      <td>4009907</td>\n",
       "      <td>8570814</td>\n",
       "      <td>8213</td>\n",
       "      <td>23014.9110</td>\n",
       "      <td>21012</td>\n",
       "      <td>1567</td>\n",
       "      <td>140133</td>\n",
       "      <td>162395</td>\n",
       "      <td>0</td>\n",
       "      <td>28731</td>\n",
       "      <td>18556368.9</td>\n",
       "      <td>1.832254e+07</td>\n",
       "      <td>233827.049587</td>\n",
       "      <td>0.012601</td>\n",
       "    </tr>\n",
       "  </tbody>\n",
       "</table>\n",
       "</div>"
      ],
      "text/plain": [
       "                  index    Orig    Dest     Tail  Stage_length  ACFT  \\\n",
       "year_month                                                             \n",
       "0           13464191484  560528  652348  3332316       7101433  6949   \n",
       "1           15909097567  640951  763579  3861117       8083293  7973   \n",
       "2           16501546247  651064  763995  3950715       8323088  8260   \n",
       "3           17188050192  666584  792029  4110287       8815340  8419   \n",
       "4           16676564862  655315  770403  4009907       8570814  8213   \n",
       "\n",
       "            Hashed_Fuel_Price  mapping  top_50  hour_out  hour_in   month  \\\n",
       "year_month                                                                  \n",
       "0                  17149.2752    17520    1294    117450   135387   70080   \n",
       "1                  19122.8194    20312    1468    135996   156527   91404   \n",
       "2                  20112.2221    20770    1489    138228   159566  103850   \n",
       "3                  21842.7453    21522    1464    144338   167065  118371   \n",
       "4                  23014.9110    21012    1567    140133   162395       0   \n",
       "\n",
       "            day_of_week     y_valid    prediction           diff  percent_off  \n",
       "year_month                                                                     \n",
       "0                 26504  15255082.4  1.528069e+07   25611.572555     0.001679  \n",
       "1                 29122  17981996.3  1.752715e+07  454847.507886     0.025295  \n",
       "2                 30289  18312418.0  1.796598e+07  346441.646360     0.018918  \n",
       "3                 33588  18987810.7  1.883109e+07  156716.235510     0.008254  \n",
       "4                 28731  18556368.9  1.832254e+07  233827.049587     0.012601  "
      ]
     },
     "execution_count": 89,
     "metadata": {},
     "output_type": "execute_result"
    }
   ],
   "source": [
    "a2 = DataFrame(pred)\n",
    "a2['y_valid'] = y_valid.reset_index()['Gross_gal']\n",
    "\n",
    "a2['prediction'] = a2[0]\n",
    "a2.drop([0], axis = 1, inplace = True)\n",
    "X_valid.reset_index(inplace = True)\n",
    "valid2 = pd.concat([X_valid, a2], axis=1)\n",
    "gb2 = valid2.groupby(['year_month']).sum()\n",
    "gb2['diff'] = abs(gb2['y_valid'] - gb2['prediction'])\n",
    "gb_new2 = gb2.sort_values(by = ['year_month'])\n",
    "gb_new2['percent_off'] = gb_new2['diff'] / gb2['y_valid']\n",
    "gb_new2.head()"
   ]
  },
  {
   "cell_type": "code",
   "execution_count": 90,
   "metadata": {},
   "outputs": [
    {
     "data": {
      "text/plain": [
       "0.013894923978679212"
      ]
     },
     "execution_count": 90,
     "metadata": {},
     "output_type": "execute_result"
    }
   ],
   "source": [
    "gb_new2['percent_off'].mean()"
   ]
  },
  {
   "cell_type": "code",
   "execution_count": null,
   "metadata": {},
   "outputs": [],
   "source": []
  },
  {
   "cell_type": "markdown",
   "metadata": {},
   "source": [
    "### Cluster 3"
   ]
  },
  {
   "cell_type": "code",
   "execution_count": 92,
   "metadata": {},
   "outputs": [
    {
     "data": {
      "text/html": [
       "<div>\n",
       "<style scoped>\n",
       "    .dataframe tbody tr th:only-of-type {\n",
       "        vertical-align: middle;\n",
       "    }\n",
       "\n",
       "    .dataframe tbody tr th {\n",
       "        vertical-align: top;\n",
       "    }\n",
       "\n",
       "    .dataframe thead th {\n",
       "        text-align: right;\n",
       "    }\n",
       "</style>\n",
       "<table border=\"1\" class=\"dataframe\">\n",
       "  <thead>\n",
       "    <tr style=\"text-align: right;\">\n",
       "      <th></th>\n",
       "      <th>Dep_dt</th>\n",
       "      <th>Orig</th>\n",
       "      <th>Dest</th>\n",
       "      <th>Tail</th>\n",
       "      <th>Stage_length</th>\n",
       "      <th>ACTL_TM_IN_CENT</th>\n",
       "      <th>ACTL_TM_OUT_CENT</th>\n",
       "      <th>ACFT</th>\n",
       "      <th>Actl_BM</th>\n",
       "      <th>Gross_gal</th>\n",
       "      <th>...</th>\n",
       "      <th>mapping</th>\n",
       "      <th>cluster_euclid</th>\n",
       "      <th>cluster_cosine</th>\n",
       "      <th>pairs</th>\n",
       "      <th>year_month</th>\n",
       "      <th>top_50</th>\n",
       "      <th>hour_out</th>\n",
       "      <th>hour_in</th>\n",
       "      <th>month</th>\n",
       "      <th>day_of_week</th>\n",
       "    </tr>\n",
       "  </thead>\n",
       "  <tbody>\n",
       "  </tbody>\n",
       "</table>\n",
       "<p>0 rows × 25 columns</p>\n",
       "</div>"
      ],
      "text/plain": [
       "Empty DataFrame\n",
       "Columns: [Dep_dt, Orig, Dest, Tail, Stage_length, ACTL_TM_IN_CENT, ACTL_TM_OUT_CENT, ACFT, Actl_BM, Gross_gal, Enroute_gal, Alt_gal, Cont_gal, Tanker_gal, Hashed_Fuel_Price, mapping, cluster_euclid, cluster_cosine, pairs, year_month, top_50, hour_out, hour_in, month, day_of_week]\n",
       "Index: []\n",
       "\n",
       "[0 rows x 25 columns]"
      ]
     },
     "execution_count": 92,
     "metadata": {},
     "output_type": "execute_result"
    }
   ],
   "source": [
    "clus3 = df1[(df1['mapping'] == 3)]\n",
    "clus3.head()"
   ]
  },
  {
   "cell_type": "code",
   "execution_count": 91,
   "metadata": {},
   "outputs": [
    {
     "ename": "ValueError",
     "evalue": "With n_samples=0, test_size=0.25 and train_size=None, the resulting train set will be empty. Adjust any of the aforementioned parameters.",
     "output_type": "error",
     "traceback": [
      "\u001b[1;31m---------------------------------------------------------------------------\u001b[0m",
      "\u001b[1;31mValueError\u001b[0m                                Traceback (most recent call last)",
      "\u001b[1;32m<ipython-input-91-f19984ee4911>\u001b[0m in \u001b[0;36m<module>\u001b[1;34m\u001b[0m\n\u001b[0;32m      8\u001b[0m \u001b[1;33m\u001b[0m\u001b[0m\n\u001b[0;32m      9\u001b[0m X_train, X_valid, y_train, y_valid = train_test_split(\n\u001b[1;32m---> 10\u001b[1;33m     X, y, test_size=0.25, random_state=42)\n\u001b[0m",
      "\u001b[1;32m~\\AppData\\Roaming\\Python\\Python37\\site-packages\\sklearn\\model_selection\\_split.py\u001b[0m in \u001b[0;36mtrain_test_split\u001b[1;34m(*arrays, **options)\u001b[0m\n\u001b[0;32m   2120\u001b[0m     \u001b[0mn_samples\u001b[0m \u001b[1;33m=\u001b[0m \u001b[0m_num_samples\u001b[0m\u001b[1;33m(\u001b[0m\u001b[0marrays\u001b[0m\u001b[1;33m[\u001b[0m\u001b[1;36m0\u001b[0m\u001b[1;33m]\u001b[0m\u001b[1;33m)\u001b[0m\u001b[1;33m\u001b[0m\u001b[1;33m\u001b[0m\u001b[0m\n\u001b[0;32m   2121\u001b[0m     n_train, n_test = _validate_shuffle_split(n_samples, test_size, train_size,\n\u001b[1;32m-> 2122\u001b[1;33m                                               default_test_size=0.25)\n\u001b[0m\u001b[0;32m   2123\u001b[0m \u001b[1;33m\u001b[0m\u001b[0m\n\u001b[0;32m   2124\u001b[0m     \u001b[1;32mif\u001b[0m \u001b[0mshuffle\u001b[0m \u001b[1;32mis\u001b[0m \u001b[1;32mFalse\u001b[0m\u001b[1;33m:\u001b[0m\u001b[1;33m\u001b[0m\u001b[1;33m\u001b[0m\u001b[0m\n",
      "\u001b[1;32m~\\AppData\\Roaming\\Python\\Python37\\site-packages\\sklearn\\model_selection\\_split.py\u001b[0m in \u001b[0;36m_validate_shuffle_split\u001b[1;34m(n_samples, test_size, train_size, default_test_size)\u001b[0m\n\u001b[0;32m   1803\u001b[0m             \u001b[1;34m'resulting train set will be empty. Adjust any of the '\u001b[0m\u001b[1;33m\u001b[0m\u001b[1;33m\u001b[0m\u001b[0m\n\u001b[0;32m   1804\u001b[0m             'aforementioned parameters.'.format(n_samples, test_size,\n\u001b[1;32m-> 1805\u001b[1;33m                                                 train_size)\n\u001b[0m\u001b[0;32m   1806\u001b[0m         )\n\u001b[0;32m   1807\u001b[0m \u001b[1;33m\u001b[0m\u001b[0m\n",
      "\u001b[1;31mValueError\u001b[0m: With n_samples=0, test_size=0.25 and train_size=None, the resulting train set will be empty. Adjust any of the aforementioned parameters."
     ]
    }
   ],
   "source": [
    "clus3 = df1[(df1['mapping'] == 3)]# |(df1['mapping'] == 2) ]\n",
    "clus3 = clus3[clus3.Gross_gal.between(clus3.Gross_gal.quantile(.000), clus3.Gross_gal.quantile(.95))] # without outliers\n",
    "\n",
    "X = clus3.drop(['Dep_dt','Gross_gal', 'Enroute_gal','Alt_gal', 'Cont_gal', 'Tanker_gal', 'pairs','ACTL_TM_IN_CENT',\n",
    "       'ACTL_TM_OUT_CENT','Actl_BM', 'cluster_euclid', 'cluster_cosine'], axis=1)\n",
    "y = clus3.Gross_gal\n",
    "feature_names = X.columns.tolist()\n",
    "\n",
    "X_train, X_valid, y_train, y_valid = train_test_split(\n",
    "    X, y, test_size=0.25, random_state=42)"
   ]
  },
  {
   "cell_type": "code",
   "execution_count": null,
   "metadata": {},
   "outputs": [],
   "source": [
    "params_cluster3 = best_parameters(X_train,y_train)\n",
    "params_cluster3"
   ]
  },
  {
   "cell_type": "code",
   "execution_count": null,
   "metadata": {},
   "outputs": [],
   "source": [
    "ada2=AdaBoostRegressor(n_estimators=100,learning_rate=0.01,random_state=1)\n",
    "ada2.fit(X_train, y_train)\n",
    "pred = ada2.predict(X_valid)\n",
    "rmse = np.sqrt(mean_squared_error(y_valid, pred))\n",
    "\n",
    "fea_imp = pd.DataFrame({'imp': ada2.feature_importances_, 'col': X_train.columns})\n",
    "fea_imp = fea_imp.sort_values(['imp', 'col'], ascending=[True, False]).iloc[-30:]\n",
    "fea_imp.plot(kind='barh', x='col', y='imp', figsize=(10, 7), legend=None)\n",
    "plt.title('AdaBoost - Feature Importance')\n",
    "plt.ylabel('Features')\n",
    "plt.xlabel('Importance');"
   ]
  },
  {
   "cell_type": "code",
   "execution_count": null,
   "metadata": {},
   "outputs": [],
   "source": [
    "a3 = DataFrame(pred)\n",
    "a3['y_valid'] = y_valid.reset_index()['Gross_gal']\n",
    "\n",
    "a3['prediction'] = a3[0]\n",
    "a3.drop([0], axis = 1, inplace = True)\n",
    "X_valid.reset_index(inplace = True)\n",
    "valid3 = pd.concat([X_valid, a3], axis=1)\n",
    "gb3 = valid3.groupby(['year_month']).sum()\n",
    "gb3['diff'] = abs(gb3['y_valid'] - gb3['prediction'])\n",
    "gb_new3 = gb3.sort_values(by = ['year_month'])\n",
    "gb_new3['percent_off'] = gb_new3['diff'] / gb3['y_valid']\n",
    "gb_new3.head()"
   ]
  },
  {
   "cell_type": "code",
   "execution_count": null,
   "metadata": {},
   "outputs": [],
   "source": []
  },
  {
   "cell_type": "markdown",
   "metadata": {},
   "source": [
    "### Cluster 4"
   ]
  },
  {
   "cell_type": "code",
   "execution_count": 99,
   "metadata": {},
   "outputs": [],
   "source": [
    "clus4 = df1[(df1['mapping'] == 4) ]# |(df1['mapping'] == 2) ]\n",
    "clus4 = clus4[clus4.Gross_gal.between(clus4.Gross_gal.quantile(.000), clus4.Gross_gal.quantile(.95))] # without outliers\n",
    "\n",
    "X = clus4.drop(['Dep_dt','Gross_gal', 'Enroute_gal','Alt_gal', 'Cont_gal', 'Tanker_gal', 'pairs','ACTL_TM_IN_CENT',\n",
    "       'ACTL_TM_OUT_CENT','Actl_BM', 'cluster_euclid', 'cluster_cosine'], axis=1)\n",
    "y = clus4.Gross_gal\n",
    "feature_names = X.columns.tolist()\n",
    "\n",
    "X_train, X_valid, y_train, y_valid = train_test_split(\n",
    "    X, y, test_size=0.25, random_state=42)"
   ]
  },
  {
   "cell_type": "code",
   "execution_count": 96,
   "metadata": {},
   "outputs": [
    {
     "data": {
      "text/plain": [
       "{'learning_rate': 0.01, 'loss': 'square', 'n_estimators': 100}"
      ]
     },
     "execution_count": 96,
     "metadata": {},
     "output_type": "execute_result"
    }
   ],
   "source": [
    "params_cluster4 = best_parameters(X_train,y_train)\n",
    "params_cluster4"
   ]
  },
  {
   "cell_type": "code",
   "execution_count": 100,
   "metadata": {},
   "outputs": [
    {
     "data": {
      "image/png": "[encoded data removed]",
      "text/plain": [
       "<Figure size 720x504 with 1 Axes>"
      ]
     },
     "metadata": {
      "needs_background": "light"
     },
     "output_type": "display_data"
    }
   ],
   "source": [
    "ada2=AdaBoostRegressor(n_estimators=100,learning_rate=0.01,random_state=1)\n",
    "ada2.fit(X_train, y_train)\n",
    "pred = ada2.predict(X_valid)\n",
    "rmse = np.sqrt(mean_squared_error(y_valid, pred))\n",
    "\n",
    "fea_imp = pd.DataFrame({'imp': ada2.feature_importances_, 'col': X_valid.columns})\n",
    "fea_imp = fea_imp.sort_values(['imp', 'col'], ascending=[True, False]).iloc[-30:]\n",
    "fea_imp.plot(kind='barh', x='col', y='imp', figsize=(10, 7), legend=None)\n",
    "plt.title('AdaBoost - Feature Importance')\n",
    "plt.ylabel('Features')\n",
    "plt.xlabel('Importance');"
   ]
  },
  {
   "cell_type": "code",
   "execution_count": 101,
   "metadata": {},
   "outputs": [
    {
     "data": {
      "text/html": [
       "<div>\n",
       "<style scoped>\n",
       "    .dataframe tbody tr th:only-of-type {\n",
       "        vertical-align: middle;\n",
       "    }\n",
       "\n",
       "    .dataframe tbody tr th {\n",
       "        vertical-align: top;\n",
       "    }\n",
       "\n",
       "    .dataframe thead th {\n",
       "        text-align: right;\n",
       "    }\n",
       "</style>\n",
       "<table border=\"1\" class=\"dataframe\">\n",
       "  <thead>\n",
       "    <tr style=\"text-align: right;\">\n",
       "      <th></th>\n",
       "      <th>index</th>\n",
       "      <th>Orig</th>\n",
       "      <th>Dest</th>\n",
       "      <th>Tail</th>\n",
       "      <th>Stage_length</th>\n",
       "      <th>ACFT</th>\n",
       "      <th>Hashed_Fuel_Price</th>\n",
       "      <th>mapping</th>\n",
       "      <th>top_50</th>\n",
       "      <th>hour_out</th>\n",
       "      <th>hour_in</th>\n",
       "      <th>month</th>\n",
       "      <th>day_of_week</th>\n",
       "      <th>y_valid</th>\n",
       "      <th>prediction</th>\n",
       "      <th>diff</th>\n",
       "      <th>percent_off</th>\n",
       "    </tr>\n",
       "    <tr>\n",
       "      <th>year_month</th>\n",
       "      <th></th>\n",
       "      <th></th>\n",
       "      <th></th>\n",
       "      <th></th>\n",
       "      <th></th>\n",
       "      <th></th>\n",
       "      <th></th>\n",
       "      <th></th>\n",
       "      <th></th>\n",
       "      <th></th>\n",
       "      <th></th>\n",
       "      <th></th>\n",
       "      <th></th>\n",
       "      <th></th>\n",
       "      <th></th>\n",
       "      <th></th>\n",
       "      <th></th>\n",
       "    </tr>\n",
       "  </thead>\n",
       "  <tbody>\n",
       "    <tr>\n",
       "      <th>0</th>\n",
       "      <td>5881153533</td>\n",
       "      <td>134540</td>\n",
       "      <td>239588</td>\n",
       "      <td>1162052</td>\n",
       "      <td>1720878</td>\n",
       "      <td>2825</td>\n",
       "      <td>6459.8020</td>\n",
       "      <td>12240</td>\n",
       "      <td>237</td>\n",
       "      <td>42232</td>\n",
       "      <td>47037</td>\n",
       "      <td>24480</td>\n",
       "      <td>9088</td>\n",
       "      <td>3062638.2</td>\n",
       "      <td>2.966359e+06</td>\n",
       "      <td>96278.790443</td>\n",
       "      <td>0.031437</td>\n",
       "    </tr>\n",
       "    <tr>\n",
       "      <th>1</th>\n",
       "      <td>6699369108</td>\n",
       "      <td>155300</td>\n",
       "      <td>269988</td>\n",
       "      <td>1304251</td>\n",
       "      <td>1921726</td>\n",
       "      <td>3139</td>\n",
       "      <td>7045.2197</td>\n",
       "      <td>13692</td>\n",
       "      <td>295</td>\n",
       "      <td>46489</td>\n",
       "      <td>51854</td>\n",
       "      <td>30807</td>\n",
       "      <td>9729</td>\n",
       "      <td>3352922.1</td>\n",
       "      <td>3.316076e+06</td>\n",
       "      <td>36845.859735</td>\n",
       "      <td>0.010989</td>\n",
       "    </tr>\n",
       "    <tr>\n",
       "      <th>2</th>\n",
       "      <td>6634872919</td>\n",
       "      <td>152141</td>\n",
       "      <td>258223</td>\n",
       "      <td>1255902</td>\n",
       "      <td>1895795</td>\n",
       "      <td>3040</td>\n",
       "      <td>7060.7598</td>\n",
       "      <td>13296</td>\n",
       "      <td>268</td>\n",
       "      <td>45997</td>\n",
       "      <td>51148</td>\n",
       "      <td>33240</td>\n",
       "      <td>9622</td>\n",
       "      <td>3146389.2</td>\n",
       "      <td>3.233739e+06</td>\n",
       "      <td>87349.841762</td>\n",
       "      <td>0.027762</td>\n",
       "    </tr>\n",
       "    <tr>\n",
       "      <th>3</th>\n",
       "      <td>6542172912</td>\n",
       "      <td>152420</td>\n",
       "      <td>254531</td>\n",
       "      <td>1266033</td>\n",
       "      <td>1887758</td>\n",
       "      <td>3066</td>\n",
       "      <td>7312.5414</td>\n",
       "      <td>13304</td>\n",
       "      <td>263</td>\n",
       "      <td>46279</td>\n",
       "      <td>51525</td>\n",
       "      <td>36586</td>\n",
       "      <td>10138</td>\n",
       "      <td>3180928.0</td>\n",
       "      <td>3.234790e+06</td>\n",
       "      <td>53861.871240</td>\n",
       "      <td>0.016933</td>\n",
       "    </tr>\n",
       "    <tr>\n",
       "      <th>4</th>\n",
       "      <td>6471119714</td>\n",
       "      <td>150305</td>\n",
       "      <td>259525</td>\n",
       "      <td>1243775</td>\n",
       "      <td>1824770</td>\n",
       "      <td>2961</td>\n",
       "      <td>7795.3739</td>\n",
       "      <td>13092</td>\n",
       "      <td>279</td>\n",
       "      <td>44233</td>\n",
       "      <td>49374</td>\n",
       "      <td>0</td>\n",
       "      <td>8761</td>\n",
       "      <td>3110808.2</td>\n",
       "      <td>3.145638e+06</td>\n",
       "      <td>34829.838816</td>\n",
       "      <td>0.011196</td>\n",
       "    </tr>\n",
       "  </tbody>\n",
       "</table>\n",
       "</div>"
      ],
      "text/plain": [
       "                 index    Orig    Dest     Tail  Stage_length  ACFT  \\\n",
       "year_month                                                            \n",
       "0           5881153533  134540  239588  1162052       1720878  2825   \n",
       "1           6699369108  155300  269988  1304251       1921726  3139   \n",
       "2           6634872919  152141  258223  1255902       1895795  3040   \n",
       "3           6542172912  152420  254531  1266033       1887758  3066   \n",
       "4           6471119714  150305  259525  1243775       1824770  2961   \n",
       "\n",
       "            Hashed_Fuel_Price  mapping  top_50  hour_out  hour_in  month  \\\n",
       "year_month                                                                 \n",
       "0                   6459.8020    12240     237     42232    47037  24480   \n",
       "1                   7045.2197    13692     295     46489    51854  30807   \n",
       "2                   7060.7598    13296     268     45997    51148  33240   \n",
       "3                   7312.5414    13304     263     46279    51525  36586   \n",
       "4                   7795.3739    13092     279     44233    49374      0   \n",
       "\n",
       "            day_of_week    y_valid    prediction          diff  percent_off  \n",
       "year_month                                                                   \n",
       "0                  9088  3062638.2  2.966359e+06  96278.790443     0.031437  \n",
       "1                  9729  3352922.1  3.316076e+06  36845.859735     0.010989  \n",
       "2                  9622  3146389.2  3.233739e+06  87349.841762     0.027762  \n",
       "3                 10138  3180928.0  3.234790e+06  53861.871240     0.016933  \n",
       "4                  8761  3110808.2  3.145638e+06  34829.838816     0.011196  "
      ]
     },
     "execution_count": 101,
     "metadata": {},
     "output_type": "execute_result"
    }
   ],
   "source": [
    "a4 = DataFrame(pred)\n",
    "a4['y_valid'] = y_valid.reset_index()['Gross_gal']\n",
    "\n",
    "a4['prediction'] = a4[0]\n",
    "a4.drop([0], axis = 1, inplace = True)\n",
    "X_valid.reset_index(inplace = True)\n",
    "valid4 = pd.concat([X_valid, a4], axis=1)\n",
    "gb4 = valid4.groupby(['year_month']).sum()\n",
    "gb4['diff'] = abs(gb4['y_valid'] - gb4['prediction'])\n",
    "gb_new4 = gb4.sort_values(by = ['year_month'])\n",
    "gb_new4['percent_off'] = gb_new4['diff'] / gb4['y_valid']\n",
    "gb_new4.head()"
   ]
  },
  {
   "cell_type": "code",
   "execution_count": 102,
   "metadata": {},
   "outputs": [
    {
     "data": {
      "text/plain": [
       "0.04700666371074179"
      ]
     },
     "execution_count": 102,
     "metadata": {},
     "output_type": "execute_result"
    }
   ],
   "source": [
    "gb_new4['percent_off'].mean()"
   ]
  },
  {
   "cell_type": "code",
   "execution_count": null,
   "metadata": {},
   "outputs": [],
   "source": []
  },
  {
   "cell_type": "markdown",
   "metadata": {},
   "source": [
    "### Cluster 5"
   ]
  },
  {
   "cell_type": "code",
   "execution_count": 103,
   "metadata": {},
   "outputs": [],
   "source": [
    "clus5 = df1[(df1['mapping'] == 5) ]# |(df1['mapping'] == 2) ]\n",
    "clus5 = clus5[clus5.Gross_gal.between(clus5.Gross_gal.quantile(.000), clus5.Gross_gal.quantile(.95))] # without outliers\n",
    "\n",
    "X = clus5.drop(['Dep_dt','Gross_gal', 'Enroute_gal','Alt_gal', 'Cont_gal', 'Tanker_gal', 'pairs','ACTL_TM_IN_CENT',\n",
    "       'ACTL_TM_OUT_CENT','Actl_BM', 'cluster_euclid', 'cluster_cosine'], axis=1)\n",
    "y = clus5.Gross_gal\n",
    "feature_names = X.columns.tolist()\n",
    "\n",
    "X_train, X_valid, y_train, y_valid = train_test_split(\n",
    "    X, y, test_size=0.25, random_state=42)"
   ]
  },
  {
   "cell_type": "code",
   "execution_count": 104,
   "metadata": {},
   "outputs": [
    {
     "data": {
      "text/plain": [
       "{'learning_rate': 0.01, 'loss': 'square', 'n_estimators': 50}"
      ]
     },
     "execution_count": 104,
     "metadata": {},
     "output_type": "execute_result"
    }
   ],
   "source": [
    "params_cluster5 = best_parameters(X_train,y_train)\n",
    "params_cluster5"
   ]
  },
  {
   "cell_type": "code",
   "execution_count": 105,
   "metadata": {},
   "outputs": [
    {
     "data": {
      "image/png": "[encoded data removed]",
      "text/plain": [
       "<Figure size 720x504 with 1 Axes>"
      ]
     },
     "metadata": {
      "needs_background": "light"
     },
     "output_type": "display_data"
    }
   ],
   "source": [
    "ada2=AdaBoostRegressor(n_estimators=50,learning_rate=0.01,random_state=1)\n",
    "ada2.fit(X_train, y_train)\n",
    "pred = ada2.predict(X_valid)\n",
    "rmse = np.sqrt(mean_squared_error(y_valid, pred))\n",
    "\n",
    "fea_imp = pd.DataFrame({'imp': ada2.feature_importances_, 'col': X_valid.columns})\n",
    "fea_imp = fea_imp.sort_values(['imp', 'col'], ascending=[True, False]).iloc[-30:]\n",
    "fea_imp.plot(kind='barh', x='col', y='imp', figsize=(10, 7), legend=None)\n",
    "plt.title('AdaBoost - Feature Importance')\n",
    "plt.ylabel('Features')\n",
    "plt.xlabel('Importance');"
   ]
  },
  {
   "cell_type": "code",
   "execution_count": 107,
   "metadata": {},
   "outputs": [
    {
     "data": {
      "text/html": [
       "<div>\n",
       "<style scoped>\n",
       "    .dataframe tbody tr th:only-of-type {\n",
       "        vertical-align: middle;\n",
       "    }\n",
       "\n",
       "    .dataframe tbody tr th {\n",
       "        vertical-align: top;\n",
       "    }\n",
       "\n",
       "    .dataframe thead th {\n",
       "        text-align: right;\n",
       "    }\n",
       "</style>\n",
       "<table border=\"1\" class=\"dataframe\">\n",
       "  <thead>\n",
       "    <tr style=\"text-align: right;\">\n",
       "      <th></th>\n",
       "      <th>index</th>\n",
       "      <th>Orig</th>\n",
       "      <th>Dest</th>\n",
       "      <th>Tail</th>\n",
       "      <th>Stage_length</th>\n",
       "      <th>ACFT</th>\n",
       "      <th>Hashed_Fuel_Price</th>\n",
       "      <th>mapping</th>\n",
       "      <th>top_50</th>\n",
       "      <th>hour_out</th>\n",
       "      <th>hour_in</th>\n",
       "      <th>month</th>\n",
       "      <th>day_of_week</th>\n",
       "      <th>y_valid</th>\n",
       "      <th>prediction</th>\n",
       "      <th>diff</th>\n",
       "      <th>percent_off</th>\n",
       "    </tr>\n",
       "    <tr>\n",
       "      <th>year_month</th>\n",
       "      <th></th>\n",
       "      <th></th>\n",
       "      <th></th>\n",
       "      <th></th>\n",
       "      <th></th>\n",
       "      <th></th>\n",
       "      <th></th>\n",
       "      <th></th>\n",
       "      <th></th>\n",
       "      <th></th>\n",
       "      <th></th>\n",
       "      <th></th>\n",
       "      <th></th>\n",
       "      <th></th>\n",
       "      <th></th>\n",
       "      <th></th>\n",
       "      <th></th>\n",
       "    </tr>\n",
       "  </thead>\n",
       "  <tbody>\n",
       "    <tr>\n",
       "      <th>0</th>\n",
       "      <td>200874396</td>\n",
       "      <td>3612</td>\n",
       "      <td>4829</td>\n",
       "      <td>26884</td>\n",
       "      <td>18317</td>\n",
       "      <td>48</td>\n",
       "      <td>148.4446</td>\n",
       "      <td>320</td>\n",
       "      <td>0</td>\n",
       "      <td>826</td>\n",
       "      <td>893</td>\n",
       "      <td>512</td>\n",
       "      <td>177</td>\n",
       "      <td>26182.5</td>\n",
       "      <td>19636.433555</td>\n",
       "      <td>6546.066445</td>\n",
       "      <td>0.250017</td>\n",
       "    </tr>\n",
       "    <tr>\n",
       "      <th>1</th>\n",
       "      <td>357934204</td>\n",
       "      <td>6153</td>\n",
       "      <td>8440</td>\n",
       "      <td>42583</td>\n",
       "      <td>30335</td>\n",
       "      <td>89</td>\n",
       "      <td>242.9520</td>\n",
       "      <td>570</td>\n",
       "      <td>0</td>\n",
       "      <td>1398</td>\n",
       "      <td>1513</td>\n",
       "      <td>1026</td>\n",
       "      <td>286</td>\n",
       "      <td>28548.7</td>\n",
       "      <td>36425.884532</td>\n",
       "      <td>7877.184532</td>\n",
       "      <td>0.275921</td>\n",
       "    </tr>\n",
       "    <tr>\n",
       "      <th>2</th>\n",
       "      <td>288406378</td>\n",
       "      <td>5142</td>\n",
       "      <td>6489</td>\n",
       "      <td>35631</td>\n",
       "      <td>25813</td>\n",
       "      <td>72</td>\n",
       "      <td>199.4434</td>\n",
       "      <td>460</td>\n",
       "      <td>0</td>\n",
       "      <td>1206</td>\n",
       "      <td>1300</td>\n",
       "      <td>920</td>\n",
       "      <td>288</td>\n",
       "      <td>26688.4</td>\n",
       "      <td>29384.029866</td>\n",
       "      <td>2695.629866</td>\n",
       "      <td>0.101004</td>\n",
       "    </tr>\n",
       "    <tr>\n",
       "      <th>3</th>\n",
       "      <td>270326656</td>\n",
       "      <td>4671</td>\n",
       "      <td>6156</td>\n",
       "      <td>35224</td>\n",
       "      <td>24113</td>\n",
       "      <td>64</td>\n",
       "      <td>196.3691</td>\n",
       "      <td>430</td>\n",
       "      <td>0</td>\n",
       "      <td>1132</td>\n",
       "      <td>1226</td>\n",
       "      <td>946</td>\n",
       "      <td>273</td>\n",
       "      <td>29206.9</td>\n",
       "      <td>27460.994696</td>\n",
       "      <td>1745.905304</td>\n",
       "      <td>0.059777</td>\n",
       "    </tr>\n",
       "    <tr>\n",
       "      <th>4</th>\n",
       "      <td>310951401</td>\n",
       "      <td>5679</td>\n",
       "      <td>7297</td>\n",
       "      <td>34835</td>\n",
       "      <td>26693</td>\n",
       "      <td>74</td>\n",
       "      <td>241.5198</td>\n",
       "      <td>495</td>\n",
       "      <td>0</td>\n",
       "      <td>1257</td>\n",
       "      <td>1364</td>\n",
       "      <td>0</td>\n",
       "      <td>278</td>\n",
       "      <td>24113.5</td>\n",
       "      <td>27389.783274</td>\n",
       "      <td>3276.283274</td>\n",
       "      <td>0.135869</td>\n",
       "    </tr>\n",
       "  </tbody>\n",
       "</table>\n",
       "</div>"
      ],
      "text/plain": [
       "                index  Orig  Dest   Tail  Stage_length  ACFT  \\\n",
       "year_month                                                     \n",
       "0           200874396  3612  4829  26884         18317    48   \n",
       "1           357934204  6153  8440  42583         30335    89   \n",
       "2           288406378  5142  6489  35631         25813    72   \n",
       "3           270326656  4671  6156  35224         24113    64   \n",
       "4           310951401  5679  7297  34835         26693    74   \n",
       "\n",
       "            Hashed_Fuel_Price  mapping  top_50  hour_out  hour_in  month  \\\n",
       "year_month                                                                 \n",
       "0                    148.4446      320       0       826      893    512   \n",
       "1                    242.9520      570       0      1398     1513   1026   \n",
       "2                    199.4434      460       0      1206     1300    920   \n",
       "3                    196.3691      430       0      1132     1226    946   \n",
       "4                    241.5198      495       0      1257     1364      0   \n",
       "\n",
       "            day_of_week  y_valid    prediction         diff  percent_off  \n",
       "year_month                                                                \n",
       "0                   177  26182.5  19636.433555  6546.066445     0.250017  \n",
       "1                   286  28548.7  36425.884532  7877.184532     0.275921  \n",
       "2                   288  26688.4  29384.029866  2695.629866     0.101004  \n",
       "3                   273  29206.9  27460.994696  1745.905304     0.059777  \n",
       "4                   278  24113.5  27389.783274  3276.283274     0.135869  "
      ]
     },
     "execution_count": 107,
     "metadata": {},
     "output_type": "execute_result"
    }
   ],
   "source": [
    "a5 = DataFrame(pred)\n",
    "a5['y_valid'] = y_valid.reset_index()['Gross_gal']\n",
    "\n",
    "a5['prediction'] = a5[0]\n",
    "a5.drop([0], axis = 1, inplace = True)\n",
    "X_valid.reset_index(inplace = True)\n",
    "valid5 = pd.concat([X_valid, a5], axis=1)\n",
    "gb5 = valid5.groupby(['year_month']).sum()\n",
    "gb5['diff'] = abs(gb5['y_valid'] - gb5['prediction'])\n",
    "gb_new5 = gb5.sort_values(by = ['year_month'])\n",
    "gb_new5['percent_off'] = gb_new5['diff'] / gb5['y_valid']\n",
    "gb_new5.head()"
   ]
  },
  {
   "cell_type": "code",
   "execution_count": 108,
   "metadata": {},
   "outputs": [
    {
     "data": {
      "text/plain": [
       "0.222578318338625"
      ]
     },
     "execution_count": 108,
     "metadata": {},
     "output_type": "execute_result"
    }
   ],
   "source": [
    "gb_new5['percent_off'].mean()"
   ]
  },
  {
   "cell_type": "code",
   "execution_count": null,
   "metadata": {},
   "outputs": [],
   "source": []
  },
  {
   "cell_type": "markdown",
   "metadata": {},
   "source": [
    "### Cluster 6"
   ]
  },
  {
   "cell_type": "code",
   "execution_count": 109,
   "metadata": {},
   "outputs": [],
   "source": [
    "clus6 = df1[(df1['mapping'] == 6) ]# |(df1['mapping'] == 2) ]\n",
    "clus6 = clus6[clus6.Gross_gal.between(clus6.Gross_gal.quantile(.000), clus6.Gross_gal.quantile(.95))] # without outliers\n",
    "\n",
    "X = clus6.drop(['Dep_dt','Gross_gal', 'Enroute_gal','Alt_gal', 'Cont_gal', 'Tanker_gal', 'pairs','ACTL_TM_IN_CENT',\n",
    "       'ACTL_TM_OUT_CENT','Actl_BM', 'cluster_euclid', 'cluster_cosine'], axis=1)\n",
    "y = clus6.Gross_gal\n",
    "feature_names = X.columns.tolist()\n",
    "\n",
    "X_train, X_valid, y_train, y_valid = train_test_split(\n",
    "    X, y, test_size=0.25, random_state=42)"
   ]
  },
  {
   "cell_type": "code",
   "execution_count": 110,
   "metadata": {},
   "outputs": [
    {
     "data": {
      "text/plain": [
       "{'learning_rate': 0.01, 'loss': 'square', 'n_estimators': 50}"
      ]
     },
     "execution_count": 110,
     "metadata": {},
     "output_type": "execute_result"
    }
   ],
   "source": [
    "params_cluster6 = best_parameters(X_train,y_train)\n",
    "params_cluster6"
   ]
  },
  {
   "cell_type": "code",
   "execution_count": 111,
   "metadata": {},
   "outputs": [
    {
     "data": {
      "image/png": "[encoded data removed]",
      "text/plain": [
       "<Figure size 720x504 with 1 Axes>"
      ]
     },
     "metadata": {
      "needs_background": "light"
     },
     "output_type": "display_data"
    }
   ],
   "source": [
    "ada2=AdaBoostRegressor(n_estimators=50,learning_rate=0.01,random_state=1)\n",
    "ada2.fit(X_train, y_train)\n",
    "pred = ada2.predict(X_valid)\n",
    "rmse = np.sqrt(mean_squared_error(y_valid, pred))\n",
    "\n",
    "fea_imp = pd.DataFrame({'imp': ada2.feature_importances_, 'col': X_valid.columns})\n",
    "fea_imp = fea_imp.sort_values(['imp', 'col'], ascending=[True, False]).iloc[-30:]\n",
    "fea_imp.plot(kind='barh', x='col', y='imp', figsize=(10, 7), legend=None)\n",
    "plt.title('AdaBoost - Feature Importance')\n",
    "plt.ylabel('Features')\n",
    "plt.xlabel('Importance');"
   ]
  },
  {
   "cell_type": "code",
   "execution_count": 112,
   "metadata": {},
   "outputs": [
    {
     "data": {
      "text/html": [
       "<div>\n",
       "<style scoped>\n",
       "    .dataframe tbody tr th:only-of-type {\n",
       "        vertical-align: middle;\n",
       "    }\n",
       "\n",
       "    .dataframe tbody tr th {\n",
       "        vertical-align: top;\n",
       "    }\n",
       "\n",
       "    .dataframe thead th {\n",
       "        text-align: right;\n",
       "    }\n",
       "</style>\n",
       "<table border=\"1\" class=\"dataframe\">\n",
       "  <thead>\n",
       "    <tr style=\"text-align: right;\">\n",
       "      <th></th>\n",
       "      <th>index</th>\n",
       "      <th>Orig</th>\n",
       "      <th>Dest</th>\n",
       "      <th>Tail</th>\n",
       "      <th>Stage_length</th>\n",
       "      <th>ACFT</th>\n",
       "      <th>Hashed_Fuel_Price</th>\n",
       "      <th>mapping</th>\n",
       "      <th>top_50</th>\n",
       "      <th>hour_out</th>\n",
       "      <th>hour_in</th>\n",
       "      <th>month</th>\n",
       "      <th>day_of_week</th>\n",
       "      <th>y_valid</th>\n",
       "      <th>prediction</th>\n",
       "      <th>diff</th>\n",
       "      <th>percent_off</th>\n",
       "    </tr>\n",
       "    <tr>\n",
       "      <th>year_month</th>\n",
       "      <th></th>\n",
       "      <th></th>\n",
       "      <th></th>\n",
       "      <th></th>\n",
       "      <th></th>\n",
       "      <th></th>\n",
       "      <th></th>\n",
       "      <th></th>\n",
       "      <th></th>\n",
       "      <th></th>\n",
       "      <th></th>\n",
       "      <th></th>\n",
       "      <th></th>\n",
       "      <th></th>\n",
       "      <th></th>\n",
       "      <th></th>\n",
       "      <th></th>\n",
       "    </tr>\n",
       "  </thead>\n",
       "  <tbody>\n",
       "    <tr>\n",
       "      <th>0</th>\n",
       "      <td>12473169834</td>\n",
       "      <td>464576</td>\n",
       "      <td>733763</td>\n",
       "      <td>3695314</td>\n",
       "      <td>7441612</td>\n",
       "      <td>7723</td>\n",
       "      <td>21028.3647</td>\n",
       "      <td>58620</td>\n",
       "      <td>1325</td>\n",
       "      <td>135830</td>\n",
       "      <td>154900</td>\n",
       "      <td>78160</td>\n",
       "      <td>29203</td>\n",
       "      <td>12417758.9</td>\n",
       "      <td>1.273922e+07</td>\n",
       "      <td>3.214652e+05</td>\n",
       "      <td>0.025888</td>\n",
       "    </tr>\n",
       "    <tr>\n",
       "      <th>1</th>\n",
       "      <td>14157275838</td>\n",
       "      <td>521159</td>\n",
       "      <td>829088</td>\n",
       "      <td>4179653</td>\n",
       "      <td>8180688</td>\n",
       "      <td>8886</td>\n",
       "      <td>22896.3455</td>\n",
       "      <td>66252</td>\n",
       "      <td>1530</td>\n",
       "      <td>151869</td>\n",
       "      <td>173065</td>\n",
       "      <td>99378</td>\n",
       "      <td>31469</td>\n",
       "      <td>13759598.9</td>\n",
       "      <td>1.415949e+07</td>\n",
       "      <td>3.998959e+05</td>\n",
       "      <td>0.029063</td>\n",
       "    </tr>\n",
       "    <tr>\n",
       "      <th>2</th>\n",
       "      <td>13537728552</td>\n",
       "      <td>497659</td>\n",
       "      <td>795554</td>\n",
       "      <td>4059668</td>\n",
       "      <td>8069202</td>\n",
       "      <td>8619</td>\n",
       "      <td>22853.5202</td>\n",
       "      <td>64002</td>\n",
       "      <td>1371</td>\n",
       "      <td>147872</td>\n",
       "      <td>168460</td>\n",
       "      <td>106670</td>\n",
       "      <td>30880</td>\n",
       "      <td>13148937.2</td>\n",
       "      <td>1.388952e+07</td>\n",
       "      <td>7.405867e+05</td>\n",
       "      <td>0.056323</td>\n",
       "    </tr>\n",
       "    <tr>\n",
       "      <th>3</th>\n",
       "      <td>13790710310</td>\n",
       "      <td>503946</td>\n",
       "      <td>802897</td>\n",
       "      <td>4114179</td>\n",
       "      <td>8107471</td>\n",
       "      <td>8624</td>\n",
       "      <td>23893.7248</td>\n",
       "      <td>64620</td>\n",
       "      <td>1350</td>\n",
       "      <td>149933</td>\n",
       "      <td>170861</td>\n",
       "      <td>118470</td>\n",
       "      <td>33362</td>\n",
       "      <td>13283657.4</td>\n",
       "      <td>1.401472e+07</td>\n",
       "      <td>7.310659e+05</td>\n",
       "      <td>0.055035</td>\n",
       "    </tr>\n",
       "    <tr>\n",
       "      <th>4</th>\n",
       "      <td>13564024211</td>\n",
       "      <td>497632</td>\n",
       "      <td>786799</td>\n",
       "      <td>4064868</td>\n",
       "      <td>8075879</td>\n",
       "      <td>8351</td>\n",
       "      <td>25615.5015</td>\n",
       "      <td>64050</td>\n",
       "      <td>1415</td>\n",
       "      <td>147835</td>\n",
       "      <td>168833</td>\n",
       "      <td>0</td>\n",
       "      <td>28412</td>\n",
       "      <td>12771929.9</td>\n",
       "      <td>1.390720e+07</td>\n",
       "      <td>1.135269e+06</td>\n",
       "      <td>0.088888</td>\n",
       "    </tr>\n",
       "  </tbody>\n",
       "</table>\n",
       "</div>"
      ],
      "text/plain": [
       "                  index    Orig    Dest     Tail  Stage_length  ACFT  \\\n",
       "year_month                                                             \n",
       "0           12473169834  464576  733763  3695314       7441612  7723   \n",
       "1           14157275838  521159  829088  4179653       8180688  8886   \n",
       "2           13537728552  497659  795554  4059668       8069202  8619   \n",
       "3           13790710310  503946  802897  4114179       8107471  8624   \n",
       "4           13564024211  497632  786799  4064868       8075879  8351   \n",
       "\n",
       "            Hashed_Fuel_Price  mapping  top_50  hour_out  hour_in   month  \\\n",
       "year_month                                                                  \n",
       "0                  21028.3647    58620    1325    135830   154900   78160   \n",
       "1                  22896.3455    66252    1530    151869   173065   99378   \n",
       "2                  22853.5202    64002    1371    147872   168460  106670   \n",
       "3                  23893.7248    64620    1350    149933   170861  118470   \n",
       "4                  25615.5015    64050    1415    147835   168833       0   \n",
       "\n",
       "            day_of_week     y_valid    prediction          diff  percent_off  \n",
       "year_month                                                                    \n",
       "0                 29203  12417758.9  1.273922e+07  3.214652e+05     0.025888  \n",
       "1                 31469  13759598.9  1.415949e+07  3.998959e+05     0.029063  \n",
       "2                 30880  13148937.2  1.388952e+07  7.405867e+05     0.056323  \n",
       "3                 33362  13283657.4  1.401472e+07  7.310659e+05     0.055035  \n",
       "4                 28412  12771929.9  1.390720e+07  1.135269e+06     0.088888  "
      ]
     },
     "execution_count": 112,
     "metadata": {},
     "output_type": "execute_result"
    }
   ],
   "source": [
    "a6 = DataFrame(pred)\n",
    "a6['y_valid'] = y_valid.reset_index()['Gross_gal']\n",
    "\n",
    "a6['prediction'] = a6[0]\n",
    "a6.drop([0], axis = 1, inplace = True)\n",
    "X_valid.reset_index(inplace = True)\n",
    "valid6 = pd.concat([X_valid, a6], axis=1)\n",
    "gb6 = valid6.groupby(['year_month']).sum()\n",
    "gb6['diff'] = abs(gb6['y_valid'] - gb6['prediction'])\n",
    "gb_new6 = gb6.sort_values(by = ['year_month'])\n",
    "gb_new6['percent_off'] = gb_new6['diff'] / gb6['y_valid']\n",
    "gb_new6.head()"
   ]
  },
  {
   "cell_type": "code",
   "execution_count": 115,
   "metadata": {},
   "outputs": [
    {
     "data": {
      "text/plain": [
       "0.02841073094246054"
      ]
     },
     "execution_count": 115,
     "metadata": {},
     "output_type": "execute_result"
    }
   ],
   "source": [
    "gb_new6['percent_off'].mean()"
   ]
  },
  {
   "cell_type": "code",
   "execution_count": null,
   "metadata": {},
   "outputs": [],
   "source": []
  }
 ],
 "metadata": {
  "kernelspec": {
   "display_name": "Python 3",
   "language": "python",
   "name": "python3"
  },
  "language_info": {
   "codemirror_mode": {
    "name": "ipython",
    "version": 3
   },
   "file_extension": ".py",
   "mimetype": "text/x-python",
   "name": "python",
   "nbconvert_exporter": "python",
   "pygments_lexer": "ipython3",
   "version": "3.7.3"
  }
 },
 "nbformat": 4,
 "nbformat_minor": 2
}
